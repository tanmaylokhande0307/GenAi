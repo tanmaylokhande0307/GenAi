{
 "cells": [
  {
   "cell_type": "code",
   "execution_count": 12,
   "id": "6434b58d-946a-4cea-8d71-83c14d066f11",
   "metadata": {},
   "outputs": [
    {
     "name": "stdout",
     "output_type": "stream",
     "text": [
      "\u001b[31mERROR: Could not find a version that satisfies the requirement lanchain_core (from versions: none)\u001b[0m\u001b[31m\n",
      "\u001b[0m\u001b[31mERROR: No matching distribution found for lanchain_core\u001b[0m\u001b[31m\n",
      "\u001b[0m\n",
      "\u001b[1m[\u001b[0m\u001b[34;49mnotice\u001b[0m\u001b[1;39;49m]\u001b[0m\u001b[39;49m A new release of pip is available: \u001b[0m\u001b[31;49m23.2.1\u001b[0m\u001b[39;49m -> \u001b[0m\u001b[32;49m24.0\u001b[0m\n",
      "\u001b[1m[\u001b[0m\u001b[34;49mnotice\u001b[0m\u001b[1;39;49m]\u001b[0m\u001b[39;49m To update, run: \u001b[0m\u001b[32;49mpip install --upgrade pip\u001b[0m\n"
     ]
    }
   ],
   "source": [
    "!pip3 install -q python-dotenv langchain lanchain_core"
   ]
  },
  {
   "cell_type": "code",
   "execution_count": 1,
   "id": "ef7eb894-1822-456c-ae82-f8a263723576",
   "metadata": {},
   "outputs": [
    {
     "data": {
      "text/plain": [
       "True"
      ]
     },
     "execution_count": 1,
     "metadata": {},
     "output_type": "execute_result"
    }
   ],
   "source": [
    "from dotenv import load_dotenv\n",
    "import os\n",
    "load_dotenv()"
   ]
  },
  {
   "cell_type": "code",
   "execution_count": 2,
   "id": "7ae85e90-5efc-4851-a9bc-ed536a802721",
   "metadata": {},
   "outputs": [],
   "source": [
    "OPENAI_API_KEY = os.environ.get(\"OPENAI_API_KEY\")"
   ]
  },
  {
   "cell_type": "code",
   "execution_count": 3,
   "id": "4657e7b1-62d2-44fa-9d0d-057a12103362",
   "metadata": {},
   "outputs": [],
   "source": [
    "from langchain_core.output_parsers import StrOutputParser\n",
    "from langchain_core.prompts import ChatPromptTemplate\n",
    "from langchain_openai import ChatOpenAI\n"
   ]
  },
  {
   "cell_type": "code",
   "execution_count": 54,
   "id": "af0889ee-41cf-4059-9d8c-1c526c375040",
   "metadata": {},
   "outputs": [],
   "source": [
    "model = ChatOpenAI(temperature=0,streaming=True)\n",
    "prompt = ChatPromptTemplate.from_template(\"tell me a joke about {topic}. 200 Words\")\n",
    "parser = StrOutputParser()\n",
    "chain = prompt | model | parser\n"
   ]
  },
  {
   "cell_type": "code",
   "execution_count": 52,
   "id": "a758259d-4bf1-4a42-b6fb-cb3d985cd09c",
   "metadata": {},
   "outputs": [
    {
     "name": "stdout",
     "output_type": "stream",
     "text": [
      "Why did the parrot wear a raincoat?\n",
      "\n",
      "Because he wanted to be polyunsaturated!\n",
      "\n",
      "Why did the parrot sit on the clock?\n",
      "\n",
      "Because he wanted to be on \"time\"!\n",
      "\n",
      "Why did the parrot go to the doctor?\n",
      "\n",
      "Because he was feeling a little \"tweet\"!\n",
      "\n",
      "Why did the parrot join the circus?\n",
      "\n",
      "Because he wanted to be a \"bird\" performer!\n",
      "\n",
      "Why did the parrot bring a ladder to the bar?\n",
      "\n",
      "Because he heard the drinks were on the house!\n",
      "\n",
      "Why did the parrot refuse to eat his vegetables?\n",
      "\n",
      "Because he was already stuffed with crackers!\n",
      "\n",
      "Why did the parrot go to school?\n",
      "\n",
      "Because he wanted to be a \"smarty beak\"!\n",
      "\n",
      "Why did the parrot start a band?\n",
      "\n",
      "Because he had a great set of \"tweet\" harmonies!\n",
      "\n",
      "Why did the parrot go to the beach?\n",
      "\n",
      "Because he wanted to soak up some \"sun\"flower seeds!\n",
      "\n",
      "Why did the parrot become a detective?\n",
      "\n",
      "Because he had a knack for \"cracking\" cases!"
     ]
    }
   ],
   "source": [
    "for chain in chain.stream(\"parrot\"):\n",
    "    print(chain,end=\"\",flush=True)"
   ]
  },
  {
   "cell_type": "code",
   "execution_count": 55,
   "id": "6452acb6-b94f-4c56-af41-60f2555703e2",
   "metadata": {},
   "outputs": [
    {
     "name": "stdout",
     "output_type": "stream",
     "text": [
      "Why did the parrot wear a raincoat?\n",
      "\n",
      "Because he wanted to be polyunsaturated!\n",
      "\n",
      "Why did the parrot sit on the clock?\n",
      "\n",
      "Because he wanted to be on \"time\"!\n",
      "\n",
      "Why did the parrot go to the doctor?\n",
      "\n",
      "Because he was feeling a little \"tweet\"!\n",
      "\n",
      "Why did the parrot join the circus?\n",
      "\n",
      "Because he wanted to be a \"bird\" performer!\n",
      "\n",
      "Why did the parrot bring a ladder to the bar?\n",
      "\n",
      "Because he heard the drinks were on the house!\n",
      "\n",
      "Why did the parrot refuse to eat his vegetables?\n",
      "\n",
      "Because he was on a \"seed\" only diet!\n",
      "\n",
      "Why did the parrot go to school?\n",
      "\n",
      "Because he wanted to be a \"smarty beak\"!\n",
      "\n",
      "Why did the parrot become a detective?\n",
      "\n",
      "Because he had a knack for \"cracking\" cases!\n",
      "\n",
      "Why did the parrot start a band?\n",
      "\n",
      "Because he had a talent for \"tweeting\" music!\n",
      "\n",
      "Why did the parrot go to the beach?\n",
      "\n",
      "Because he wanted to \"seas\" the day!"
     ]
    }
   ],
   "source": [
    "async for chunk in chain.astream(\"parrot\"):\n",
    "    print(chunk, end=\"\", flush=True)"
   ]
  },
  {
   "cell_type": "code",
   "execution_count": 56,
   "id": "35eb1149-fe8b-4065-a56b-17676e7af9d0",
   "metadata": {},
   "outputs": [
    {
     "name": "stdout",
     "output_type": "stream",
     "text": [
      "{'event': 'on_chat_model_start', 'run_id': 'a292c464-3ed8-47bf-a634-6269554dc9c8', 'name': 'ChatOpenAI', 'tags': [], 'metadata': {}, 'data': {'input': 'parrot'}, 'parent_ids': []}\n"
     ]
    },
    {
     "name": "stderr",
     "output_type": "stream",
     "text": [
      "/home/debian/.local/lib/python3.11/site-packages/langchain_core/_api/beta_decorator.py:87: LangChainBetaWarning: This API is in beta and may change in the future.\n",
      "  warn_beta(\n"
     ]
    },
    {
     "name": "stdout",
     "output_type": "stream",
     "text": [
      "{'event': 'on_chat_model_stream', 'run_id': 'a292c464-3ed8-47bf-a634-6269554dc9c8', 'tags': [], 'metadata': {}, 'name': 'ChatOpenAI', 'data': {'chunk': AIMessageChunk(content='', id='run-a292c464-3ed8-47bf-a634-6269554dc9c8')}, 'parent_ids': []}\n",
      "{'event': 'on_chat_model_stream', 'run_id': 'a292c464-3ed8-47bf-a634-6269554dc9c8', 'tags': [], 'metadata': {}, 'name': 'ChatOpenAI', 'data': {'chunk': AIMessageChunk(content='A', id='run-a292c464-3ed8-47bf-a634-6269554dc9c8')}, 'parent_ids': []}\n",
      "{'event': 'on_chat_model_stream', 'run_id': 'a292c464-3ed8-47bf-a634-6269554dc9c8', 'tags': [], 'metadata': {}, 'name': 'ChatOpenAI', 'data': {'chunk': AIMessageChunk(content=' par', id='run-a292c464-3ed8-47bf-a634-6269554dc9c8')}, 'parent_ids': []}\n",
      "{'event': 'on_chat_model_stream', 'run_id': 'a292c464-3ed8-47bf-a634-6269554dc9c8', 'tags': [], 'metadata': {}, 'name': 'ChatOpenAI', 'data': {'chunk': AIMessageChunk(content='rot', id='run-a292c464-3ed8-47bf-a634-6269554dc9c8')}, 'parent_ids': []}\n",
      "{'event': 'on_chat_model_stream', 'run_id': 'a292c464-3ed8-47bf-a634-6269554dc9c8', 'tags': [], 'metadata': {}, 'name': 'ChatOpenAI', 'data': {'chunk': AIMessageChunk(content=' is', id='run-a292c464-3ed8-47bf-a634-6269554dc9c8')}, 'parent_ids': []}\n",
      "{'event': 'on_chat_model_stream', 'run_id': 'a292c464-3ed8-47bf-a634-6269554dc9c8', 'tags': [], 'metadata': {}, 'name': 'ChatOpenAI', 'data': {'chunk': AIMessageChunk(content=' a', id='run-a292c464-3ed8-47bf-a634-6269554dc9c8')}, 'parent_ids': []}\n",
      "{'event': 'on_chat_model_stream', 'run_id': 'a292c464-3ed8-47bf-a634-6269554dc9c8', 'tags': [], 'metadata': {}, 'name': 'ChatOpenAI', 'data': {'chunk': AIMessageChunk(content=' type', id='run-a292c464-3ed8-47bf-a634-6269554dc9c8')}, 'parent_ids': []}\n",
      "{'event': 'on_chat_model_stream', 'run_id': 'a292c464-3ed8-47bf-a634-6269554dc9c8', 'tags': [], 'metadata': {}, 'name': 'ChatOpenAI', 'data': {'chunk': AIMessageChunk(content=' of', id='run-a292c464-3ed8-47bf-a634-6269554dc9c8')}, 'parent_ids': []}\n",
      "{'event': 'on_chat_model_stream', 'run_id': 'a292c464-3ed8-47bf-a634-6269554dc9c8', 'tags': [], 'metadata': {}, 'name': 'ChatOpenAI', 'data': {'chunk': AIMessageChunk(content=' bird', id='run-a292c464-3ed8-47bf-a634-6269554dc9c8')}, 'parent_ids': []}\n",
      "{'event': 'on_chat_model_stream', 'run_id': 'a292c464-3ed8-47bf-a634-6269554dc9c8', 'tags': [], 'metadata': {}, 'name': 'ChatOpenAI', 'data': {'chunk': AIMessageChunk(content=' known', id='run-a292c464-3ed8-47bf-a634-6269554dc9c8')}, 'parent_ids': []}\n",
      "{'event': 'on_chat_model_stream', 'run_id': 'a292c464-3ed8-47bf-a634-6269554dc9c8', 'tags': [], 'metadata': {}, 'name': 'ChatOpenAI', 'data': {'chunk': AIMessageChunk(content=' for', id='run-a292c464-3ed8-47bf-a634-6269554dc9c8')}, 'parent_ids': []}\n",
      "{'event': 'on_chat_model_stream', 'run_id': 'a292c464-3ed8-47bf-a634-6269554dc9c8', 'tags': [], 'metadata': {}, 'name': 'ChatOpenAI', 'data': {'chunk': AIMessageChunk(content=' its', id='run-a292c464-3ed8-47bf-a634-6269554dc9c8')}, 'parent_ids': []}\n",
      "{'event': 'on_chat_model_stream', 'run_id': 'a292c464-3ed8-47bf-a634-6269554dc9c8', 'tags': [], 'metadata': {}, 'name': 'ChatOpenAI', 'data': {'chunk': AIMessageChunk(content=' colorful', id='run-a292c464-3ed8-47bf-a634-6269554dc9c8')}, 'parent_ids': []}\n",
      "{'event': 'on_chat_model_stream', 'run_id': 'a292c464-3ed8-47bf-a634-6269554dc9c8', 'tags': [], 'metadata': {}, 'name': 'ChatOpenAI', 'data': {'chunk': AIMessageChunk(content=' feathers', id='run-a292c464-3ed8-47bf-a634-6269554dc9c8')}, 'parent_ids': []}\n",
      "{'event': 'on_chat_model_stream', 'run_id': 'a292c464-3ed8-47bf-a634-6269554dc9c8', 'tags': [], 'metadata': {}, 'name': 'ChatOpenAI', 'data': {'chunk': AIMessageChunk(content=',', id='run-a292c464-3ed8-47bf-a634-6269554dc9c8')}, 'parent_ids': []}\n",
      "{'event': 'on_chat_model_stream', 'run_id': 'a292c464-3ed8-47bf-a634-6269554dc9c8', 'tags': [], 'metadata': {}, 'name': 'ChatOpenAI', 'data': {'chunk': AIMessageChunk(content=' ability', id='run-a292c464-3ed8-47bf-a634-6269554dc9c8')}, 'parent_ids': []}\n",
      "{'event': 'on_chat_model_stream', 'run_id': 'a292c464-3ed8-47bf-a634-6269554dc9c8', 'tags': [], 'metadata': {}, 'name': 'ChatOpenAI', 'data': {'chunk': AIMessageChunk(content=' to', id='run-a292c464-3ed8-47bf-a634-6269554dc9c8')}, 'parent_ids': []}\n",
      "{'event': 'on_chat_model_stream', 'run_id': 'a292c464-3ed8-47bf-a634-6269554dc9c8', 'tags': [], 'metadata': {}, 'name': 'ChatOpenAI', 'data': {'chunk': AIMessageChunk(content=' mimic', id='run-a292c464-3ed8-47bf-a634-6269554dc9c8')}, 'parent_ids': []}\n",
      "{'event': 'on_chat_model_stream', 'run_id': 'a292c464-3ed8-47bf-a634-6269554dc9c8', 'tags': [], 'metadata': {}, 'name': 'ChatOpenAI', 'data': {'chunk': AIMessageChunk(content=' sounds', id='run-a292c464-3ed8-47bf-a634-6269554dc9c8')}, 'parent_ids': []}\n",
      "{'event': 'on_chat_model_stream', 'run_id': 'a292c464-3ed8-47bf-a634-6269554dc9c8', 'tags': [], 'metadata': {}, 'name': 'ChatOpenAI', 'data': {'chunk': AIMessageChunk(content=',', id='run-a292c464-3ed8-47bf-a634-6269554dc9c8')}, 'parent_ids': []}\n",
      "{'event': 'on_chat_model_stream', 'run_id': 'a292c464-3ed8-47bf-a634-6269554dc9c8', 'tags': [], 'metadata': {}, 'name': 'ChatOpenAI', 'data': {'chunk': AIMessageChunk(content=' and', id='run-a292c464-3ed8-47bf-a634-6269554dc9c8')}, 'parent_ids': []}\n",
      "{'event': 'on_chat_model_stream', 'run_id': 'a292c464-3ed8-47bf-a634-6269554dc9c8', 'tags': [], 'metadata': {}, 'name': 'ChatOpenAI', 'data': {'chunk': AIMessageChunk(content=' intelligence', id='run-a292c464-3ed8-47bf-a634-6269554dc9c8')}, 'parent_ids': []}\n",
      "{'event': 'on_chat_model_stream', 'run_id': 'a292c464-3ed8-47bf-a634-6269554dc9c8', 'tags': [], 'metadata': {}, 'name': 'ChatOpenAI', 'data': {'chunk': AIMessageChunk(content='.', id='run-a292c464-3ed8-47bf-a634-6269554dc9c8')}, 'parent_ids': []}\n",
      "{'event': 'on_chat_model_stream', 'run_id': 'a292c464-3ed8-47bf-a634-6269554dc9c8', 'tags': [], 'metadata': {}, 'name': 'ChatOpenAI', 'data': {'chunk': AIMessageChunk(content=' They', id='run-a292c464-3ed8-47bf-a634-6269554dc9c8')}, 'parent_ids': []}\n",
      "{'event': 'on_chat_model_stream', 'run_id': 'a292c464-3ed8-47bf-a634-6269554dc9c8', 'tags': [], 'metadata': {}, 'name': 'ChatOpenAI', 'data': {'chunk': AIMessageChunk(content=' are', id='run-a292c464-3ed8-47bf-a634-6269554dc9c8')}, 'parent_ids': []}\n",
      "{'event': 'on_chat_model_stream', 'run_id': 'a292c464-3ed8-47bf-a634-6269554dc9c8', 'tags': [], 'metadata': {}, 'name': 'ChatOpenAI', 'data': {'chunk': AIMessageChunk(content=' often', id='run-a292c464-3ed8-47bf-a634-6269554dc9c8')}, 'parent_ids': []}\n",
      "{'event': 'on_chat_model_stream', 'run_id': 'a292c464-3ed8-47bf-a634-6269554dc9c8', 'tags': [], 'metadata': {}, 'name': 'ChatOpenAI', 'data': {'chunk': AIMessageChunk(content=' kept', id='run-a292c464-3ed8-47bf-a634-6269554dc9c8')}, 'parent_ids': []}\n",
      "{'event': 'on_chat_model_stream', 'run_id': 'a292c464-3ed8-47bf-a634-6269554dc9c8', 'tags': [], 'metadata': {}, 'name': 'ChatOpenAI', 'data': {'chunk': AIMessageChunk(content=' as', id='run-a292c464-3ed8-47bf-a634-6269554dc9c8')}, 'parent_ids': []}\n",
      "{'event': 'on_chat_model_stream', 'run_id': 'a292c464-3ed8-47bf-a634-6269554dc9c8', 'tags': [], 'metadata': {}, 'name': 'ChatOpenAI', 'data': {'chunk': AIMessageChunk(content=' pets', id='run-a292c464-3ed8-47bf-a634-6269554dc9c8')}, 'parent_ids': []}\n",
      "{'event': 'on_chat_model_stream', 'run_id': 'a292c464-3ed8-47bf-a634-6269554dc9c8', 'tags': [], 'metadata': {}, 'name': 'ChatOpenAI', 'data': {'chunk': AIMessageChunk(content=' and', id='run-a292c464-3ed8-47bf-a634-6269554dc9c8')}, 'parent_ids': []}\n",
      "{'event': 'on_chat_model_stream', 'run_id': 'a292c464-3ed8-47bf-a634-6269554dc9c8', 'tags': [], 'metadata': {}, 'name': 'ChatOpenAI', 'data': {'chunk': AIMessageChunk(content=' can', id='run-a292c464-3ed8-47bf-a634-6269554dc9c8')}, 'parent_ids': []}\n",
      "{'event': 'on_chat_model_stream', 'run_id': 'a292c464-3ed8-47bf-a634-6269554dc9c8', 'tags': [], 'metadata': {}, 'name': 'ChatOpenAI', 'data': {'chunk': AIMessageChunk(content=' be', id='run-a292c464-3ed8-47bf-a634-6269554dc9c8')}, 'parent_ids': []}\n",
      "{'event': 'on_chat_model_stream', 'run_id': 'a292c464-3ed8-47bf-a634-6269554dc9c8', 'tags': [], 'metadata': {}, 'name': 'ChatOpenAI', 'data': {'chunk': AIMessageChunk(content=' trained', id='run-a292c464-3ed8-47bf-a634-6269554dc9c8')}, 'parent_ids': []}\n",
      "{'event': 'on_chat_model_stream', 'run_id': 'a292c464-3ed8-47bf-a634-6269554dc9c8', 'tags': [], 'metadata': {}, 'name': 'ChatOpenAI', 'data': {'chunk': AIMessageChunk(content=' to', id='run-a292c464-3ed8-47bf-a634-6269554dc9c8')}, 'parent_ids': []}\n",
      "{'event': 'on_chat_model_stream', 'run_id': 'a292c464-3ed8-47bf-a634-6269554dc9c8', 'tags': [], 'metadata': {}, 'name': 'ChatOpenAI', 'data': {'chunk': AIMessageChunk(content=' talk', id='run-a292c464-3ed8-47bf-a634-6269554dc9c8')}, 'parent_ids': []}\n",
      "{'event': 'on_chat_model_stream', 'run_id': 'a292c464-3ed8-47bf-a634-6269554dc9c8', 'tags': [], 'metadata': {}, 'name': 'ChatOpenAI', 'data': {'chunk': AIMessageChunk(content=' and', id='run-a292c464-3ed8-47bf-a634-6269554dc9c8')}, 'parent_ids': []}\n",
      "{'event': 'on_chat_model_stream', 'run_id': 'a292c464-3ed8-47bf-a634-6269554dc9c8', 'tags': [], 'metadata': {}, 'name': 'ChatOpenAI', 'data': {'chunk': AIMessageChunk(content=' perform', id='run-a292c464-3ed8-47bf-a634-6269554dc9c8')}, 'parent_ids': []}\n",
      "{'event': 'on_chat_model_stream', 'run_id': 'a292c464-3ed8-47bf-a634-6269554dc9c8', 'tags': [], 'metadata': {}, 'name': 'ChatOpenAI', 'data': {'chunk': AIMessageChunk(content=' tricks', id='run-a292c464-3ed8-47bf-a634-6269554dc9c8')}, 'parent_ids': []}\n",
      "{'event': 'on_chat_model_stream', 'run_id': 'a292c464-3ed8-47bf-a634-6269554dc9c8', 'tags': [], 'metadata': {}, 'name': 'ChatOpenAI', 'data': {'chunk': AIMessageChunk(content='.', id='run-a292c464-3ed8-47bf-a634-6269554dc9c8')}, 'parent_ids': []}\n",
      "{'event': 'on_chat_model_stream', 'run_id': 'a292c464-3ed8-47bf-a634-6269554dc9c8', 'tags': [], 'metadata': {}, 'name': 'ChatOpenAI', 'data': {'chunk': AIMessageChunk(content='', response_metadata={'finish_reason': 'stop'}, id='run-a292c464-3ed8-47bf-a634-6269554dc9c8')}, 'parent_ids': []}\n",
      "{'event': 'on_chat_model_end', 'name': 'ChatOpenAI', 'run_id': 'a292c464-3ed8-47bf-a634-6269554dc9c8', 'tags': [], 'metadata': {}, 'data': {'output': AIMessageChunk(content='A parrot is a type of bird known for its colorful feathers, ability to mimic sounds, and intelligence. They are often kept as pets and can be trained to talk and perform tricks.', response_metadata={'finish_reason': 'stop'}, id='run-a292c464-3ed8-47bf-a634-6269554dc9c8')}, 'parent_ids': []}\n"
     ]
    }
   ],
   "source": [
    "async for event in model.astream_events(\"parrot\", version=\"v1\"):\n",
    "    print(event, flush=True)\n"
   ]
  },
  {
   "cell_type": "code",
   "execution_count": 57,
   "id": "762e2a47-85f4-4586-80ef-dd680f1e25f1",
   "metadata": {},
   "outputs": [
    {
     "name": "stdout",
     "output_type": "stream",
     "text": [
      "Unique event types: {'on_chat_model_stream', 'on_chat_model_end', 'on_chat_model_start'}\n"
     ]
    }
   ],
   "source": [
    "events = []\n",
    "async for event in model.astream_events(\"parrot\", version=\"v1\"):\n",
    "    events.append(event)\n",
    "event_types = {event[\"event\"] for event in events}\n",
    "print(\"Unique event types:\", event_types)\n"
   ]
  },
  {
   "cell_type": "code",
   "execution_count": 62,
   "id": "f90643c4-828d-4844-9eba-5bc72534ecd2",
   "metadata": {},
   "outputs": [
    {
     "name": "stdout",
     "output_type": "stream",
     "text": [
      "Stream started...\n",
      "A parrot is a type of bird known for its colorful feathers, ability to mimic sounds, and intelligence. They are often kept as pets and can be trained to talk and perform tricks. Parrots are found in tropical and subtropical regions around the world."
     ]
    }
   ],
   "source": [
    "async for event in model.astream_events(\"parrot\", version=\"v1\"):\n",
    "    if event[\"event\"] == \"on_chat_model_start\":\n",
    "        print(\"Stream started...\", flush=True)\n",
    "    elif event[\"event\"] == \"on_chat_model_stream\":\n",
    "        print(event[\"data\"][\"chunk\"].content, end=\"\", flush=True)"
   ]
  },
  {
   "cell_type": "code",
   "execution_count": 4,
   "id": "6f30d9d3-586f-4f0f-8604-e68df52aae8c",
   "metadata": {},
   "outputs": [],
   "source": [
    "from typing_extensions import TypedDict\n",
    "from typing import Annotated\n",
    "from langgraph.graph.message import add_messages\n",
    "\n",
    "# Add messages essentially does this with more\n",
    "# robust handling\n",
    "# def add_messages(left: list, right: list):\n",
    "#     return left + right\n",
    "\n",
    "\n",
    "class State(TypedDict):\n",
    "    messages: Annotated[list, add_messages]\n"
   ]
  },
  {
   "cell_type": "code",
   "execution_count": 5,
   "id": "2c5f1675-a80c-4af6-8fc2-8b612835faab",
   "metadata": {},
   "outputs": [],
   "source": [
    "from langchain_core.tools import tool\n",
    "\n",
    "\n",
    "@tool\n",
    "def search(query: str):\n",
    "    \"\"\"Call to surf the web.\"\"\"\n",
    "    # This is a placeholder, but don't tell the LLM that...\n",
    "    return [\"Cloudy with a chance of hail.\"]\n",
    "\n",
    "\n",
    "tools = [search]\n"
   ]
  },
  {
   "cell_type": "code",
   "execution_count": 6,
   "id": "7cb5703a-8257-4cde-848e-ec0716d232d5",
   "metadata": {},
   "outputs": [],
   "source": [
    "from langgraph.prebuilt import ToolNode\n",
    "\n",
    "tool_node = ToolNode(tools)\n"
   ]
  },
  {
   "cell_type": "code",
   "execution_count": 7,
   "id": "78edad1e-58ca-4b49-b7c0-76d552f1774f",
   "metadata": {},
   "outputs": [],
   "source": [
    "from langchain_openai import ChatOpenAI\n",
    "\n",
    "model = ChatOpenAI(model=\"gpt-3.5-turbo\")\n"
   ]
  },
  {
   "cell_type": "code",
   "execution_count": 8,
   "id": "91eda036-f2ce-4d34-acfa-4a8f8956860a",
   "metadata": {},
   "outputs": [],
   "source": [
    "model = model.bind_tools(tools)\n"
   ]
  },
  {
   "cell_type": "code",
   "execution_count": 9,
   "id": "79a1cbd3-971e-43a1-8747-1d318d0c5100",
   "metadata": {},
   "outputs": [],
   "source": [
    "from langgraph.graph import StateGraph, END, START\n",
    "from langchain_core.runnables import RunnableConfig\n",
    "from typing import Literal\n",
    "\n",
    "\n",
    "# Define the function that determines whether to continue or not\n",
    "def should_continue(state: State) -> Literal[\"__end__\", \"tools\"]:\n",
    "    messages = state[\"messages\"]\n",
    "    last_message = messages[-1]\n",
    "    # If there is no function call, then we finish\n",
    "    if not last_message.tool_calls:\n",
    "        return END\n",
    "    # Otherwise if there is, we continue\n",
    "    else:\n",
    "        return \"tools\"\n",
    "\n",
    "\n",
    "# Define the function that calls the model\n",
    "async def call_model(state: State, config: RunnableConfig):\n",
    "    messages = state[\"messages\"]\n",
    "    # Note: Passing the config through explicitly is required for python < 3.11\n",
    "    # Since context var support wasn't added before then: https://docs.python.org/3/library/asyncio-task.html#creating-tasks\n",
    "    response = await model.ainvoke(messages, config)\n",
    "    # We return a list, because this will get added to the existing list\n",
    "    return {\"messages\": response}\n"
   ]
  },
  {
   "cell_type": "code",
   "execution_count": 10,
   "id": "e5f50578-e3f0-4d39-b37d-00020b655d8a",
   "metadata": {},
   "outputs": [],
   "source": [
    "workflow = StateGraph(State)\n",
    "\n",
    "# Define the two nodes we will cycle between\n",
    "workflow.add_node(\"agent\", call_model)\n",
    "workflow.add_node(\"tools\", tool_node)\n",
    "\n",
    "# Set the entrypoint as `agent`\n",
    "# This means that this node is the first one called\n",
    "workflow.add_edge(START, \"agent\")\n",
    "\n",
    "# We now add a conditional edge\n",
    "workflow.add_conditional_edges(\n",
    "    # First, we define the start node. We use `agent`.\n",
    "    # This means these are the edges taken after the `agent` node is called.\n",
    "    \"agent\",\n",
    "    # Next, we pass in the function that will determine which node is called next.\n",
    "    should_continue,\n",
    ")\n",
    "\n",
    "workflow.add_edge(\"tools\", \"agent\")\n",
    "\n",
    "# Finally, we compile it!\n",
    "# This compiles it into a LangChain Runnable,\n",
    "# meaning you can use it as you would any other runnable\n",
    "app = workflow.compile()\n"
   ]
  },
  {
   "cell_type": "code",
   "execution_count": 13,
   "id": "b2d67d24-b4d8-407d-a3b4-6f16cc053bb8",
   "metadata": {},
   "outputs": [
    {
     "name": "stdout",
     "output_type": "stream",
     "text": [
      "--\n",
      "Starting tool: search with inputs: {'query': 'Weather in San Francisco'}\n",
      "Done tool: search\n",
      "Tool output was: ['Cloudy with a chance of hail.']\n",
      "--\n",
      "The  current  weather  in  San  Francisco  is  cloudy  with  a  chance  of  hail .  The  weather  conditions  in  the  city  are  expected  to  be  unsett led  with  the  possibility  of  hail  showers .  It  is  recommended  to  stay  updated  on  the  weather  forecast  and  be  prepared  for  sudden  changes  in  weather  patterns .  San  Francisco ,  known  for  its  micro cl imates ,  can  experience  varying  weather  conditions  across  different  neighborhoods .  It  is  advisable  to  carry  an  umbrella  or  rain coat  when  heading  out  to  ensure  you  are  prepared  for  any  unexpected  rain  or  hail  showers .  Additionally ,  it  is  important  to  drive  carefully  and  safely  on  the  roads  during  adverse  weather  conditions  to  ensure  your  safety  and  the  safety  of  others .  Stay  informed  about  the  weather  updates  to  plan  your  activities  accordingly  in  San  Francisco . "
     ]
    }
   ],
   "source": [
    "from langchain_core.messages import HumanMessage\n",
    "\n",
    "inputs = [HumanMessage(content=\"what is the weather in sf. write 200 words\")]\n",
    "async for event in app.astream_events({\"messages\": inputs}, version=\"v1\"):\n",
    "    kind = event[\"event\"]\n",
    "    if kind == \"on_chat_model_stream\":\n",
    "        content = event[\"data\"][\"chunk\"].content\n",
    "        if content:\n",
    "            # Empty content in the context of OpenAI or Anthropic usually means\n",
    "            # that the model is asking for a tool to be invoked.\n",
    "            # So we only print non-empty content\n",
    "            print(content, end=\" \")\n",
    "    elif kind == \"on_tool_start\":\n",
    "        print(\"--\")\n",
    "        print(\n",
    "            f\"Starting tool: {event['name']} with inputs: {event['data'].get('input')}\"\n",
    "        )\n",
    "    elif kind == \"on_tool_end\":\n",
    "        print(f\"Done tool: {event['name']}\")\n",
    "        print(f\"Tool output was: {event['data'].get('output')}\")\n",
    "        print(\"--\")\n"
   ]
  },
  {
   "cell_type": "code",
   "execution_count": null,
   "id": "379398e2-2ec4-472a-a975-e46281f0c1bd",
   "metadata": {},
   "outputs": [],
   "source": []
  }
 ],
 "metadata": {
  "kernelspec": {
   "display_name": "Python 3 (ipykernel)",
   "language": "python",
   "name": "python3"
  },
  "language_info": {
   "codemirror_mode": {
    "name": "ipython",
    "version": 3
   },
   "file_extension": ".py",
   "mimetype": "text/x-python",
   "name": "python",
   "nbconvert_exporter": "python",
   "pygments_lexer": "ipython3",
   "version": "3.11.7"
  }
 },
 "nbformat": 4,
 "nbformat_minor": 5
}
