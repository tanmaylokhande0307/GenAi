{
 "cells": [
  {
   "cell_type": "code",
   "execution_count": 12,
   "id": "6434b58d-946a-4cea-8d71-83c14d066f11",
   "metadata": {},
   "outputs": [
    {
     "name": "stdout",
     "output_type": "stream",
     "text": [
      "\u001b[31mERROR: Could not find a version that satisfies the requirement lanchain_core (from versions: none)\u001b[0m\u001b[31m\n",
      "\u001b[0m\u001b[31mERROR: No matching distribution found for lanchain_core\u001b[0m\u001b[31m\n",
      "\u001b[0m\n",
      "\u001b[1m[\u001b[0m\u001b[34;49mnotice\u001b[0m\u001b[1;39;49m]\u001b[0m\u001b[39;49m A new release of pip is available: \u001b[0m\u001b[31;49m23.2.1\u001b[0m\u001b[39;49m -> \u001b[0m\u001b[32;49m24.0\u001b[0m\n",
      "\u001b[1m[\u001b[0m\u001b[34;49mnotice\u001b[0m\u001b[1;39;49m]\u001b[0m\u001b[39;49m To update, run: \u001b[0m\u001b[32;49mpip install --upgrade pip\u001b[0m\n"
     ]
    }
   ],
   "source": [
    "!pip3 install -q python-dotenv langchain lanchain_core"
   ]
  },
  {
   "cell_type": "code",
   "execution_count": 13,
   "id": "ef7eb894-1822-456c-ae82-f8a263723576",
   "metadata": {},
   "outputs": [
    {
     "data": {
      "text/plain": [
       "True"
      ]
     },
     "execution_count": 13,
     "metadata": {},
     "output_type": "execute_result"
    }
   ],
   "source": [
    "from dotenv import load_dotenv\n",
    "import os\n",
    "load_dotenv()"
   ]
  },
  {
   "cell_type": "code",
   "execution_count": 14,
   "id": "7ae85e90-5efc-4851-a9bc-ed536a802721",
   "metadata": {},
   "outputs": [],
   "source": [
    "OPENAI_API_KEY = os.environ.get(\"OPENAI_API_KEY\")"
   ]
  },
  {
   "cell_type": "code",
   "execution_count": 16,
   "id": "4657e7b1-62d2-44fa-9d0d-057a12103362",
   "metadata": {},
   "outputs": [],
   "source": [
    "from langchain_core.output_parsers import StrOutputParser\n",
    "from langchain_core.prompts import ChatPromptTemplate\n",
    "from langchain_openai import ChatOpenAI\n"
   ]
  },
  {
   "cell_type": "code",
   "execution_count": 54,
   "id": "af0889ee-41cf-4059-9d8c-1c526c375040",
   "metadata": {},
   "outputs": [],
   "source": [
    "model = ChatOpenAI(temperature=0,streaming=True)\n",
    "prompt = ChatPromptTemplate.from_template(\"tell me a joke about {topic}. 200 Words\")\n",
    "parser = StrOutputParser()\n",
    "chain = prompt | model | parser\n"
   ]
  },
  {
   "cell_type": "code",
   "execution_count": 52,
   "id": "a758259d-4bf1-4a42-b6fb-cb3d985cd09c",
   "metadata": {},
   "outputs": [
    {
     "name": "stdout",
     "output_type": "stream",
     "text": [
      "Why did the parrot wear a raincoat?\n",
      "\n",
      "Because he wanted to be polyunsaturated!\n",
      "\n",
      "Why did the parrot sit on the clock?\n",
      "\n",
      "Because he wanted to be on \"time\"!\n",
      "\n",
      "Why did the parrot go to the doctor?\n",
      "\n",
      "Because he was feeling a little \"tweet\"!\n",
      "\n",
      "Why did the parrot join the circus?\n",
      "\n",
      "Because he wanted to be a \"bird\" performer!\n",
      "\n",
      "Why did the parrot bring a ladder to the bar?\n",
      "\n",
      "Because he heard the drinks were on the house!\n",
      "\n",
      "Why did the parrot refuse to eat his vegetables?\n",
      "\n",
      "Because he was already stuffed with crackers!\n",
      "\n",
      "Why did the parrot go to school?\n",
      "\n",
      "Because he wanted to be a \"smarty beak\"!\n",
      "\n",
      "Why did the parrot start a band?\n",
      "\n",
      "Because he had a great set of \"tweet\" harmonies!\n",
      "\n",
      "Why did the parrot go to the beach?\n",
      "\n",
      "Because he wanted to soak up some \"sun\"flower seeds!\n",
      "\n",
      "Why did the parrot become a detective?\n",
      "\n",
      "Because he had a knack for \"cracking\" cases!"
     ]
    }
   ],
   "source": [
    "for chain in chain.stream(\"parrot\"):\n",
    "    print(chain,end=\"\",flush=True)"
   ]
  },
  {
   "cell_type": "code",
   "execution_count": 55,
   "id": "6452acb6-b94f-4c56-af41-60f2555703e2",
   "metadata": {},
   "outputs": [
    {
     "name": "stdout",
     "output_type": "stream",
     "text": [
      "Why did the parrot wear a raincoat?\n",
      "\n",
      "Because he wanted to be polyunsaturated!\n",
      "\n",
      "Why did the parrot sit on the clock?\n",
      "\n",
      "Because he wanted to be on \"time\"!\n",
      "\n",
      "Why did the parrot go to the doctor?\n",
      "\n",
      "Because he was feeling a little \"tweet\"!\n",
      "\n",
      "Why did the parrot join the circus?\n",
      "\n",
      "Because he wanted to be a \"bird\" performer!\n",
      "\n",
      "Why did the parrot bring a ladder to the bar?\n",
      "\n",
      "Because he heard the drinks were on the house!\n",
      "\n",
      "Why did the parrot refuse to eat his vegetables?\n",
      "\n",
      "Because he was on a \"seed\" only diet!\n",
      "\n",
      "Why did the parrot go to school?\n",
      "\n",
      "Because he wanted to be a \"smarty beak\"!\n",
      "\n",
      "Why did the parrot become a detective?\n",
      "\n",
      "Because he had a knack for \"cracking\" cases!\n",
      "\n",
      "Why did the parrot start a band?\n",
      "\n",
      "Because he had a talent for \"tweeting\" music!\n",
      "\n",
      "Why did the parrot go to the beach?\n",
      "\n",
      "Because he wanted to \"seas\" the day!"
     ]
    }
   ],
   "source": [
    "async for chunk in chain.astream(\"parrot\"):\n",
    "    print(chunk, end=\"\", flush=True)"
   ]
  },
  {
   "cell_type": "code",
   "execution_count": 56,
   "id": "35eb1149-fe8b-4065-a56b-17676e7af9d0",
   "metadata": {},
   "outputs": [
    {
     "name": "stdout",
     "output_type": "stream",
     "text": [
      "{'event': 'on_chat_model_start', 'run_id': 'a292c464-3ed8-47bf-a634-6269554dc9c8', 'name': 'ChatOpenAI', 'tags': [], 'metadata': {}, 'data': {'input': 'parrot'}, 'parent_ids': []}\n"
     ]
    },
    {
     "name": "stderr",
     "output_type": "stream",
     "text": [
      "/home/debian/.local/lib/python3.11/site-packages/langchain_core/_api/beta_decorator.py:87: LangChainBetaWarning: This API is in beta and may change in the future.\n",
      "  warn_beta(\n"
     ]
    },
    {
     "name": "stdout",
     "output_type": "stream",
     "text": [
      "{'event': 'on_chat_model_stream', 'run_id': 'a292c464-3ed8-47bf-a634-6269554dc9c8', 'tags': [], 'metadata': {}, 'name': 'ChatOpenAI', 'data': {'chunk': AIMessageChunk(content='', id='run-a292c464-3ed8-47bf-a634-6269554dc9c8')}, 'parent_ids': []}\n",
      "{'event': 'on_chat_model_stream', 'run_id': 'a292c464-3ed8-47bf-a634-6269554dc9c8', 'tags': [], 'metadata': {}, 'name': 'ChatOpenAI', 'data': {'chunk': AIMessageChunk(content='A', id='run-a292c464-3ed8-47bf-a634-6269554dc9c8')}, 'parent_ids': []}\n",
      "{'event': 'on_chat_model_stream', 'run_id': 'a292c464-3ed8-47bf-a634-6269554dc9c8', 'tags': [], 'metadata': {}, 'name': 'ChatOpenAI', 'data': {'chunk': AIMessageChunk(content=' par', id='run-a292c464-3ed8-47bf-a634-6269554dc9c8')}, 'parent_ids': []}\n",
      "{'event': 'on_chat_model_stream', 'run_id': 'a292c464-3ed8-47bf-a634-6269554dc9c8', 'tags': [], 'metadata': {}, 'name': 'ChatOpenAI', 'data': {'chunk': AIMessageChunk(content='rot', id='run-a292c464-3ed8-47bf-a634-6269554dc9c8')}, 'parent_ids': []}\n",
      "{'event': 'on_chat_model_stream', 'run_id': 'a292c464-3ed8-47bf-a634-6269554dc9c8', 'tags': [], 'metadata': {}, 'name': 'ChatOpenAI', 'data': {'chunk': AIMessageChunk(content=' is', id='run-a292c464-3ed8-47bf-a634-6269554dc9c8')}, 'parent_ids': []}\n",
      "{'event': 'on_chat_model_stream', 'run_id': 'a292c464-3ed8-47bf-a634-6269554dc9c8', 'tags': [], 'metadata': {}, 'name': 'ChatOpenAI', 'data': {'chunk': AIMessageChunk(content=' a', id='run-a292c464-3ed8-47bf-a634-6269554dc9c8')}, 'parent_ids': []}\n",
      "{'event': 'on_chat_model_stream', 'run_id': 'a292c464-3ed8-47bf-a634-6269554dc9c8', 'tags': [], 'metadata': {}, 'name': 'ChatOpenAI', 'data': {'chunk': AIMessageChunk(content=' type', id='run-a292c464-3ed8-47bf-a634-6269554dc9c8')}, 'parent_ids': []}\n",
      "{'event': 'on_chat_model_stream', 'run_id': 'a292c464-3ed8-47bf-a634-6269554dc9c8', 'tags': [], 'metadata': {}, 'name': 'ChatOpenAI', 'data': {'chunk': AIMessageChunk(content=' of', id='run-a292c464-3ed8-47bf-a634-6269554dc9c8')}, 'parent_ids': []}\n",
      "{'event': 'on_chat_model_stream', 'run_id': 'a292c464-3ed8-47bf-a634-6269554dc9c8', 'tags': [], 'metadata': {}, 'name': 'ChatOpenAI', 'data': {'chunk': AIMessageChunk(content=' bird', id='run-a292c464-3ed8-47bf-a634-6269554dc9c8')}, 'parent_ids': []}\n",
      "{'event': 'on_chat_model_stream', 'run_id': 'a292c464-3ed8-47bf-a634-6269554dc9c8', 'tags': [], 'metadata': {}, 'name': 'ChatOpenAI', 'data': {'chunk': AIMessageChunk(content=' known', id='run-a292c464-3ed8-47bf-a634-6269554dc9c8')}, 'parent_ids': []}\n",
      "{'event': 'on_chat_model_stream', 'run_id': 'a292c464-3ed8-47bf-a634-6269554dc9c8', 'tags': [], 'metadata': {}, 'name': 'ChatOpenAI', 'data': {'chunk': AIMessageChunk(content=' for', id='run-a292c464-3ed8-47bf-a634-6269554dc9c8')}, 'parent_ids': []}\n",
      "{'event': 'on_chat_model_stream', 'run_id': 'a292c464-3ed8-47bf-a634-6269554dc9c8', 'tags': [], 'metadata': {}, 'name': 'ChatOpenAI', 'data': {'chunk': AIMessageChunk(content=' its', id='run-a292c464-3ed8-47bf-a634-6269554dc9c8')}, 'parent_ids': []}\n",
      "{'event': 'on_chat_model_stream', 'run_id': 'a292c464-3ed8-47bf-a634-6269554dc9c8', 'tags': [], 'metadata': {}, 'name': 'ChatOpenAI', 'data': {'chunk': AIMessageChunk(content=' colorful', id='run-a292c464-3ed8-47bf-a634-6269554dc9c8')}, 'parent_ids': []}\n",
      "{'event': 'on_chat_model_stream', 'run_id': 'a292c464-3ed8-47bf-a634-6269554dc9c8', 'tags': [], 'metadata': {}, 'name': 'ChatOpenAI', 'data': {'chunk': AIMessageChunk(content=' feathers', id='run-a292c464-3ed8-47bf-a634-6269554dc9c8')}, 'parent_ids': []}\n",
      "{'event': 'on_chat_model_stream', 'run_id': 'a292c464-3ed8-47bf-a634-6269554dc9c8', 'tags': [], 'metadata': {}, 'name': 'ChatOpenAI', 'data': {'chunk': AIMessageChunk(content=',', id='run-a292c464-3ed8-47bf-a634-6269554dc9c8')}, 'parent_ids': []}\n",
      "{'event': 'on_chat_model_stream', 'run_id': 'a292c464-3ed8-47bf-a634-6269554dc9c8', 'tags': [], 'metadata': {}, 'name': 'ChatOpenAI', 'data': {'chunk': AIMessageChunk(content=' ability', id='run-a292c464-3ed8-47bf-a634-6269554dc9c8')}, 'parent_ids': []}\n",
      "{'event': 'on_chat_model_stream', 'run_id': 'a292c464-3ed8-47bf-a634-6269554dc9c8', 'tags': [], 'metadata': {}, 'name': 'ChatOpenAI', 'data': {'chunk': AIMessageChunk(content=' to', id='run-a292c464-3ed8-47bf-a634-6269554dc9c8')}, 'parent_ids': []}\n",
      "{'event': 'on_chat_model_stream', 'run_id': 'a292c464-3ed8-47bf-a634-6269554dc9c8', 'tags': [], 'metadata': {}, 'name': 'ChatOpenAI', 'data': {'chunk': AIMessageChunk(content=' mimic', id='run-a292c464-3ed8-47bf-a634-6269554dc9c8')}, 'parent_ids': []}\n",
      "{'event': 'on_chat_model_stream', 'run_id': 'a292c464-3ed8-47bf-a634-6269554dc9c8', 'tags': [], 'metadata': {}, 'name': 'ChatOpenAI', 'data': {'chunk': AIMessageChunk(content=' sounds', id='run-a292c464-3ed8-47bf-a634-6269554dc9c8')}, 'parent_ids': []}\n",
      "{'event': 'on_chat_model_stream', 'run_id': 'a292c464-3ed8-47bf-a634-6269554dc9c8', 'tags': [], 'metadata': {}, 'name': 'ChatOpenAI', 'data': {'chunk': AIMessageChunk(content=',', id='run-a292c464-3ed8-47bf-a634-6269554dc9c8')}, 'parent_ids': []}\n",
      "{'event': 'on_chat_model_stream', 'run_id': 'a292c464-3ed8-47bf-a634-6269554dc9c8', 'tags': [], 'metadata': {}, 'name': 'ChatOpenAI', 'data': {'chunk': AIMessageChunk(content=' and', id='run-a292c464-3ed8-47bf-a634-6269554dc9c8')}, 'parent_ids': []}\n",
      "{'event': 'on_chat_model_stream', 'run_id': 'a292c464-3ed8-47bf-a634-6269554dc9c8', 'tags': [], 'metadata': {}, 'name': 'ChatOpenAI', 'data': {'chunk': AIMessageChunk(content=' intelligence', id='run-a292c464-3ed8-47bf-a634-6269554dc9c8')}, 'parent_ids': []}\n",
      "{'event': 'on_chat_model_stream', 'run_id': 'a292c464-3ed8-47bf-a634-6269554dc9c8', 'tags': [], 'metadata': {}, 'name': 'ChatOpenAI', 'data': {'chunk': AIMessageChunk(content='.', id='run-a292c464-3ed8-47bf-a634-6269554dc9c8')}, 'parent_ids': []}\n",
      "{'event': 'on_chat_model_stream', 'run_id': 'a292c464-3ed8-47bf-a634-6269554dc9c8', 'tags': [], 'metadata': {}, 'name': 'ChatOpenAI', 'data': {'chunk': AIMessageChunk(content=' They', id='run-a292c464-3ed8-47bf-a634-6269554dc9c8')}, 'parent_ids': []}\n",
      "{'event': 'on_chat_model_stream', 'run_id': 'a292c464-3ed8-47bf-a634-6269554dc9c8', 'tags': [], 'metadata': {}, 'name': 'ChatOpenAI', 'data': {'chunk': AIMessageChunk(content=' are', id='run-a292c464-3ed8-47bf-a634-6269554dc9c8')}, 'parent_ids': []}\n",
      "{'event': 'on_chat_model_stream', 'run_id': 'a292c464-3ed8-47bf-a634-6269554dc9c8', 'tags': [], 'metadata': {}, 'name': 'ChatOpenAI', 'data': {'chunk': AIMessageChunk(content=' often', id='run-a292c464-3ed8-47bf-a634-6269554dc9c8')}, 'parent_ids': []}\n",
      "{'event': 'on_chat_model_stream', 'run_id': 'a292c464-3ed8-47bf-a634-6269554dc9c8', 'tags': [], 'metadata': {}, 'name': 'ChatOpenAI', 'data': {'chunk': AIMessageChunk(content=' kept', id='run-a292c464-3ed8-47bf-a634-6269554dc9c8')}, 'parent_ids': []}\n",
      "{'event': 'on_chat_model_stream', 'run_id': 'a292c464-3ed8-47bf-a634-6269554dc9c8', 'tags': [], 'metadata': {}, 'name': 'ChatOpenAI', 'data': {'chunk': AIMessageChunk(content=' as', id='run-a292c464-3ed8-47bf-a634-6269554dc9c8')}, 'parent_ids': []}\n",
      "{'event': 'on_chat_model_stream', 'run_id': 'a292c464-3ed8-47bf-a634-6269554dc9c8', 'tags': [], 'metadata': {}, 'name': 'ChatOpenAI', 'data': {'chunk': AIMessageChunk(content=' pets', id='run-a292c464-3ed8-47bf-a634-6269554dc9c8')}, 'parent_ids': []}\n",
      "{'event': 'on_chat_model_stream', 'run_id': 'a292c464-3ed8-47bf-a634-6269554dc9c8', 'tags': [], 'metadata': {}, 'name': 'ChatOpenAI', 'data': {'chunk': AIMessageChunk(content=' and', id='run-a292c464-3ed8-47bf-a634-6269554dc9c8')}, 'parent_ids': []}\n",
      "{'event': 'on_chat_model_stream', 'run_id': 'a292c464-3ed8-47bf-a634-6269554dc9c8', 'tags': [], 'metadata': {}, 'name': 'ChatOpenAI', 'data': {'chunk': AIMessageChunk(content=' can', id='run-a292c464-3ed8-47bf-a634-6269554dc9c8')}, 'parent_ids': []}\n",
      "{'event': 'on_chat_model_stream', 'run_id': 'a292c464-3ed8-47bf-a634-6269554dc9c8', 'tags': [], 'metadata': {}, 'name': 'ChatOpenAI', 'data': {'chunk': AIMessageChunk(content=' be', id='run-a292c464-3ed8-47bf-a634-6269554dc9c8')}, 'parent_ids': []}\n",
      "{'event': 'on_chat_model_stream', 'run_id': 'a292c464-3ed8-47bf-a634-6269554dc9c8', 'tags': [], 'metadata': {}, 'name': 'ChatOpenAI', 'data': {'chunk': AIMessageChunk(content=' trained', id='run-a292c464-3ed8-47bf-a634-6269554dc9c8')}, 'parent_ids': []}\n",
      "{'event': 'on_chat_model_stream', 'run_id': 'a292c464-3ed8-47bf-a634-6269554dc9c8', 'tags': [], 'metadata': {}, 'name': 'ChatOpenAI', 'data': {'chunk': AIMessageChunk(content=' to', id='run-a292c464-3ed8-47bf-a634-6269554dc9c8')}, 'parent_ids': []}\n",
      "{'event': 'on_chat_model_stream', 'run_id': 'a292c464-3ed8-47bf-a634-6269554dc9c8', 'tags': [], 'metadata': {}, 'name': 'ChatOpenAI', 'data': {'chunk': AIMessageChunk(content=' talk', id='run-a292c464-3ed8-47bf-a634-6269554dc9c8')}, 'parent_ids': []}\n",
      "{'event': 'on_chat_model_stream', 'run_id': 'a292c464-3ed8-47bf-a634-6269554dc9c8', 'tags': [], 'metadata': {}, 'name': 'ChatOpenAI', 'data': {'chunk': AIMessageChunk(content=' and', id='run-a292c464-3ed8-47bf-a634-6269554dc9c8')}, 'parent_ids': []}\n",
      "{'event': 'on_chat_model_stream', 'run_id': 'a292c464-3ed8-47bf-a634-6269554dc9c8', 'tags': [], 'metadata': {}, 'name': 'ChatOpenAI', 'data': {'chunk': AIMessageChunk(content=' perform', id='run-a292c464-3ed8-47bf-a634-6269554dc9c8')}, 'parent_ids': []}\n",
      "{'event': 'on_chat_model_stream', 'run_id': 'a292c464-3ed8-47bf-a634-6269554dc9c8', 'tags': [], 'metadata': {}, 'name': 'ChatOpenAI', 'data': {'chunk': AIMessageChunk(content=' tricks', id='run-a292c464-3ed8-47bf-a634-6269554dc9c8')}, 'parent_ids': []}\n",
      "{'event': 'on_chat_model_stream', 'run_id': 'a292c464-3ed8-47bf-a634-6269554dc9c8', 'tags': [], 'metadata': {}, 'name': 'ChatOpenAI', 'data': {'chunk': AIMessageChunk(content='.', id='run-a292c464-3ed8-47bf-a634-6269554dc9c8')}, 'parent_ids': []}\n",
      "{'event': 'on_chat_model_stream', 'run_id': 'a292c464-3ed8-47bf-a634-6269554dc9c8', 'tags': [], 'metadata': {}, 'name': 'ChatOpenAI', 'data': {'chunk': AIMessageChunk(content='', response_metadata={'finish_reason': 'stop'}, id='run-a292c464-3ed8-47bf-a634-6269554dc9c8')}, 'parent_ids': []}\n",
      "{'event': 'on_chat_model_end', 'name': 'ChatOpenAI', 'run_id': 'a292c464-3ed8-47bf-a634-6269554dc9c8', 'tags': [], 'metadata': {}, 'data': {'output': AIMessageChunk(content='A parrot is a type of bird known for its colorful feathers, ability to mimic sounds, and intelligence. They are often kept as pets and can be trained to talk and perform tricks.', response_metadata={'finish_reason': 'stop'}, id='run-a292c464-3ed8-47bf-a634-6269554dc9c8')}, 'parent_ids': []}\n"
     ]
    }
   ],
   "source": [
    "async for event in model.astream_events(\"parrot\", version=\"v1\"):\n",
    "    print(event, flush=True)\n"
   ]
  },
  {
   "cell_type": "code",
   "execution_count": 57,
   "id": "762e2a47-85f4-4586-80ef-dd680f1e25f1",
   "metadata": {},
   "outputs": [
    {
     "name": "stdout",
     "output_type": "stream",
     "text": [
      "Unique event types: {'on_chat_model_stream', 'on_chat_model_end', 'on_chat_model_start'}\n"
     ]
    }
   ],
   "source": [
    "events = []\n",
    "async for event in model.astream_events(\"parrot\", version=\"v1\"):\n",
    "    events.append(event)\n",
    "event_types = {event[\"event\"] for event in events}\n",
    "print(\"Unique event types:\", event_types)\n"
   ]
  },
  {
   "cell_type": "code",
   "execution_count": 58,
   "id": "f90643c4-828d-4844-9eba-5bc72534ecd2",
   "metadata": {},
   "outputs": [
    {
     "name": "stdout",
     "output_type": "stream",
     "text": [
      "Stream started...\n",
      "A parrot is a type of bird known for its colorful feathers, ability to mimic sounds, and intelligence. They are often kept as pets and can be trained to talk and perform tricks."
     ]
    }
   ],
   "source": [
    "async for event in model.astream_events(\"parrot\", version=\"v1\"):\n",
    "    if event[\"event\"] == \"on_chat_model_start\":\n",
    "        print(\"Stream started...\", flush=True)\n",
    "    elif event[\"event\"] == \"on_chat_model_stream\":\n",
    "        print(event[\"data\"][\"chunk\"].content, end=\"\", flush=True)"
   ]
  },
  {
   "cell_type": "code",
   "execution_count": null,
   "id": "6f30d9d3-586f-4f0f-8604-e68df52aae8c",
   "metadata": {},
   "outputs": [],
   "source": []
  }
 ],
 "metadata": {
  "kernelspec": {
   "display_name": "Python 3 (ipykernel)",
   "language": "python",
   "name": "python3"
  },
  "language_info": {
   "codemirror_mode": {
    "name": "ipython",
    "version": 3
   },
   "file_extension": ".py",
   "mimetype": "text/x-python",
   "name": "python",
   "nbconvert_exporter": "python",
   "pygments_lexer": "ipython3",
   "version": "3.11.7"
  }
 },
 "nbformat": 4,
 "nbformat_minor": 5
}
