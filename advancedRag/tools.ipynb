{
 "cells": [
  {
   "cell_type": "code",
   "execution_count": 1,
   "id": "2f6ae7ae-5905-4749-8fb2-66f5cafaaba7",
   "metadata": {},
   "outputs": [],
   "source": [
    "!pip3 -q install python-dotenv langchain"
   ]
  },
  {
   "cell_type": "code",
   "execution_count": 2,
   "id": "0b38fca4-dd9d-4fd9-9b32-d1b9ed6b60bd",
   "metadata": {},
   "outputs": [
    {
     "data": {
      "text/plain": [
       "True"
      ]
     },
     "execution_count": 2,
     "metadata": {},
     "output_type": "execute_result"
    }
   ],
   "source": [
    "from dotenv import load_dotenv\n",
    "load_dotenv()"
   ]
  },
  {
   "cell_type": "code",
   "execution_count": 3,
   "id": "1a7d3dad-a51a-41bd-947e-eb658ef103b2",
   "metadata": {},
   "outputs": [],
   "source": [
    "from langchain_openai import ChatOpenAI\n",
    "llm = ChatOpenAI(model=\"gpt-3.5-turbo\",streaming=True)\n"
   ]
  },
  {
   "cell_type": "code",
   "execution_count": 4,
   "id": "e35a0882-e46a-49fc-ae6c-61fdf8a25171",
   "metadata": {},
   "outputs": [
    {
     "data": {
      "text/plain": [
       "AIMessage(content=\"I'm sorry, I cannot provide real-time weather updates. I recommend checking a reliable weather website or app for the most up-to-date information on the weather in Munich today.\", response_metadata={'finish_reason': 'stop'}, id='run-06bd8257-3069-479f-94b4-7cb67f64336a-0')"
      ]
     },
     "execution_count": 4,
     "metadata": {},
     "output_type": "execute_result"
    }
   ],
   "source": [
    "# llm.invoke(\"What will be the weather in munich today?\")"
   ]
  },
  {
   "cell_type": "code",
   "execution_count": 5,
   "id": "2a374c0a-632c-48b3-83d1-94d38440acdf",
   "metadata": {},
   "outputs": [],
   "source": [
    "from langchain.tools import BaseTool, StructuredTool, tool\n",
    "from langchain_core.pydantic_v1 import BaseModel, Field\n",
    "\n",
    "class WInput(BaseModel):\n",
    "    Name: str = Field(description=\"Name of the city\")\n",
    "    \n",
    "class OSAInput(BaseModel):\n",
    "    Name: str = Field(description=\"Name of the city\")\n",
    "        \n",
    "@tool\n",
    "def fake_weather_api(city: str) -> str:\n",
    "    \"\"\"Check the weather in a specified city.\"\"\"\n",
    "    return \"Sunny, 22°C\"\n",
    "\n",
    "@tool\n",
    "def outdoor_seating_availability(city: str) -> str:\n",
    "    \"\"\"Check if outdoor seating is available at a specified restaurant in a given city.\"\"\"\n",
    "    return \"Outdoor seating is available.\"\n"
   ]
  },
  {
   "cell_type": "code",
   "execution_count": 6,
   "id": "46fa5525-c717-494c-8073-0b531cc465ab",
   "metadata": {},
   "outputs": [],
   "source": [
    "tools = [fake_weather_api,outdoor_seating_availability]"
   ]
  },
  {
   "cell_type": "code",
   "execution_count": 7,
   "id": "6d6a6a78-eef7-45e5-89c3-b3e030178f15",
   "metadata": {},
   "outputs": [],
   "source": [
    "llm_with_tools = llm.bind_tools(tools)"
   ]
  },
  {
   "cell_type": "code",
   "execution_count": 8,
   "id": "8daf44c3-9009-4202-9a67-d1b28fdbb2a5",
   "metadata": {},
   "outputs": [
    {
     "data": {
      "text/plain": [
       "AIMessage(content='', additional_kwargs={'tool_calls': [{'index': 0, 'id': 'call_M31MNzdRBbPwEquyR5PxdmN8', 'function': {'arguments': '{\"city\":\"Munich\"}', 'name': 'fake_weather_api'}, 'type': 'function'}]}, response_metadata={'finish_reason': 'tool_calls'}, id='run-d3dbf6e2-56aa-459d-a6d9-15264b25f7ac-0', tool_calls=[{'name': 'fake_weather_api', 'args': {'city': 'Munich'}, 'id': 'call_M31MNzdRBbPwEquyR5PxdmN8'}])"
      ]
     },
     "execution_count": 8,
     "metadata": {},
     "output_type": "execute_result"
    }
   ],
   "source": [
    "result = llm_with_tools.invoke(\"How will the weather be in munich today?\")\n",
    "result\n"
   ]
  },
  {
   "cell_type": "code",
   "execution_count": 9,
   "id": "b308ca83-c0fc-4492-96dc-5b40fb324f40",
   "metadata": {},
   "outputs": [
    {
     "data": {
      "text/plain": [
       "AIMessage(content='', additional_kwargs={'tool_calls': [{'index': 0, 'id': 'call_QwTWTs08OlIngkTA8gyYeWJ9', 'function': {'arguments': '{\"city\": \"Munich\"}', 'name': 'fake_weather_api'}, 'type': 'function'}, {'index': 1, 'id': 'call_PDQSLz4Orf1rScXhGyKe5bvO', 'function': {'arguments': '{\"city\": \"Munich\"}', 'name': 'outdoor_seating_availability'}, 'type': 'function'}]}, response_metadata={'finish_reason': 'tool_calls'}, id='run-642cfb0a-5389-4021-9ea4-13790c6bc9dc-0', tool_calls=[{'name': 'fake_weather_api', 'args': {'city': 'Munich'}, 'id': 'call_QwTWTs08OlIngkTA8gyYeWJ9'}, {'name': 'outdoor_seating_availability', 'args': {'city': 'Munich'}, 'id': 'call_PDQSLz4Orf1rScXhGyKe5bvO'}])"
      ]
     },
     "execution_count": 9,
     "metadata": {},
     "output_type": "execute_result"
    }
   ],
   "source": [
    "result = llm_with_tools.invoke(\"How will the weather be in munich today? I would like to eat outside if possible\")\n",
    "result"
   ]
  },
  {
   "cell_type": "code",
   "execution_count": 10,
   "id": "da7641f8-6796-486e-982c-685a49de5c07",
   "metadata": {},
   "outputs": [
    {
     "data": {
      "text/plain": [
       "[{'name': 'fake_weather_api',\n",
       "  'args': {'city': 'Munich'},\n",
       "  'id': 'call_QwTWTs08OlIngkTA8gyYeWJ9'},\n",
       " {'name': 'outdoor_seating_availability',\n",
       "  'args': {'city': 'Munich'},\n",
       "  'id': 'call_PDQSLz4Orf1rScXhGyKe5bvO'}]"
      ]
     },
     "execution_count": 10,
     "metadata": {},
     "output_type": "execute_result"
    }
   ],
   "source": [
    "result.tool_calls\n"
   ]
  },
  {
   "cell_type": "code",
   "execution_count": 30,
   "id": "945baa25-77d2-48ce-8b59-4750b3f5d77f",
   "metadata": {},
   "outputs": [],
   "source": [
    "from langchain_core.messages import HumanMessage, ToolMessage\n",
    "\n",
    "messages = [HumanMessage(\"How will the weather be in munich today? I would like to eat outside if possible.\")]\n",
    "llm_output = llm_with_tools.invoke(messages)\n",
    "messages.append(llm_output)\n"
   ]
  },
  {
   "cell_type": "code",
   "execution_count": 31,
   "id": "0509225e-7ef1-4530-9de0-be9c572630d8",
   "metadata": {},
   "outputs": [],
   "source": [
    "tool_mapping = {\"fake_weather_api\": fake_weather_api, \"outdoor_seating_availability\": outdoor_seating_availability}"
   ]
  },
  {
   "cell_type": "code",
   "execution_count": 32,
   "id": "16e92bb4-ad1c-4ec7-a779-326aa5e98507",
   "metadata": {},
   "outputs": [],
   "source": [
    "for tool_call in llm_output.tool_calls:\n",
    "    tool = tool_mapping[tool_call[\"name\"].lower()]\n",
    "    tool_output = tool.invoke(tool_call[\"args\"])\n",
    "    messages.append(ToolMessage(tool_output, tool_call_id=tool_call[\"id\"]))\n"
   ]
  },
  {
   "cell_type": "code",
   "execution_count": 33,
   "id": "8190941f-ac6a-4ecb-80b1-0ae2e8db25e1",
   "metadata": {},
   "outputs": [
    {
     "data": {
      "text/plain": [
       "[HumanMessage(content='How will the weather be in munich today? I would like to eat outside if possible.'),\n",
       " AIMessage(content='', additional_kwargs={'tool_calls': [{'index': 0, 'id': 'call_HH9eR3ZL5REJ7rqAAhLkbZ98', 'function': {'arguments': '{\"city\": \"Munich\"}', 'name': 'fake_weather_api'}, 'type': 'function'}, {'index': 1, 'id': 'call_eyGii4nMZ3DDEZf3xL6fc9Io', 'function': {'arguments': '{\"city\": \"Munich\"}', 'name': 'outdoor_seating_availability'}, 'type': 'function'}]}, response_metadata={'finish_reason': 'tool_calls'}, id='run-9ae62960-50c9-4097-ad67-c78b27b89d5e-0', tool_calls=[{'name': 'fake_weather_api', 'args': {'city': 'Munich'}, 'id': 'call_HH9eR3ZL5REJ7rqAAhLkbZ98'}, {'name': 'outdoor_seating_availability', 'args': {'city': 'Munich'}, 'id': 'call_eyGii4nMZ3DDEZf3xL6fc9Io'}]),\n",
       " ToolMessage(content='Sunny, 22°C', tool_call_id='call_HH9eR3ZL5REJ7rqAAhLkbZ98'),\n",
       " ToolMessage(content='Outdoor seating is available.', tool_call_id='call_eyGii4nMZ3DDEZf3xL6fc9Io')]"
      ]
     },
     "execution_count": 33,
     "metadata": {},
     "output_type": "execute_result"
    }
   ],
   "source": [
    "messages"
   ]
  },
  {
   "cell_type": "code",
   "execution_count": 34,
   "id": "65569fe1-2b5e-400e-b3f6-c9d866da1e49",
   "metadata": {},
   "outputs": [
    {
     "name": "stdout",
     "output_type": "stream",
     "text": [
      "The weather in Munich today is sunny with a temperature of 22°C. Outdoor seating is available, so you can enjoy your meal outside."
     ]
    }
   ],
   "source": [
    "for ch in llm_with_tools.stream(messages):\n",
    "    print(ch.content,end=\"\",flush=True)"
   ]
  },
  {
   "cell_type": "code",
   "execution_count": null,
   "id": "dbf3b820-92ea-44c5-a4db-e4176e3f3734",
   "metadata": {},
   "outputs": [],
   "source": []
  },
  {
   "cell_type": "code",
   "execution_count": null,
   "id": "60482728-caa2-4836-ac45-e2afc1392bc3",
   "metadata": {},
   "outputs": [],
   "source": []
  }
 ],
 "metadata": {
  "kernelspec": {
   "display_name": "Python 3 (ipykernel)",
   "language": "python",
   "name": "python3"
  },
  "language_info": {
   "codemirror_mode": {
    "name": "ipython",
    "version": 3
   },
   "file_extension": ".py",
   "mimetype": "text/x-python",
   "name": "python",
   "nbconvert_exporter": "python",
   "pygments_lexer": "ipython3",
   "version": "3.11.7"
  }
 },
 "nbformat": 4,
 "nbformat_minor": 5
}
