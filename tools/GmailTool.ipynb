{
 "cells": [
  {
   "cell_type": "code",
   "execution_count": 6,
   "id": "5712d6e5-3a45-475f-a7b6-d8536ae17947",
   "metadata": {},
   "outputs": [],
   "source": [
    "from langchain.pydantic_v1 import BaseModel, Field\n",
    "from langchain.tools import BaseTool, StructuredTool, tool\n",
    "from dotenv import load_dotenv\n",
    "import os\n",
    "load_dotenv()"
   ]
  },
  {
   "cell_type": "code",
   "execution_count": null,
   "id": "65faa4cd",
   "metadata": {},
   "outputs": [],
   "source": [
    "EMAIL=os.getenv('EMAIL')\n",
    "PASSWORD=os.getenv('PASSWORD')"
   ]
  },
  {
   "cell_type": "code",
   "execution_count": 7,
   "id": "45eeabdd-6827-4ea6-a6fc-31bfe9eedd2d",
   "metadata": {},
   "outputs": [],
   "source": [
    "from typing import Optional, Type\n",
    "from email.message import EmailMessage\n",
    "import smtplib\n",
    "import ssl\n",
    "\n",
    "from langchain.callbacks.manager import (\n",
    "    AsyncCallbackManagerForToolRun,\n",
    "    CallbackManagerForToolRun,\n",
    ")\n",
    "\n",
    "\n",
    "class SendMailInput(BaseModel):\n",
    "    receiver: str = Field(description=\"receiver of the email\")\n",
    "    subject: str = Field(description=\"subject of the email\")\n",
    "    body: str = Field(description=\"body of the email\")\n",
    "\n",
    "\n",
    "class SendEmailTool(BaseTool):\n",
    "    name = \"email\"\n",
    "    description = \"useful for when you need to send email\"\n",
    "    args_schema: Type[BaseModel] = SendMailInput\n",
    "\n",
    "    def _run(\n",
    "        self, receiver: str,subject: str ,body: str ,run_manager: Optional[CallbackManagerForToolRun] = None\n",
    "    ) -> str:\n",
    "        \"\"\"Use the tool.\"\"\"\n",
    "        email_sender = EMAIL\n",
    "        email_password = PASSWORD\n",
    "\n",
    "        em = EmailMessage()\n",
    "        em['From'] = email_sender\n",
    "        em['To'] = receiver\n",
    "        em['Subject'] = subject\n",
    "        em.set_content(body)\n",
    "\n",
    "        context = ssl.create_default_context()\n",
    "\n",
    "        with smtplib.SMTP_SSL('smtp.gmail.com', 465,context=context) as smtp:\n",
    "            smtp.login(email_sender, email_password)\n",
    "            smtp.sendmail(email_sender, receiver, em.as_string())\n",
    "        \n",
    "        return \"sent\"\n",
    "\n",
    "    async def _arun(\n",
    "        self, query: str, run_manager: Optional[AsyncCallbackManagerForToolRun] = None\n",
    "    ) -> str:\n",
    "        \"\"\"Use the tool asynchronously.\"\"\"\n",
    "        raise NotImplementedError(\"custom_search does not support async\")\n",
    "\n"
   ]
  },
  {
   "cell_type": "code",
   "execution_count": 8,
   "id": "8b3a2f1b-61e6-4fb1-8e79-1edbebe03aba",
   "metadata": {},
   "outputs": [],
   "source": [
    "emailTool = SendEmailTool()"
   ]
  },
  {
   "cell_type": "code",
   "execution_count": 9,
   "id": "f7058020-9c3f-485b-a490-1d24e63ded4f",
   "metadata": {},
   "outputs": [
    {
     "data": {
      "text/plain": [
       "'sent'"
      ]
     },
     "execution_count": 9,
     "metadata": {},
     "output_type": "execute_result"
    }
   ],
   "source": [
    "emailTool.run({\"receiver\": \"tl@zasmlabs.com\", \"subject\": \"hello\", \"body\": \"test\"})"
   ]
  },
  {
   "cell_type": "code",
   "execution_count": 10,
   "id": "6a876a1f-5270-4b6e-bc16-6ee2983449ca",
   "metadata": {},
   "outputs": [],
   "source": [
    "from langchain_core.tools import tool\n",
    "\n",
    "\n",
    "@tool\n",
    "def EmailTool(receiver: str, subject:str,body: str) -> int:\n",
    "    \"\"\"Sends and email to receiver with subject and body.\n",
    "\n",
    "    Args:\n",
    "        receiver: receiver of the mail\n",
    "        subject: subject of the mail\n",
    "        body: body of the mail\n",
    "    \"\"\"\n",
    "    email_sender = EMAIL\n",
    "    email_password = PASSWORD\n",
    "\n",
    "    em = EmailMessage()\n",
    "    em['From'] = email_sender\n",
    "    em['To'] = receiver\n",
    "    em['Subject'] = subject\n",
    "    em.set_content(body)\n",
    "\n",
    "    context = ssl.create_default_context()\n",
    "\n",
    "    with smtplib.SMTP_SSL('smtp.gmail.com', 465,context=context) as smtp:\n",
    "        smtp.login(email_sender, email_password)\n",
    "        smtp.sendmail(email_sender, receiver, em.as_string())\n",
    "        \n",
    "    return \"sent\"\n"
   ]
  },
  {
   "cell_type": "code",
   "execution_count": 11,
   "id": "50f137c9-3bb3-4b5a-a272-18b84939fe27",
   "metadata": {},
   "outputs": [],
   "source": []
  },
  {
   "cell_type": "code",
   "execution_count": 12,
   "id": "c31d2a7c-558d-4e9d-b7c5-81727847adfc",
   "metadata": {},
   "outputs": [],
   "source": [
    "from langchain_google_vertexai import ChatVertexAI"
   ]
  },
  {
   "cell_type": "code",
   "execution_count": 13,
   "id": "177c6fa6-abfb-4e87-a008-9b25e576d004",
   "metadata": {},
   "outputs": [],
   "source": [
    "import vertexai\n",
    "\n",
    "vertexai.init(\n",
    "    project=\"bim-poc\",\n",
    "    location=\"us-central1\",\n",
    ")\n",
    "llm = ChatVertexAI(model=\"gemini-pro\")"
   ]
  },
  {
   "cell_type": "code",
   "execution_count": 16,
   "id": "fe9066d1-dd37-4d08-bb12-85b1df5f44a7",
   "metadata": {},
   "outputs": [],
   "source": [
    "from langchain_core.messages import HumanMessage, ToolMessage\n",
    "\n",
    "llm_with_tools = llm.bind_tools([EmailTool])\n"
   ]
  },
  {
   "cell_type": "code",
   "execution_count": 32,
   "id": "70a595e5-9c37-426a-9379-038dfa88a47e",
   "metadata": {},
   "outputs": [
    {
     "data": {
      "text/plain": [
       "[HumanMessage(content='Send an email to tl@zasmlabs.com regarding asking for a leave for 2 days keep it in details and give the reason for leave as family emergency'),\n",
       " AIMessage(content='', additional_kwargs={'function_call': {'name': 'EmailTool', 'arguments': '{\"receiver\": \"tl@zasmlabs.com\", \"subject\": \"Leave of Absence Request\", \"body\": \"Dear Team Leader,\\\\\\\\n\\\\\\\\nI am writing to request a leave of absence for 2 days, from [Start Date] to [End Date], due to a family emergency.\\\\\\\\n\\\\\\\\nA family member has fallen ill and requires my immediate attention. I will be unavailable during this time to attend to their needs.\\\\\\\\n\\\\\\\\nI have completed all my urgent tasks and made arrangements for my colleagues to cover my responsibilities while I am away. I will also be available remotely if needed.\\\\\\\\n\\\\\\\\nI apologize for any inconvenience this may cause and appreciate your understanding in this matter.\\\\\\\\n\\\\\\\\nThank you,\\\\\\\\n[Your Name]\"}'}}, response_metadata={'is_blocked': False, 'safety_ratings': [{'category': 'HARM_CATEGORY_HATE_SPEECH', 'probability_label': 'NEGLIGIBLE', 'blocked': False}, {'category': 'HARM_CATEGORY_DANGEROUS_CONTENT', 'probability_label': 'NEGLIGIBLE', 'blocked': False}, {'category': 'HARM_CATEGORY_HARASSMENT', 'probability_label': 'NEGLIGIBLE', 'blocked': False}, {'category': 'HARM_CATEGORY_SEXUALLY_EXPLICIT', 'probability_label': 'NEGLIGIBLE', 'blocked': False}], 'usage_metadata': {'prompt_token_count': 80, 'candidates_token_count': 145, 'total_token_count': 225}}, id='run-8eaef85d-7556-4123-9853-f72566ab2d3c-0', tool_calls=[{'name': 'EmailTool', 'args': {'receiver': 'tl@zasmlabs.com', 'subject': 'Leave of Absence Request', 'body': 'Dear Team Leader,\\\\n\\\\nI am writing to request a leave of absence for 2 days, from [Start Date] to [End Date], due to a family emergency.\\\\n\\\\nA family member has fallen ill and requires my immediate attention. I will be unavailable during this time to attend to their needs.\\\\n\\\\nI have completed all my urgent tasks and made arrangements for my colleagues to cover my responsibilities while I am away. I will also be available remotely if needed.\\\\n\\\\nI apologize for any inconvenience this may cause and appreciate your understanding in this matter.\\\\n\\\\nThank you,\\\\n[Your Name]'}, 'id': 'a173f922-4a24-4033-bab2-e9a416688c6d'}], usage_metadata={'input_tokens': 80, 'output_tokens': 145, 'total_tokens': 225}),\n",
       " ToolMessage(content='sent', tool_call_id='a173f922-4a24-4033-bab2-e9a416688c6d')]"
      ]
     },
     "execution_count": 32,
     "metadata": {},
     "output_type": "execute_result"
    }
   ],
   "source": [
    "query = \"Send an email to tl@zasmlabs.com regarding asking for a leave for 2 days keep it in details and give the reason for leave as family emergency\"\n",
    "messages = [HumanMessage(query)]\n",
    "\n",
    "\n",
    "ai_msg = llm_with_tools.invoke(query)\n",
    "messages.append(ai_msg)\n",
    "\n",
    "for tool_call in ai_msg.tool_calls:\n",
    "    selected_tool = {\"EmailTool\": EmailTool}[tool_call[\"name\"]]\n",
    "    tool_output = selected_tool.invoke(tool_call[\"args\"])\n",
    "    messages.append(ToolMessage(tool_output, tool_call_id=tool_call[\"id\"]))\n",
    "\n",
    "messages\n",
    "\n",
    "\n"
   ]
  },
  {
   "cell_type": "code",
   "execution_count": null,
   "id": "c6c9a589-4ee2-43d0-ae22-b027eb437b53",
   "metadata": {},
   "outputs": [],
   "source": [
    "\n",
    "\n"
   ]
  },
  {
   "cell_type": "code",
   "execution_count": null,
   "id": "5bcbb9a9-746e-422b-ad5c-1a44fd2dd702",
   "metadata": {},
   "outputs": [],
   "source": []
  },
  {
   "cell_type": "code",
   "execution_count": 1,
   "id": "f72ebb63-aa49-4098-ac83-fc1e89649f11",
   "metadata": {},
   "outputs": [],
   "source": [
    "!pip3 install -q langchain-fireworks"
   ]
  },
  {
   "cell_type": "code",
   "execution_count": 2,
   "id": "17a8763e-31e5-4879-ac69-29ae31154804",
   "metadata": {},
   "outputs": [],
   "source": [
    "from langchain_core.messages import HumanMessage, SystemMessage\n",
    "from langchain_fireworks import ChatFireworks"
   ]
  },
  {
   "cell_type": "code",
   "execution_count": 3,
   "id": "b65af1f6-2939-4187-96cc-1dcc2ba06517",
   "metadata": {},
   "outputs": [],
   "source": []
  },
  {
   "cell_type": "code",
   "execution_count": 4,
   "id": "6a451b9c-24f4-4265-bfe5-61b11a4a24d5",
   "metadata": {},
   "outputs": [],
   "source": [
    "chat = ChatFireworks(model=\"accounts/fireworks/models/firefunction-v2-rc\",temperature=0)"
   ]
  },
  {
   "cell_type": "code",
   "execution_count": 14,
   "id": "957bd5dc-b261-4b46-8551-554575000366",
   "metadata": {},
   "outputs": [],
   "source": [
    "chat_with_tools = chat.bind_tools([EmailTool])"
   ]
  },
  {
   "cell_type": "code",
   "execution_count": 17,
   "id": "85cac0d7-5ebc-49a4-9408-6c2dac7377e3",
   "metadata": {},
   "outputs": [
    {
     "data": {
      "text/plain": [
       "[HumanMessage(content='Send an email to tl@zasmlabs.com regarding asking for a leave for 2 days keep it in details and give the reason for leave as family emergency'),\n",
       " AIMessage(content='', additional_kwargs={'tool_calls': [{'index': 0, 'id': 'call_U4EVd13VqC3VmzqRKohid6Rd', 'type': 'function', 'function': {'name': 'EmailTool', 'arguments': '{\"receiver\": \"tl@zasmlabs.com\", \"subject\": \"Request for Leave for 2 Days\", \"body\": \"Dear TL,\\\\n\\\\nI am writing to request a leave for 2 days due to a family emergency. I apologize for any inconvenience this may cause and will make sure to catch up on any missed work as soon as possible.\\\\n\\\\nThank you for your understanding.\\\\n\\\\nBest regards,\\\\n[Your Name]\"}'}}]}, response_metadata={'token_usage': {'prompt_tokens': 431, 'total_tokens': 537, 'completion_tokens': 106}, 'model_name': 'accounts/fireworks/models/firefunction-v2-rc', 'system_fingerprint': '', 'finish_reason': 'tool_calls', 'logprobs': None}, id='run-54184305-e075-45a1-b459-a405bfb90359-0', tool_calls=[{'name': 'EmailTool', 'args': {'receiver': 'tl@zasmlabs.com', 'subject': 'Request for Leave for 2 Days', 'body': 'Dear TL,\\n\\nI am writing to request a leave for 2 days due to a family emergency. I apologize for any inconvenience this may cause and will make sure to catch up on any missed work as soon as possible.\\n\\nThank you for your understanding.\\n\\nBest regards,\\n[Your Name]'}, 'id': 'call_U4EVd13VqC3VmzqRKohid6Rd'}]),\n",
       " ToolMessage(content='sent', tool_call_id='call_U4EVd13VqC3VmzqRKohid6Rd')]"
      ]
     },
     "execution_count": 17,
     "metadata": {},
     "output_type": "execute_result"
    }
   ],
   "source": [
    "query = \"Send an email to tl@zasmlabs.com regarding asking for a leave for 2 days keep it in details and give the reason for leave as family emergency\"\n",
    "messages = [HumanMessage(query)]\n",
    "\n",
    "\n",
    "ai_msg = chat_with_tools.invoke(query)\n",
    "messages.append(ai_msg)\n",
    "\n",
    "for tool_call in ai_msg.tool_calls:\n",
    "    selected_tool = {\"EmailTool\": EmailTool}[tool_call[\"name\"]]\n",
    "    tool_output = selected_tool.invoke(tool_call[\"args\"])\n",
    "    messages.append(ToolMessage(tool_output, tool_call_id=tool_call[\"id\"]))\n",
    "\n",
    "messages\n"
   ]
  },
  {
   "cell_type": "code",
   "execution_count": 22,
   "id": "849cc402-a761-45c1-a9c4-449563d8ba69",
   "metadata": {},
   "outputs": [],
   "source": []
  },
  {
   "cell_type": "code",
   "execution_count": 23,
   "id": "b82ba7c4-5bf0-43c8-9e97-ebe10b3221e0",
   "metadata": {},
   "outputs": [],
   "source": [
    "!pip3 install -qU langchain-groq"
   ]
  },
  {
   "cell_type": "code",
   "execution_count": 25,
   "id": "033ece86-3edc-4348-a1db-e2c58aa2b504",
   "metadata": {},
   "outputs": [],
   "source": [
    "from langchain_groq import ChatGroq\n",
    "\n",
    "groq_llm = ChatGroq(model = 'llama3-70b-8192')\n"
   ]
  },
  {
   "cell_type": "code",
   "execution_count": 26,
   "id": "c748bb81-bd24-49a1-abb6-f4b2f8cb8b89",
   "metadata": {},
   "outputs": [],
   "source": [
    "groq_llm_tools = groq_llm.bind_tools([EmailTool])"
   ]
  },
  {
   "cell_type": "code",
   "execution_count": 27,
   "id": "d7031d91-a389-4c82-a796-19c3c6de41f0",
   "metadata": {},
   "outputs": [
    {
     "data": {
      "text/plain": [
       "[HumanMessage(content='Send an email to tl@zasmlabs.com regarding asking for a half day for 2 days keep it in details and give the reason for leave as family emergency'),\n",
       " AIMessage(content='', additional_kwargs={'tool_calls': [{'index': 0, 'id': 'call_9D3lmtWx4fvo8cucj1nolLmq', 'type': 'function', 'function': {'name': 'EmailTool', 'arguments': '{\"receiver\": \"tl@zasmlabs.com\", \"subject\": \"Request for Half Day Leave for 2 Days\", \"body\": \"Dear TL,\\\\n\\\\nI am writing to request a half day leave for the next two days due to a family emergency that requires my immediate attention. I apologize for any inconvenience this may cause and will make sure to catch up on any missed work as soon as possible.\\\\n\\\\nThank you for your understanding and support.\\\\n\\\\nBest regards,\\\\n[Your Name]\"}'}}]}, response_metadata={'token_usage': {'prompt_tokens': 432, 'total_tokens': 550, 'completion_tokens': 118}, 'model_name': 'accounts/fireworks/models/firefunction-v2-rc', 'system_fingerprint': '', 'finish_reason': 'tool_calls', 'logprobs': None}, id='run-31d1df26-b0b1-482f-99c1-629d47a40fa6-0', tool_calls=[{'name': 'EmailTool', 'args': {'receiver': 'tl@zasmlabs.com', 'subject': 'Request for Half Day Leave for 2 Days', 'body': 'Dear TL,\\n\\nI am writing to request a half day leave for the next two days due to a family emergency that requires my immediate attention. I apologize for any inconvenience this may cause and will make sure to catch up on any missed work as soon as possible.\\n\\nThank you for your understanding and support.\\n\\nBest regards,\\n[Your Name]'}, 'id': 'call_9D3lmtWx4fvo8cucj1nolLmq'}]),\n",
       " ToolMessage(content='sent', tool_call_id='call_9D3lmtWx4fvo8cucj1nolLmq')]"
      ]
     },
     "execution_count": 27,
     "metadata": {},
     "output_type": "execute_result"
    }
   ],
   "source": [
    "query = \"Send an email to tl@zasmlabs.com regarding asking for a half day for 2 days keep it in details and give the reason for leave as family emergency\"\n",
    "messages = [HumanMessage(query)]\n",
    "\n",
    "\n",
    "ai_msg = chat_with_tools.invoke(query)\n",
    "messages.append(ai_msg)\n",
    "\n",
    "for tool_call in ai_msg.tool_calls:\n",
    "    selected_tool = {\"EmailTool\": EmailTool}[tool_call[\"name\"]]\n",
    "    tool_output = selected_tool.invoke(tool_call[\"args\"])\n",
    "    messages.append(ToolMessage(tool_output, tool_call_id=tool_call[\"id\"]))\n",
    "\n",
    "messages\n"
   ]
  },
  {
   "cell_type": "code",
   "execution_count": null,
   "id": "32d5a94f-36c3-4a7d-8d0e-6adda99fc372",
   "metadata": {},
   "outputs": [],
   "source": []
  }
 ],
 "metadata": {
  "kernelspec": {
   "display_name": "Python 3 (ipykernel)",
   "language": "python",
   "name": "python3"
  },
  "language_info": {
   "codemirror_mode": {
    "name": "ipython",
    "version": 3
   },
   "file_extension": ".py",
   "mimetype": "text/x-python",
   "name": "python",
   "nbconvert_exporter": "python",
   "pygments_lexer": "ipython3",
   "version": "3.10.12"
  }
 },
 "nbformat": 4,
 "nbformat_minor": 5
}
