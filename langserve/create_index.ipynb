{
 "cells": [
  {
   "cell_type": "code",
   "execution_count": 1,
   "id": "23d6eb73-6e10-4d7a-9446-1551b8c9ee6f",
   "metadata": {},
   "outputs": [],
   "source": [
    "!pip3 install GitPython langchain langchain-community langchain_openai pip install python-dotenv faiss-cpu  -qU"
   ]
  },
  {
   "cell_type": "code",
   "execution_count": 2,
   "id": "afb7082d-49f4-43f8-ae40-97700d1f2267",
   "metadata": {},
   "outputs": [],
   "source": [
    "from git import Repo\n",
    "\n",
    "repo = Repo.clone_from(\"https://github.com/langchain-ai/langserve\", \"./langserve_repo\")\n",
    "branch = repo.head.reference\n"
   ]
  },
  {
   "cell_type": "code",
   "execution_count": 3,
   "id": "f4740db1-fc2b-40fe-bd37-a553adf1c949",
   "metadata": {},
   "outputs": [],
   "source": [
    "from langchain.document_loaders import GitLoader\n",
    "import os"
   ]
  },
  {
   "cell_type": "code",
   "execution_count": 4,
   "id": "b9828513-22f2-4cfd-802e-a04533afe18b",
   "metadata": {},
   "outputs": [],
   "source": [
    "loader = GitLoader(repo_path=\"./langserve_repo/\", branch=branch)\n"
   ]
  },
  {
   "cell_type": "code",
   "execution_count": 5,
   "id": "8c0c36e3-311c-421d-9801-3d8c86bd91f3",
   "metadata": {},
   "outputs": [],
   "source": [
    "langserve_data = loader.load()\n"
   ]
  },
  {
   "cell_type": "code",
   "execution_count": 6,
   "id": "875da482-f164-48a9-a3b2-60c138a1dc1b",
   "metadata": {},
   "outputs": [
    {
     "data": {
      "text/plain": [
       "216"
      ]
     },
     "execution_count": 6,
     "metadata": {},
     "output_type": "execute_result"
    }
   ],
   "source": [
    "len(langserve_data)\n"
   ]
  },
  {
   "cell_type": "code",
   "execution_count": 7,
   "id": "ba70de04-091d-49ac-8f4d-5d27223b49bd",
   "metadata": {},
   "outputs": [],
   "source": [
    "from langchain.text_splitter import RecursiveCharacterTextSplitter\n",
    "\n",
    "splitter = RecursiveCharacterTextSplitter(\n",
    "    chunk_size=512,\n",
    "    chunk_overlap=100,\n",
    ")\n",
    "\n",
    "langserve_data = splitter.split_documents(langserve_data)\n"
   ]
  },
  {
   "cell_type": "code",
   "execution_count": 8,
   "id": "f502aac6-f54e-4ce0-a92f-2b6196a59bf9",
   "metadata": {},
   "outputs": [],
   "source": [
    "from dotenv import load_dotenv\n",
    "load_dotenv()\n",
    "OPENAI_API_KEY = os.getenv('OPENAI_API_KEY')"
   ]
  },
  {
   "cell_type": "code",
   "execution_count": 9,
   "id": "6c04ec87-4fad-4aab-afa6-e1aee7d86cf4",
   "metadata": {},
   "outputs": [],
   "source": [
    "from langchain_openai import OpenAIEmbeddings\n",
    "\n",
    "emb_model = OpenAIEmbeddings()"
   ]
  },
  {
   "cell_type": "code",
   "execution_count": 10,
   "id": "3e0c5c43-8dd0-4cf3-830c-ef70add6087d",
   "metadata": {},
   "outputs": [],
   "source": [
    "from langchain_community.vectorstores import FAISS\n",
    "\n",
    "db = FAISS.from_documents(langserve_data, embedding=emb_model)\n"
   ]
  },
  {
   "cell_type": "code",
   "execution_count": 12,
   "id": "6395d7a2-d07d-4291-bf17-b637b978af9c",
   "metadata": {},
   "outputs": [],
   "source": [
    "db.save_local(\"./langserve_index\")"
   ]
  },
  {
   "cell_type": "code",
   "execution_count": null,
   "id": "b79487b7-a901-4cba-8358-9e46731feafe",
   "metadata": {},
   "outputs": [],
   "source": []
  }
 ],
 "metadata": {
  "kernelspec": {
   "display_name": "Python 3 (ipykernel)",
   "language": "python",
   "name": "python3"
  },
  "language_info": {
   "codemirror_mode": {
    "name": "ipython",
    "version": 3
   },
   "file_extension": ".py",
   "mimetype": "text/x-python",
   "name": "python",
   "nbconvert_exporter": "python",
   "pygments_lexer": "ipython3",
   "version": "3.11.7"
  }
 },
 "nbformat": 4,
 "nbformat_minor": 5
}
