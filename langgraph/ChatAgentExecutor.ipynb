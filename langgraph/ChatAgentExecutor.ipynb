{
 "cells": [
  {
   "cell_type": "code",
   "execution_count": 1,
   "id": "d118b4df-0b39-437f-93f5-2a8fa5a2d729",
   "metadata": {},
   "outputs": [
    {
     "data": {
      "text/plain": [
       "True"
      ]
     },
     "execution_count": 1,
     "metadata": {},
     "output_type": "execute_result"
    }
   ],
   "source": [
    "from dotenv import load_dotenv\n",
    "load_dotenv()"
   ]
  },
  {
   "cell_type": "code",
   "execution_count": 2,
   "id": "f873cd22-84b1-428d-bf27-0edd43d45fbe",
   "metadata": {},
   "outputs": [],
   "source": [
    "from langchain_community.tools.tavily_search import TavilySearchResults\n",
    "\n",
    "tools = [TavilySearchResults(max_results=1)]"
   ]
  },
  {
   "cell_type": "code",
   "execution_count": 14,
   "id": "f3a08c3e-4656-4534-a4ba-93e429d3b9d1",
   "metadata": {},
   "outputs": [],
   "source": [
    "from langgraph.prebuilt import ToolExecutor\n",
    "\n",
    "tool_executor = ToolExecutor(tools)\n"
   ]
  },
  {
   "cell_type": "code",
   "execution_count": 4,
   "id": "7b2c4775-39d5-41a0-963f-dcb6308c4ee9",
   "metadata": {},
   "outputs": [],
   "source": [
    "import vertexai\n",
    "vertexai.init(project=\"gemini-api-428204\", location=\"us-central1\")"
   ]
  },
  {
   "cell_type": "code",
   "execution_count": 5,
   "id": "a03458d0-59fe-4088-93b2-63c08ec5b4ba",
   "metadata": {},
   "outputs": [],
   "source": [
    "from langchain_google_vertexai import ChatVertexAI"
   ]
  },
  {
   "cell_type": "code",
   "execution_count": 24,
   "id": "18c786aa-f385-4fa1-ba4b-4d03f04cb59c",
   "metadata": {},
   "outputs": [],
   "source": [
    "llm = ChatVertexAI(model_name=\"gemini-pro\")"
   ]
  },
  {
   "cell_type": "code",
   "execution_count": 8,
   "id": "ebf6daf0-0244-42f7-845f-7e3c6176611c",
   "metadata": {},
   "outputs": [],
   "source": [
    "model = llm.bind_tools(tools)"
   ]
  },
  {
   "cell_type": "code",
   "execution_count": 9,
   "id": "2191c018-04d0-4680-81a5-72a7aa310ce9",
   "metadata": {},
   "outputs": [],
   "source": [
    "import operator\n",
    "from typing import Annotated, Sequence, TypedDict\n",
    "\n",
    "from langchain_core.messages import BaseMessage\n",
    "\n",
    "\n",
    "class AgentState(TypedDict):\n",
    "    messages: Annotated[Sequence[BaseMessage], operator.add]\n"
   ]
  },
  {
   "cell_type": "code",
   "execution_count": 26,
   "id": "c60d9afd-fc3d-4d57-a471-db4ef636b261",
   "metadata": {},
   "outputs": [],
   "source": [
    "from langchain_core.messages import ToolMessage\n",
    "\n",
    "from langgraph.prebuilt import ToolInvocation\n",
    "\n",
    "\n",
    "def should_continue(state):\n",
    "    messages = state[\"messages\"]\n",
    "    last_message = messages[-1]\n",
    "    if not last_message.tool_calls:\n",
    "        return \"end\"\n",
    "    else:\n",
    "        return \"continue\"\n",
    "\n",
    "\n",
    "def call_model(state):\n",
    "    messages = state[\"messages\"]\n",
    "    response = model.invoke(messages)\n",
    "    return {\"messages\": [response]}\n",
    "\n",
    "\n",
    "def call_tool(state):\n",
    "    messages = state[\"messages\"]\n",
    "    last_message = messages[-1]\n",
    "    tool_call = last_message.tool_calls[0]\n",
    "    action = ToolInvocation(\n",
    "        tool=tool_call[\"name\"],\n",
    "        tool_input=tool_call[\"args\"],\n",
    "    )\n",
    "    print(action)\n",
    "    response = tool_executor.invoke(action)\n",
    "    function_message = ToolMessage(\n",
    "        content=str(response), name=action.tool, tool_call_id=tool_call[\"id\"]\n",
    "    )\n",
    "    return {\"messages\": [function_message]}\n"
   ]
  },
  {
   "cell_type": "code",
   "execution_count": 27,
   "id": "7a1f7a19-25ab-49d8-b9c8-d8f8bb5d4d45",
   "metadata": {},
   "outputs": [],
   "source": [
    "from langgraph.graph import END, StateGraph, START\n",
    "\n",
    "workflow = StateGraph(AgentState)\n",
    "\n",
    "workflow.add_node(\"agent\", call_model)\n",
    "workflow.add_node(\"action\", call_tool)\n",
    "\n",
    "workflow.add_edge(START, \"agent\")\n",
    "\n",
    "workflow.add_conditional_edges(\n",
    "    \"agent\",\n",
    "    should_continue,\n",
    "    {\n",
    "        \"continue\": \"action\",\n",
    "        \"end\": END,\n",
    "    },\n",
    ")\n",
    "\n",
    "workflow.add_edge(\"action\", \"agent\")\n",
    "\n",
    "app = workflow.compile()\n"
   ]
  },
  {
   "cell_type": "code",
   "execution_count": 31,
   "id": "d6ff7617-8a8d-4f54-a4de-28c3f25423b6",
   "metadata": {},
   "outputs": [
    {
     "name": "stdout",
     "output_type": "stream",
     "text": [
      "tool='tavily_search_results_json' tool_input={'query': 'what is the vector database'}\n"
     ]
    },
    {
     "data": {
      "text/plain": [
       "{'messages': [HumanMessage(content='what is the vector database'),\n",
       "  AIMessage(content='', additional_kwargs={'function_call': {'name': 'tavily_search_results_json', 'arguments': '{\"query\": \"what is the vector database\"}'}}, response_metadata={'is_blocked': False, 'safety_ratings': [{'category': 'HARM_CATEGORY_HATE_SPEECH', 'probability_label': 'NEGLIGIBLE', 'blocked': False}, {'category': 'HARM_CATEGORY_DANGEROUS_CONTENT', 'probability_label': 'NEGLIGIBLE', 'blocked': False}, {'category': 'HARM_CATEGORY_HARASSMENT', 'probability_label': 'NEGLIGIBLE', 'blocked': False}, {'category': 'HARM_CATEGORY_SEXUALLY_EXPLICIT', 'probability_label': 'NEGLIGIBLE', 'blocked': False}], 'usage_metadata': {'prompt_token_count': 59, 'candidates_token_count': 14, 'total_token_count': 73}}, id='run-c9a8be65-3bb1-412e-94f8-c727fc470c9c-0', tool_calls=[{'name': 'tavily_search_results_json', 'args': {'query': 'what is the vector database'}, 'id': '35f4ea73-2510-4d36-9340-987a2f0991fa'}], usage_metadata={'input_tokens': 59, 'output_tokens': 14, 'total_tokens': 73}),\n",
       "  ToolMessage(content='[{\\'url\\': \\'https://www.forbes.com/sites/adrianbridgwater/2024/02/29/how-to-use-a-vector-database/\\', \\'content\\': \"The takeaways here appear to centralize on the need to use the right tool for the job, a maxim which in this scenario translates to ‘use a database that designed from the ground up to be fit for AI-centric purpose’ and to put provisioning for scale (AI is big and getting bigger, just in case you hadn’t noticed) even a business is still in experimentation mode with AI. For The Third Time In A Week, Russian Troops Paraded Within Range Of Ukraine’s HIMARS Launchers—And Rockets Rained On The Parade Bitcoin Bids, Coinbase Crashes: A Lesson For Crypto Companies “A vector database organizes and stores vectors - numerical representations of words or phrases generated by LLMs - in a structured way,” explained Mark Nijmeijer, senior director of product, Hycu, Inc - a company known for its multi-cloud and SaaS data protection as-a-service technology.  The key (as the team at Pinecone says it has found), is to give AI applications on-demand access to the company\\'s data i.e. the more data it can search through semantically to find the right context, the better the application performs in terms of answer quality.  As explained nicely here on GitHub, “High-dimensional data are defined as data in which the number of features (variables observed), p, are close to or larger than the number of observations (or data points), n.” In other words, high-dimensional data has more features (different ways to denote and define data) than actual data records. With some additional understanding of what makes AI smartness smart, the hope (for many of us) is that we can eradicate AI bias and hallucination, drive AI to do the things we really want it to do… and of course stop the robots taking over the planet (joke). \"}]', name='tavily_search_results_json', tool_call_id='35f4ea73-2510-4d36-9340-987a2f0991fa'),\n",
       "  AIMessage(content='A vector database is a database management system (DBMS) that is optimized for storing and retrieving large collections of high-dimensional vectors. Vector databases are becoming increasingly popular as they offer a number of advantages over traditional relational databases for certain types of applications, such as:\\n\\n* **Similarity search:** Vector databases are able to efficiently search for vectors that are similar to a given query vector. This makes them ideal for tasks such as image search, product recommendations, and text summarization.\\n* **Efficient storage and retrieval:** Vector databases are able to store and retrieve large numbers of vectors efficiently. This is because they use a variety of techniques, such as compression and indexing, to reduce the amount of storage space required and to speed up retrieval times.\\n* **Scalability:** Vector databases are able to scale to very large datasets. This is because they can be distributed across multiple machines, which allows them to handle the increased load that comes with larger datasets.\\n\\nThere are a number of different vector databases available, and the best one for a particular application will depend on the specific requirements of that application. Some of the most popular vector databases include:\\n\\n* **Faiss:** A library for efficient similarity search on GPUs.\\n* **HNSW:** A graph-based similarity search algorithm that is often used in vector databases.\\n* **Milvus:** A cloud-native vector database that is designed for scalability and performance.\\n* **Pinecone:** A cloud-based vector database that is easy to use and offers a variety of features.', response_metadata={'is_blocked': False, 'safety_ratings': [{'category': 'HARM_CATEGORY_HATE_SPEECH', 'probability_label': 'NEGLIGIBLE', 'blocked': False}, {'category': 'HARM_CATEGORY_DANGEROUS_CONTENT', 'probability_label': 'NEGLIGIBLE', 'blocked': False}, {'category': 'HARM_CATEGORY_HARASSMENT', 'probability_label': 'NEGLIGIBLE', 'blocked': False}, {'category': 'HARM_CATEGORY_SEXUALLY_EXPLICIT', 'probability_label': 'NEGLIGIBLE', 'blocked': False}], 'usage_metadata': {'prompt_token_count': 503, 'candidates_token_count': 309, 'total_token_count': 812}}, id='run-359bbbb3-39b7-418f-9dfc-f9913650abc3-0', usage_metadata={'input_tokens': 503, 'output_tokens': 309, 'total_tokens': 812})]}"
      ]
     },
     "execution_count": 31,
     "metadata": {},
     "output_type": "execute_result"
    }
   ],
   "source": [
    "from langchain_core.messages import HumanMessage\n",
    "\n",
    "inputs = {\"messages\": [HumanMessage(content=\"what is the vector database\")]}\n",
    "app.invoke(inputs)\n"
   ]
  },
  {
   "cell_type": "code",
   "execution_count": 32,
   "id": "59a0c729-a3f4-48a0-ad6e-8db91feca867",
   "metadata": {},
   "outputs": [
    {
     "name": "stdout",
     "output_type": "stream",
     "text": [
      "Output from node 'agent':\n",
      "---\n",
      "{'messages': [AIMessage(content='', additional_kwargs={'function_call': {'name': 'tavily_search_results_json', 'arguments': '{\"query\": \"what is vector database\"}'}}, response_metadata={'is_blocked': False, 'safety_ratings': [{'category': 'HARM_CATEGORY_HATE_SPEECH', 'probability_label': 'NEGLIGIBLE', 'blocked': False}, {'category': 'HARM_CATEGORY_DANGEROUS_CONTENT', 'probability_label': 'NEGLIGIBLE', 'blocked': False}, {'category': 'HARM_CATEGORY_HARASSMENT', 'probability_label': 'NEGLIGIBLE', 'blocked': False}, {'category': 'HARM_CATEGORY_SEXUALLY_EXPLICIT', 'probability_label': 'NEGLIGIBLE', 'blocked': False}], 'usage_metadata': {'prompt_token_count': 59, 'candidates_token_count': 13, 'total_token_count': 72}}, id='run-94e25494-7dda-4305-ad0e-d6386ef3f69c-0', tool_calls=[{'name': 'tavily_search_results_json', 'args': {'query': 'what is vector database'}, 'id': 'f89fc7bf-e85d-4aa6-b44b-6464f6f3b233'}], usage_metadata={'input_tokens': 59, 'output_tokens': 13, 'total_tokens': 72})]}\n",
      "\n",
      "---\n",
      "\n",
      "tool='tavily_search_results_json' tool_input={'query': 'what is vector database'}\n",
      "Output from node 'action':\n",
      "---\n",
      "{'messages': [ToolMessage(content=\"[{'url': 'https://www.globalvillagespace.com/tech/google-enhances-bigquery-with-gemini-introducing-vector-support-to-cloud-databases/', 'content': 'Google Enhances BigQuery with Gemini, Introducing Vector Support to Cloud Databases Google is continuously working to enhance its database and analytics platforms, and its latest updates are focused on harnessing the power of generative AI. While Google had already introduced vector support in some of its databases, it is now expanding this feature to other databases such as AlloyDB, Vertex AI Vector Search, Memorystore for Redis, CloudSQL, Spanner, Firestore, and Bigtable.  By bringing the capabilities of Gemini and introducing vector support to its databases, Google is enabling users to make the most of AI technologies in their operations. Google believes that vector indexing and vector search should be a fundamental feature in any database in order to fully leverage the benefits of AI in the enterprise. Google’s continuous efforts to improve its database and analytics platforms demonstrate its commitment to empowering developers and organizations with the power of generative AI.'}]\", name='tavily_search_results_json', tool_call_id='f89fc7bf-e85d-4aa6-b44b-6464f6f3b233')]}\n",
      "\n",
      "---\n",
      "\n",
      "Output from node 'agent':\n",
      "---\n",
      "{'messages': [AIMessage(content='A vector database is a type of database that stores data in the form of vectors. Vectors are mathematical objects that represent the direction and magnitude of a data point in a multidimensional space. This allows vector databases to efficiently perform similarity searches, which involve finding data points that are similar to a given query vector.\\n\\nVector databases are well-suited for storing and retrieving high-dimensional data, such as text, images, and videos. This is because vector representations can capture the semantic meaning of data in a way that traditional relational databases cannot. As a result, vector databases are increasingly being used in a variety of applications, including natural language processing, image retrieval, and recommender systems.\\n\\nHere are some key features of vector databases:\\n\\n* They store data in the form of vectors.\\n* They support efficient similarity searches.\\n* They are well-suited for storing high-dimensional data.\\n* They can be used in a variety of applications, including natural language processing, image retrieval, and recommender systems.\\n\\nI hope this helps! Let me know if you have any other questions.', response_metadata={'is_blocked': False, 'safety_ratings': [{'category': 'HARM_CATEGORY_HATE_SPEECH', 'probability_label': 'NEGLIGIBLE', 'blocked': False}, {'category': 'HARM_CATEGORY_DANGEROUS_CONTENT', 'probability_label': 'NEGLIGIBLE', 'blocked': False}, {'category': 'HARM_CATEGORY_HARASSMENT', 'probability_label': 'NEGLIGIBLE', 'blocked': False}, {'category': 'HARM_CATEGORY_SEXUALLY_EXPLICIT', 'probability_label': 'NEGLIGIBLE', 'blocked': False}], 'usage_metadata': {'prompt_token_count': 305, 'candidates_token_count': 220, 'total_token_count': 525}}, id='run-68a86b01-b731-49cd-8150-1ec6c45510a2-0', usage_metadata={'input_tokens': 305, 'output_tokens': 220, 'total_tokens': 525})]}\n",
      "\n",
      "---\n",
      "\n"
     ]
    }
   ],
   "source": [
    "for output in app.stream(inputs):\n",
    "    for key, value in output.items():\n",
    "        print(f\"Output from node '{key}':\")\n",
    "        print(\"---\")\n",
    "        print(value)\n",
    "    print(\"\\n---\\n\")\n"
   ]
  },
  {
   "cell_type": "code",
   "execution_count": null,
   "id": "3266ecf0-37a8-4ade-873f-552e2fe6aab0",
   "metadata": {},
   "outputs": [],
   "source": []
  }
 ],
 "metadata": {
  "kernelspec": {
   "display_name": "Python 3 (ipykernel)",
   "language": "python",
   "name": "python3"
  },
  "language_info": {
   "codemirror_mode": {
    "name": "ipython",
    "version": 3
   },
   "file_extension": ".py",
   "mimetype": "text/x-python",
   "name": "python",
   "nbconvert_exporter": "python",
   "pygments_lexer": "ipython3",
   "version": "3.10.12"
  }
 },
 "nbformat": 4,
 "nbformat_minor": 5
}
