{
 "cells": [
  {
   "cell_type": "markdown",
   "id": "0b08c8c2-ca04-4d80-88b5-df1697fa5beb",
   "metadata": {},
   "source": [
    "## Langchain Agent Executor From Scratch in Langgraph"
   ]
  },
  {
   "cell_type": "code",
   "execution_count": 4,
   "id": "84f1eec9-8b2c-4577-857c-9829eed7262f",
   "metadata": {},
   "outputs": [
    {
     "name": "stdout",
     "output_type": "stream",
     "text": [
      "\u001b[33mWARNING: google-cloud-aiplatform 1.49.0 does not provide the extra 'all'\u001b[0m\u001b[33m\n",
      "\u001b[0m\n",
      "\u001b[1m[\u001b[0m\u001b[34;49mnotice\u001b[0m\u001b[1;39;49m]\u001b[0m\u001b[39;49m A new release of pip is available: \u001b[0m\u001b[31;49m24.1\u001b[0m\u001b[39;49m -> \u001b[0m\u001b[32;49m24.1.1\u001b[0m\n",
      "\u001b[1m[\u001b[0m\u001b[34;49mnotice\u001b[0m\u001b[1;39;49m]\u001b[0m\u001b[39;49m To update, run: \u001b[0m\u001b[32;49mpip install --upgrade pip\u001b[0m\n"
     ]
    }
   ],
   "source": [
    "!pip install --quiet -U langgraph langchain vertexai langchain_google_vertexai langchainhub tavily-python"
   ]
  },
  {
   "cell_type": "code",
   "execution_count": 1,
   "id": "2bd750c3-ca6a-44e1-87d0-4e2aa63a1136",
   "metadata": {},
   "outputs": [
    {
     "data": {
      "text/plain": [
       "True"
      ]
     },
     "execution_count": 1,
     "metadata": {},
     "output_type": "execute_result"
    }
   ],
   "source": [
    "from dotenv import load_dotenv\n",
    "load_dotenv()"
   ]
  },
  {
   "cell_type": "code",
   "execution_count": 2,
   "id": "e4be3b76-c562-434b-8fbe-baf8954243cc",
   "metadata": {},
   "outputs": [],
   "source": [
    "import arxiv\n",
    "from IPython.display import display, Markdown\n",
    "from langchain import hub\n",
    "from langchain.agents import create_openai_functions_agent\n",
    "from langchain_community.tools.tavily_search import TavilySearchResults\n",
    "from langchain_google_vertexai import ChatVertexAI\n",
    "import vertexai\n",
    "from langchain_core.messages import HumanMessage\n",
    "from vertexai.generative_models._generative_models import (\n",
    "    HarmCategory,\n",
    "    HarmBlockThreshold,\n",
    ")\n",
    "from google.cloud.aiplatform_v1beta1.types import (\n",
    "    content as gapic_content_types,\n",
    ")\n",
    "from vertexai.generative_models import GenerativeModel,FunctionDeclaration,Tool,GenerationConfig,Part,Content\n",
    "from vertexai.preview.generative_models import ToolConfig\n",
    "from langchain.tools.render import format_tool_to_openai_function\n",
    "\n",
    "\n",
    "vertexai.init(project=\"gemini-api-428204\", location=\"us-central1\")"
   ]
  },
  {
   "cell_type": "code",
   "execution_count": 3,
   "id": "1da93e90-d374-466f-bfe6-4998b8e3c60c",
   "metadata": {},
   "outputs": [],
   "source": [
    "search_arxiv = FunctionDeclaration(\n",
    "    name=\"search_arxiv\",\n",
    "    description=\"Search for articles and publications in arXiv\",\n",
    "    parameters={\n",
    "        \"type\": \"object\",\n",
    "        \"properties\": {\n",
    "            \"query\": {\"type\": \"string\", \"description\": \"Query to search for in arXiv\"}\n",
    "        },\n",
    "    },\n",
    ")\n"
   ]
  },
  {
   "cell_type": "code",
   "execution_count": 4,
   "id": "fbefb689-1a7a-4a10-9ccf-dba0fd5fbe14",
   "metadata": {},
   "outputs": [],
   "source": [
    "search_tool = Tool(\n",
    "    function_declarations=[\n",
    "        search_arxiv,\n",
    "    ],\n",
    ")\n"
   ]
  },
  {
   "cell_type": "code",
   "execution_count": 5,
   "id": "3c1580bc-5b90-470f-bc92-f22d25704d71",
   "metadata": {},
   "outputs": [],
   "source": [
    "        get_current_weather_func = FunctionDeclaration(\n",
    "            name=\"get_current_weather\",\n",
    "            description=\"Get the current weather in a given location\",\n",
    "            parameters={\n",
    "                \"type\": \"object\",\n",
    "                \"properties\": {\n",
    "                    \"location\": {\n",
    "                        \"type\": \"string\",\n",
    "                        \"description\": \"The city and state, e.g. San Francisco, CA\"\n",
    "                    },\n",
    "                    \"unit\": {\n",
    "                        \"type\": \"string\",\n",
    "                        \"enum\": [\n",
    "                            \"celsius\",\n",
    "                            \"fahrenheit\",\n",
    "                        ]\n",
    "                    }\n",
    "                },\n",
    "                \"required\": [\n",
    "                    \"location\"\n",
    "                ]\n",
    "            },\n",
    "        )\n",
    "        weather_tool = Tool(\n",
    "            function_declarations=[get_current_weather_func],\n",
    "        )\n"
   ]
  },
  {
   "cell_type": "code",
   "execution_count": 90,
   "id": "863fa1e4-50ed-465f-9faa-c6c002384015",
   "metadata": {},
   "outputs": [
    {
     "name": "stdout",
     "output_type": "stream",
     "text": [
      "name: \"get_current_weather\"\n",
      "args {\n",
      "  fields {\n",
      "    key: \"location\"\n",
      "    value {\n",
      "      string_value: \"san francisco, ca\"\n",
      "    }\n",
      "  }\n",
      "}\n",
      "\n",
      "role: \"model\"\n",
      "parts {\n",
      "  function_call {\n",
      "    name: \"get_current_weather\"\n",
      "    args {\n",
      "      fields {\n",
      "        key: \"location\"\n",
      "        value {\n",
      "          string_value: \"San Francisco, CA\"\n",
      "        }\n",
      "      }\n",
      "    }\n",
      "  }\n",
      "}\n",
      "\n"
     ]
    }
   ],
   "source": [
    "prompt = \"What is the weather in san francisco today?\"\n",
    "model = GenerativeModel(\"gemini-pro\",tools=[weather_tool])\n",
    "response_function_call_content = response.candidates[0].content\n",
    "response = model.generate_content(\"What is the weather in san francisco today\")\n",
    "print(response.candidates[0].content.parts[0].function_call)\n",
    "print(response_function_call_content)"
   ]
  },
  {
   "cell_type": "code",
   "execution_count": 91,
   "id": "5bcccd69-3692-4f07-b950-7ab91e2353de",
   "metadata": {},
   "outputs": [
    {
     "data": {
      "text/plain": [
       "{'location': 'san francisco, ca'}"
      ]
     },
     "execution_count": 91,
     "metadata": {},
     "output_type": "execute_result"
    }
   ],
   "source": [
    "params = {}\n",
    "for key, value in response.candidates[0].content.parts[0].function_call.args.items():\n",
    "    params[key] = value\n",
    "params\n"
   ]
  },
  {
   "cell_type": "code",
   "execution_count": 92,
   "id": "def7e186-5609-4579-af6f-a542b018b57c",
   "metadata": {},
   "outputs": [],
   "source": [
    "def get_weather(location: str):\n",
    "    return f\"The weather of {location} is 82\""
   ]
  },
  {
   "cell_type": "code",
   "execution_count": 93,
   "id": "aaa058c4-fcc9-4f74-8897-b7c2d11a7001",
   "metadata": {},
   "outputs": [],
   "source": [
    "weather_response = get_weather(params[\"location\"])"
   ]
  },
  {
   "cell_type": "code",
   "execution_count": 95,
   "id": "5b0d857e-f24d-4ca4-aab0-f03ee3cf8806",
   "metadata": {},
   "outputs": [
    {
     "data": {
      "text/markdown": [
       "The current weather in San Francisco, CA is 82. \n"
      ],
      "text/plain": [
       "<IPython.core.display.Markdown object>"
      ]
     },
     "metadata": {},
     "output_type": "display_data"
    }
   ],
   "source": [
    "response = model.generate_content(\n",
    "    [\n",
    "        Content(\n",
    "            role=\"user\",\n",
    "            parts=[\n",
    "                Part.from_text(prompt),\n",
    "            ],\n",
    "        ),\n",
    "        response_function_call_content,  # Function call response\n",
    "        Content(\n",
    "            parts=[\n",
    "                Part.from_function_response(\n",
    "                    name=\"get_current_weather\",\n",
    "                    response={\n",
    "                        \"content\": weather_response,  # Return the API response to the Gemini model\n",
    "                    },\n",
    "                )\n",
    "            ],\n",
    "        ),\n",
    "    ],\n",
    "    tools=[weather_tool],\n",
    ")\n",
    "\n",
    "display(Markdown(response.text))\n"
   ]
  },
  {
   "cell_type": "code",
   "execution_count": 108,
   "id": "4a94d22a-9502-4724-9d45-88364afc14c3",
   "metadata": {},
   "outputs": [],
   "source": [
    "tool_config = ToolConfig(\n",
    "    function_calling_config=ToolConfig.FunctionCallingConfig(\n",
    "        mode=ToolConfig.FunctionCallingConfig.Mode.AUTO,  # The default model behavior. The model decides whether to predict a function call or a natural language response.\n",
    "    )\n",
    ")\n"
   ]
  },
  {
   "cell_type": "code",
   "execution_count": null,
   "id": "f5a66271-ddc6-4fe3-966d-e61d7fb9c0ae",
   "metadata": {},
   "outputs": [],
   "source": [
    "prompt = \"Explain the Schrodinger equation in a few sentences and give me papers from arXiv to learn more\"\n",
    "response = model.generate_content(prompt, tools=[search_tool], tool_config=tool_config)\n",
    "\n",
    "display(Markdown(response.candidates[0].content.parts[0].text))\n"
   ]
  },
  {
   "cell_type": "code",
   "execution_count": 50,
   "id": "bffaec2a-4a00-4f2d-ae2e-739e4bdb8d05",
   "metadata": {},
   "outputs": [],
   "source": [
    "tools = [TavilySearchResults(max_results=1)]\n",
    "\n",
    "# Get the prompt to use - you can modify this!\n",
    "prompt = hub.pull(\"hwchase17/openai-functions-agent\")\n",
    "\n",
    "safety_settings = {\n",
    "\tHarmCategory.HARM_CATEGORY_DANGEROUS_CONTENT: HarmBlockThreshold.BLOCK_LOW_AND_ABOVE,\n",
    "\tHarmCategory.HARM_CATEGORY_HATE_SPEECH: HarmBlockThreshold.BLOCK_LOW_AND_ABOVE,\n",
    "}\n",
    "\n",
    "# Choose the LLM that will drive the agent\n",
    "llm = ChatVertexAI(model_name=\"gemini-pro\",additional_kwargs={\"safety_settings\": safety_settings,\"generation_config\":gapic_content_types.GenerationConfig(\n",
    "                temperature=0.1,\n",
    "                top_p=0.95,\n",
    "                top_k=20,\n",
    "                candidate_count=1,\n",
    "                max_output_tokens=100,\n",
    "                stop_sequences=[\"STOP!\"],\n",
    "            )})\n",
    "\n",
    "functions = [format_tool_to_openai_function(t) for t in tools]\n",
    "model = llm.bind_tools(functions)\n",
    "\n",
    "# Construct the OpenAI Functions agent\n",
    "agent_runnable = create_openai_functions_agent(llm, tools, prompt)\n"
   ]
  },
  {
   "cell_type": "code",
   "execution_count": 57,
   "id": "82578fdb-278f-4637-be30-9dc45f6a76fd",
   "metadata": {},
   "outputs": [
    {
     "ename": "AssertionError",
     "evalue": "The input to RunnablePassthrough.assign() must be a dict.",
     "output_type": "error",
     "traceback": [
      "\u001b[0;31m---------------------------------------------------------------------------\u001b[0m",
      "\u001b[0;31mAssertionError\u001b[0m                            Traceback (most recent call last)",
      "Cell \u001b[0;32mIn[57], line 1\u001b[0m\n\u001b[0;32m----> 1\u001b[0m res \u001b[38;5;241m=\u001b[39m \u001b[43magent_runnable\u001b[49m\u001b[38;5;241;43m.\u001b[39;49m\u001b[43minvoke\u001b[49m\u001b[43m(\u001b[49m\u001b[43m \u001b[49m\u001b[43m[\u001b[49m\u001b[43mHumanMessage\u001b[49m\u001b[43m(\u001b[49m\u001b[43mcontent\u001b[49m\u001b[38;5;241;43m=\u001b[39;49m\u001b[38;5;124;43m\"\u001b[39;49m\u001b[38;5;124;43mWhat is LLM\u001b[39;49m\u001b[38;5;124;43m\"\u001b[39;49m\u001b[43m)\u001b[49m\u001b[43m]\u001b[49m\u001b[43m)\u001b[49m\n",
      "File \u001b[0;32m~/source/repos/BIMPoC/pythonenv/lib/python3.10/site-packages/langchain_core/runnables/base.py:2505\u001b[0m, in \u001b[0;36mRunnableSequence.invoke\u001b[0;34m(self, input, config, **kwargs)\u001b[0m\n\u001b[1;32m   2501\u001b[0m config \u001b[38;5;241m=\u001b[39m patch_config(\n\u001b[1;32m   2502\u001b[0m     config, callbacks\u001b[38;5;241m=\u001b[39mrun_manager\u001b[38;5;241m.\u001b[39mget_child(\u001b[38;5;124mf\u001b[39m\u001b[38;5;124m\"\u001b[39m\u001b[38;5;124mseq:step:\u001b[39m\u001b[38;5;132;01m{\u001b[39;00mi\u001b[38;5;241m+\u001b[39m\u001b[38;5;241m1\u001b[39m\u001b[38;5;132;01m}\u001b[39;00m\u001b[38;5;124m\"\u001b[39m)\n\u001b[1;32m   2503\u001b[0m )\n\u001b[1;32m   2504\u001b[0m \u001b[38;5;28;01mif\u001b[39;00m i \u001b[38;5;241m==\u001b[39m \u001b[38;5;241m0\u001b[39m:\n\u001b[0;32m-> 2505\u001b[0m     \u001b[38;5;28minput\u001b[39m \u001b[38;5;241m=\u001b[39m \u001b[43mstep\u001b[49m\u001b[38;5;241;43m.\u001b[39;49m\u001b[43minvoke\u001b[49m\u001b[43m(\u001b[49m\u001b[38;5;28;43minput\u001b[39;49m\u001b[43m,\u001b[49m\u001b[43m \u001b[49m\u001b[43mconfig\u001b[49m\u001b[43m,\u001b[49m\u001b[43m \u001b[49m\u001b[38;5;241;43m*\u001b[39;49m\u001b[38;5;241;43m*\u001b[39;49m\u001b[43mkwargs\u001b[49m\u001b[43m)\u001b[49m\n\u001b[1;32m   2506\u001b[0m \u001b[38;5;28;01melse\u001b[39;00m:\n\u001b[1;32m   2507\u001b[0m     \u001b[38;5;28minput\u001b[39m \u001b[38;5;241m=\u001b[39m step\u001b[38;5;241m.\u001b[39minvoke(\u001b[38;5;28minput\u001b[39m, config)\n",
      "File \u001b[0;32m~/source/repos/BIMPoC/pythonenv/lib/python3.10/site-packages/langchain_core/runnables/passthrough.py:469\u001b[0m, in \u001b[0;36mRunnableAssign.invoke\u001b[0;34m(self, input, config, **kwargs)\u001b[0m\n\u001b[1;32m    463\u001b[0m \u001b[38;5;28;01mdef\u001b[39;00m \u001b[38;5;21minvoke\u001b[39m(\n\u001b[1;32m    464\u001b[0m     \u001b[38;5;28mself\u001b[39m,\n\u001b[1;32m    465\u001b[0m     \u001b[38;5;28minput\u001b[39m: Dict[\u001b[38;5;28mstr\u001b[39m, Any],\n\u001b[1;32m    466\u001b[0m     config: Optional[RunnableConfig] \u001b[38;5;241m=\u001b[39m \u001b[38;5;28;01mNone\u001b[39;00m,\n\u001b[1;32m    467\u001b[0m     \u001b[38;5;241m*\u001b[39m\u001b[38;5;241m*\u001b[39mkwargs: Any,\n\u001b[1;32m    468\u001b[0m ) \u001b[38;5;241m-\u001b[39m\u001b[38;5;241m>\u001b[39m Dict[\u001b[38;5;28mstr\u001b[39m, Any]:\n\u001b[0;32m--> 469\u001b[0m     \u001b[38;5;28;01mreturn\u001b[39;00m \u001b[38;5;28;43mself\u001b[39;49m\u001b[38;5;241;43m.\u001b[39;49m\u001b[43m_call_with_config\u001b[49m\u001b[43m(\u001b[49m\u001b[38;5;28;43mself\u001b[39;49m\u001b[38;5;241;43m.\u001b[39;49m\u001b[43m_invoke\u001b[49m\u001b[43m,\u001b[49m\u001b[43m \u001b[49m\u001b[38;5;28;43minput\u001b[39;49m\u001b[43m,\u001b[49m\u001b[43m \u001b[49m\u001b[43mconfig\u001b[49m\u001b[43m,\u001b[49m\u001b[43m \u001b[49m\u001b[38;5;241;43m*\u001b[39;49m\u001b[38;5;241;43m*\u001b[39;49m\u001b[43mkwargs\u001b[49m\u001b[43m)\u001b[49m\n",
      "File \u001b[0;32m~/source/repos/BIMPoC/pythonenv/lib/python3.10/site-packages/langchain_core/runnables/base.py:1599\u001b[0m, in \u001b[0;36mRunnable._call_with_config\u001b[0;34m(self, func, input, config, run_type, **kwargs)\u001b[0m\n\u001b[1;32m   1595\u001b[0m     context \u001b[38;5;241m=\u001b[39m copy_context()\n\u001b[1;32m   1596\u001b[0m     context\u001b[38;5;241m.\u001b[39mrun(_set_config_context, child_config)\n\u001b[1;32m   1597\u001b[0m     output \u001b[38;5;241m=\u001b[39m cast(\n\u001b[1;32m   1598\u001b[0m         Output,\n\u001b[0;32m-> 1599\u001b[0m         \u001b[43mcontext\u001b[49m\u001b[38;5;241;43m.\u001b[39;49m\u001b[43mrun\u001b[49m\u001b[43m(\u001b[49m\n\u001b[1;32m   1600\u001b[0m \u001b[43m            \u001b[49m\u001b[43mcall_func_with_variable_args\u001b[49m\u001b[43m,\u001b[49m\u001b[43m  \u001b[49m\u001b[38;5;66;43;03m# type: ignore[arg-type]\u001b[39;49;00m\n\u001b[1;32m   1601\u001b[0m \u001b[43m            \u001b[49m\u001b[43mfunc\u001b[49m\u001b[43m,\u001b[49m\u001b[43m  \u001b[49m\u001b[38;5;66;43;03m# type: ignore[arg-type]\u001b[39;49;00m\n\u001b[1;32m   1602\u001b[0m \u001b[43m            \u001b[49m\u001b[38;5;28;43minput\u001b[39;49m\u001b[43m,\u001b[49m\u001b[43m  \u001b[49m\u001b[38;5;66;43;03m# type: ignore[arg-type]\u001b[39;49;00m\n\u001b[1;32m   1603\u001b[0m \u001b[43m            \u001b[49m\u001b[43mconfig\u001b[49m\u001b[43m,\u001b[49m\n\u001b[1;32m   1604\u001b[0m \u001b[43m            \u001b[49m\u001b[43mrun_manager\u001b[49m\u001b[43m,\u001b[49m\n\u001b[1;32m   1605\u001b[0m \u001b[43m            \u001b[49m\u001b[38;5;241;43m*\u001b[39;49m\u001b[38;5;241;43m*\u001b[39;49m\u001b[43mkwargs\u001b[49m\u001b[43m,\u001b[49m\n\u001b[1;32m   1606\u001b[0m \u001b[43m        \u001b[49m\u001b[43m)\u001b[49m,\n\u001b[1;32m   1607\u001b[0m     )\n\u001b[1;32m   1608\u001b[0m \u001b[38;5;28;01mexcept\u001b[39;00m \u001b[38;5;167;01mBaseException\u001b[39;00m \u001b[38;5;28;01mas\u001b[39;00m e:\n\u001b[1;32m   1609\u001b[0m     run_manager\u001b[38;5;241m.\u001b[39mon_chain_error(e)\n",
      "File \u001b[0;32m~/source/repos/BIMPoC/pythonenv/lib/python3.10/site-packages/langchain_core/runnables/config.py:380\u001b[0m, in \u001b[0;36mcall_func_with_variable_args\u001b[0;34m(func, input, config, run_manager, **kwargs)\u001b[0m\n\u001b[1;32m    378\u001b[0m \u001b[38;5;28;01mif\u001b[39;00m run_manager \u001b[38;5;129;01mis\u001b[39;00m \u001b[38;5;129;01mnot\u001b[39;00m \u001b[38;5;28;01mNone\u001b[39;00m \u001b[38;5;129;01mand\u001b[39;00m accepts_run_manager(func):\n\u001b[1;32m    379\u001b[0m     kwargs[\u001b[38;5;124m\"\u001b[39m\u001b[38;5;124mrun_manager\u001b[39m\u001b[38;5;124m\"\u001b[39m] \u001b[38;5;241m=\u001b[39m run_manager\n\u001b[0;32m--> 380\u001b[0m \u001b[38;5;28;01mreturn\u001b[39;00m \u001b[43mfunc\u001b[49m\u001b[43m(\u001b[49m\u001b[38;5;28;43minput\u001b[39;49m\u001b[43m,\u001b[49m\u001b[43m \u001b[49m\u001b[38;5;241;43m*\u001b[39;49m\u001b[38;5;241;43m*\u001b[39;49m\u001b[43mkwargs\u001b[49m\u001b[43m)\u001b[49m\n",
      "File \u001b[0;32m~/source/repos/BIMPoC/pythonenv/lib/python3.10/site-packages/langchain_core/runnables/passthrough.py:450\u001b[0m, in \u001b[0;36mRunnableAssign._invoke\u001b[0;34m(self, input, run_manager, config, **kwargs)\u001b[0m\n\u001b[1;32m    443\u001b[0m \u001b[38;5;28;01mdef\u001b[39;00m \u001b[38;5;21m_invoke\u001b[39m(\n\u001b[1;32m    444\u001b[0m     \u001b[38;5;28mself\u001b[39m,\n\u001b[1;32m    445\u001b[0m     \u001b[38;5;28minput\u001b[39m: Dict[\u001b[38;5;28mstr\u001b[39m, Any],\n\u001b[0;32m   (...)\u001b[0m\n\u001b[1;32m    448\u001b[0m     \u001b[38;5;241m*\u001b[39m\u001b[38;5;241m*\u001b[39mkwargs: Any,\n\u001b[1;32m    449\u001b[0m ) \u001b[38;5;241m-\u001b[39m\u001b[38;5;241m>\u001b[39m Dict[\u001b[38;5;28mstr\u001b[39m, Any]:\n\u001b[0;32m--> 450\u001b[0m     \u001b[38;5;28;01massert\u001b[39;00m \u001b[38;5;28misinstance\u001b[39m(\n\u001b[1;32m    451\u001b[0m         \u001b[38;5;28minput\u001b[39m, \u001b[38;5;28mdict\u001b[39m\n\u001b[1;32m    452\u001b[0m     ), \u001b[38;5;124m\"\u001b[39m\u001b[38;5;124mThe input to RunnablePassthrough.assign() must be a dict.\u001b[39m\u001b[38;5;124m\"\u001b[39m\n\u001b[1;32m    454\u001b[0m     \u001b[38;5;28;01mreturn\u001b[39;00m {\n\u001b[1;32m    455\u001b[0m         \u001b[38;5;241m*\u001b[39m\u001b[38;5;241m*\u001b[39m\u001b[38;5;28minput\u001b[39m,\n\u001b[1;32m    456\u001b[0m         \u001b[38;5;241m*\u001b[39m\u001b[38;5;241m*\u001b[39m\u001b[38;5;28mself\u001b[39m\u001b[38;5;241m.\u001b[39mmapper\u001b[38;5;241m.\u001b[39minvoke(\n\u001b[0;32m   (...)\u001b[0m\n\u001b[1;32m    460\u001b[0m         ),\n\u001b[1;32m    461\u001b[0m     }\n",
      "\u001b[0;31mAssertionError\u001b[0m: The input to RunnablePassthrough.assign() must be a dict."
     ]
    }
   ],
   "source": [
    "res = model.invoke( [HumanMessage(content=\"What is Langchain\")])"
   ]
  },
  {
   "cell_type": "code",
   "execution_count": 55,
   "id": "35e09142-8aa7-443c-8a9c-5e600ff6f6ae",
   "metadata": {},
   "outputs": [
    {
     "name": "stdout",
     "output_type": "stream",
     "text": [
      "content='' additional_kwargs={'function_call': {'name': 'tavily_search_results_json', 'arguments': '{\"query\": \"What is LLM\"}'}} response_metadata={'is_blocked': False, 'safety_ratings': [{'category': 'HARM_CATEGORY_HATE_SPEECH', 'probability_label': 'NEGLIGIBLE', 'blocked': False}, {'category': 'HARM_CATEGORY_DANGEROUS_CONTENT', 'probability_label': 'NEGLIGIBLE', 'blocked': False}, {'category': 'HARM_CATEGORY_HARASSMENT', 'probability_label': 'NEGLIGIBLE', 'blocked': False}, {'category': 'HARM_CATEGORY_SEXUALLY_EXPLICIT', 'probability_label': 'NEGLIGIBLE', 'blocked': False}], 'usage_metadata': {'prompt_token_count': 51, 'candidates_token_count': 13, 'total_token_count': 64}} id='run-6331b89e-1e3a-4351-91d1-17f3b066e6db-0' tool_calls=[{'name': 'tavily_search_results_json', 'args': {'query': 'What is LLM'}, 'id': '0f29c9d4-f96a-488a-8288-0c3a55eba241'}] usage_metadata={'input_tokens': 51, 'output_tokens': 13, 'total_tokens': 64}\n"
     ]
    }
   ],
   "source": [
    "print(res)"
   ]
  },
  {
   "cell_type": "code",
   "execution_count": 53,
   "id": "9a6de16c-a973-4180-af63-f12c10e35266",
   "metadata": {},
   "outputs": [
    {
     "ename": "KeyError",
     "evalue": "'function_call'",
     "output_type": "error",
     "traceback": [
      "\u001b[0;31m---------------------------------------------------------------------------\u001b[0m",
      "\u001b[0;31mKeyError\u001b[0m                                  Traceback (most recent call last)",
      "Cell \u001b[0;32mIn[53], line 2\u001b[0m\n\u001b[1;32m      1\u001b[0m toolT \u001b[38;5;241m=\u001b[39m TavilySearchResults(max_results\u001b[38;5;241m=\u001b[39m\u001b[38;5;241m1\u001b[39m)\n\u001b[0;32m----> 2\u001b[0m toolT\u001b[38;5;241m.\u001b[39minvoke(\u001b[43mres\u001b[49m\u001b[38;5;241;43m.\u001b[39;49m\u001b[43madditional_kwargs\u001b[49m\u001b[43m[\u001b[49m\u001b[38;5;124;43m\"\u001b[39;49m\u001b[38;5;124;43mfunction_call\u001b[39;49m\u001b[38;5;124;43m\"\u001b[39;49m\u001b[43m]\u001b[49m[\u001b[38;5;124m'\u001b[39m\u001b[38;5;124marguments\u001b[39m\u001b[38;5;124m'\u001b[39m])\n",
      "\u001b[0;31mKeyError\u001b[0m: 'function_call'"
     ]
    }
   ],
   "source": [
    "toolT = TavilySearchResults(max_results=1)\n",
    "toolT.invoke(res.additional_kwargs[\"function_call\"]['arguments'])"
   ]
  },
  {
   "cell_type": "code",
   "execution_count": 34,
   "id": "18c77c0a-ba09-463e-baaf-84e9a1ce0ab6",
   "metadata": {},
   "outputs": [],
   "source": [
    "resp = agent_runnable.invoke({\"input\": \"What is BIM\",\"intermediate_steps\":[]})"
   ]
  },
  {
   "cell_type": "code",
   "execution_count": 35,
   "id": "f2f83cb3-9083-4d8f-834f-f154fcde96ce",
   "metadata": {},
   "outputs": [
    {
     "name": "stdout",
     "output_type": "stream",
     "text": [
      "tool='tavily_search_results_json' tool_input={'query': 'What is BIM'} log=\"\\nInvoking: `tavily_search_results_json` with `{'query': 'What is BIM'}`\\n\\n\\n\" message_log=[AIMessage(content='', additional_kwargs={'function_call': {'name': 'tavily_search_results_json', 'arguments': '{\"query\": \"What is BIM\"}'}}, response_metadata={'is_blocked': False, 'safety_ratings': [{'category': 'HARM_CATEGORY_HATE_SPEECH', 'probability_label': 'NEGLIGIBLE', 'blocked': False}, {'category': 'HARM_CATEGORY_DANGEROUS_CONTENT', 'probability_label': 'NEGLIGIBLE', 'blocked': False}, {'category': 'HARM_CATEGORY_HARASSMENT', 'probability_label': 'NEGLIGIBLE', 'blocked': False}, {'category': 'HARM_CATEGORY_SEXUALLY_EXPLICIT', 'probability_label': 'NEGLIGIBLE', 'blocked': False}], 'usage_metadata': {'prompt_token_count': 55, 'candidates_token_count': 12, 'total_token_count': 67}}, id='run-0e1f7bd3-cd37-4a14-a10a-0da761d7233a-0', tool_calls=[{'name': 'tavily_search_results_json', 'args': {'query': 'What is BIM'}, 'id': '7284edbe-f4b8-4edd-95db-9c21359ac6aa'}], usage_metadata={'input_tokens': 55, 'output_tokens': 12, 'total_tokens': 67})]\n"
     ]
    }
   ],
   "source": [
    "print(resp)"
   ]
  },
  {
   "cell_type": "code",
   "execution_count": 19,
   "id": "7354dd39-aade-4ab9-a992-13d1a2b9085f",
   "metadata": {},
   "outputs": [],
   "source": [
    "import operator\n",
    "from typing import Annotated, TypedDict, Union\n",
    "\n",
    "from langchain_core.agents import AgentAction, AgentFinish\n",
    "from langchain_core.messages import BaseMessage\n",
    "\n",
    "\n",
    "class AgentState(TypedDict):\n",
    "    input: str\n",
    "    chat_history: list[BaseMessage]\n",
    "    agent_outcome: Union[AgentAction, AgentFinish, None]\n",
    "    intermediate_steps: Annotated[list[tuple[AgentAction, str]], operator.add]\n"
   ]
  },
  {
   "cell_type": "code",
   "execution_count": 36,
   "id": "aaddffde-73d7-437c-b8e2-21dbc80442d9",
   "metadata": {},
   "outputs": [],
   "source": [
    "from langchain_core.agents import AgentFinish\n",
    "\n",
    "from langgraph.prebuilt.tool_executor import ToolExecutor\n",
    "\n",
    "tool_executor = ToolExecutor(tools)\n",
    "\n",
    "\n",
    "def run_agent(data):\n",
    "    print(data)\n",
    "    agent_outcome = agent_runnable.invoke(data)\n",
    "    return {\"agent_outcome\": agent_outcome}\n",
    "\n",
    "\n",
    "def execute_tools(data):\n",
    "    agent_action = data[\"agent_outcome\"]\n",
    "    print(\"--------------------agent_action\",agent_action)\n",
    "    output = tool_executor.invoke(agent_action)\n",
    "    return {\"intermediate_steps\": [(agent_action, str(output))]}\n",
    "\n",
    "\n",
    "def should_continue(data):\n",
    "    if isinstance(data[\"agent_outcome\"], AgentFinish):\n",
    "        return \"end\"\n",
    "    else:\n",
    "        return \"continue\"\n"
   ]
  },
  {
   "cell_type": "code",
   "execution_count": 58,
   "id": "bce8477e-6cca-4b54-9a60-e0ce834a633e",
   "metadata": {},
   "outputs": [
    {
     "data": {
      "text/plain": [
       "[{'url': 'https://www.pbctoday.co.uk/news/digital-construction-news/bim-news/unlock-power-bim-field-with-reality-capture/140022/',\n",
       "  'content': 'How Digital Building Logbooks can boost retrofit and sustainability The potential of BIM for renovation projects The golden age of AI-based construction management and site monitoring From concept to construction: building with connected digital workflows United in the delivery of responsible AI Tap into technology to bridge the construction skills gap A look inside the Digital Construction Week 2024 speaker programme How digital materials procurement promotes sustainable practices A guide to thermal insulation standards in the UK Construction materials procurement transformed with data analytics LEAVE A REPLY Cancel reply Save my name, email, and website in this browser for the next time I comment.  Unlock the power of BIM in the field with reality capture OpenSpace, a leading AI construction tech company, enables field teams to navigate BIM models on-site When you’re using a BIM model on a project, you want to get it into the hands of those doing the building. Since connectivity can be an issue on-site, and it’s time consuming to search for a spot with a connection, use offline mode in the OpenSpace mobile app to access a downloaded model for reliable viewing out on the project. Trusted by industry leaders OpenSpace users have captured more than 2.5bn sq m on over 33,000 projects in 93 countries.  Use the Sheet Overlay feature to view your sheet drawing overlayed on the aligned floor of your BIM model, helping you better connect the 2D drawings you look at daily to the 3D information in your model.  Collaborate better As you compare and analyse your on-site condition against the model, easily call out any discrepancies by creating a BIM Compare Field Note – these notes include the image and the model in a single view.'}]"
      ]
     },
     "execution_count": 58,
     "metadata": {},
     "output_type": "execute_result"
    }
   ],
   "source": [
    "tool_executor.invoke(resp)"
   ]
  },
  {
   "cell_type": "code",
   "execution_count": 37,
   "id": "051027d7-585b-4d17-982b-8d375b384e61",
   "metadata": {},
   "outputs": [],
   "source": [
    "from langgraph.graph import END, StateGraph, START\n",
    "\n",
    "# Define a new graph\n",
    "workflow = StateGraph(AgentState)\n",
    "\n",
    "# Define the two nodes we will cycle between\n",
    "workflow.add_node(\"agent\", run_agent)\n",
    "workflow.add_node(\"action\", execute_tools)\n",
    "\n",
    "# Set the entrypoint as `agent`\n",
    "# This means that this node is the first one called\n",
    "workflow.add_edge(START, \"agent\")\n",
    "\n",
    "# We now add a conditional edge\n",
    "workflow.add_conditional_edges(\n",
    "    \"agent\",\n",
    "    should_continue,\n",
    "    # Finally we pass in a mapping.\n",
    "    # The keys are strings, and the values are other nodes.\n",
    "    # END is a special node marking that the graph should finish.\n",
    "    # What will happen is we will call `should_continue`, and then the output of that\n",
    "    # will be matched against the keys in this mapping.\n",
    "    # Based on which one it matches, that node will then be called.\n",
    "    {\n",
    "        # If `tools`, then we call the tool node.\n",
    "        \"continue\": \"action\",\n",
    "        # Otherwise we finish.\n",
    "        \"end\": END,\n",
    "    },\n",
    ")\n",
    "\n",
    "# We now add a normal edge from `tools` to `agent`.\n",
    "# This means that after `tools` is called, `agent` node is called next.\n",
    "workflow.add_edge(\"action\", \"agent\")\n",
    "\n",
    "# Finally, we compile it!\n",
    "# This compiles it into a LangChain Runnable,\n",
    "# meaning you can use it as you would any other runnable\n",
    "app = workflow.compile()\n"
   ]
  },
  {
   "cell_type": "code",
   "execution_count": 40,
   "id": "f1a07ba7-0c5b-4bd3-ac7e-e6f4162886a6",
   "metadata": {},
   "outputs": [
    {
     "name": "stdout",
     "output_type": "stream",
     "text": [
      "{'input': 'What is BIM', 'chat_history': [], 'agent_outcome': None, 'intermediate_steps': []}\n",
      "--------------------agent_action tool='tavily_search_results_json' tool_input={'query': 'What is BIM?'} log=\"\\nInvoking: `tavily_search_results_json` with `{'query': 'What is BIM?'}`\\n\\n\\n\" message_log=[AIMessage(content='', additional_kwargs={'function_call': {'name': 'tavily_search_results_json', 'arguments': '{\"query\": \"What is BIM?\"}'}}, response_metadata={'is_blocked': False, 'safety_ratings': [{'category': 'HARM_CATEGORY_HATE_SPEECH', 'probability_label': 'NEGLIGIBLE', 'blocked': False}, {'category': 'HARM_CATEGORY_DANGEROUS_CONTENT', 'probability_label': 'NEGLIGIBLE', 'blocked': False}, {'category': 'HARM_CATEGORY_HARASSMENT', 'probability_label': 'NEGLIGIBLE', 'blocked': False}, {'category': 'HARM_CATEGORY_SEXUALLY_EXPLICIT', 'probability_label': 'NEGLIGIBLE', 'blocked': False}], 'usage_metadata': {'prompt_token_count': 55, 'candidates_token_count': 13, 'total_token_count': 68}}, id='run-914728fe-5329-4a86-9bbc-a9f631462c56-0', tool_calls=[{'name': 'tavily_search_results_json', 'args': {'query': 'What is BIM?'}, 'id': 'b1ca8f0c-6c0c-495e-88e1-e48393678cd0'}], usage_metadata={'input_tokens': 55, 'output_tokens': 13, 'total_tokens': 68})]\n",
      "{'input': 'What is BIM', 'chat_history': [], 'agent_outcome': AgentActionMessageLog(tool='tavily_search_results_json', tool_input={'query': 'What is BIM?'}, log=\"\\nInvoking: `tavily_search_results_json` with `{'query': 'What is BIM?'}`\\n\\n\\n\", message_log=[AIMessage(content='', additional_kwargs={'function_call': {'name': 'tavily_search_results_json', 'arguments': '{\"query\": \"What is BIM?\"}'}}, response_metadata={'is_blocked': False, 'safety_ratings': [{'category': 'HARM_CATEGORY_HATE_SPEECH', 'probability_label': 'NEGLIGIBLE', 'blocked': False}, {'category': 'HARM_CATEGORY_DANGEROUS_CONTENT', 'probability_label': 'NEGLIGIBLE', 'blocked': False}, {'category': 'HARM_CATEGORY_HARASSMENT', 'probability_label': 'NEGLIGIBLE', 'blocked': False}, {'category': 'HARM_CATEGORY_SEXUALLY_EXPLICIT', 'probability_label': 'NEGLIGIBLE', 'blocked': False}], 'usage_metadata': {'prompt_token_count': 55, 'candidates_token_count': 13, 'total_token_count': 68}}, id='run-914728fe-5329-4a86-9bbc-a9f631462c56-0', tool_calls=[{'name': 'tavily_search_results_json', 'args': {'query': 'What is BIM?'}, 'id': 'b1ca8f0c-6c0c-495e-88e1-e48393678cd0'}], usage_metadata={'input_tokens': 55, 'output_tokens': 13, 'total_tokens': 68})]), 'intermediate_steps': [(AgentActionMessageLog(tool='tavily_search_results_json', tool_input={'query': 'What is BIM?'}, log=\"\\nInvoking: `tavily_search_results_json` with `{'query': 'What is BIM?'}`\\n\\n\\n\", message_log=[AIMessage(content='', additional_kwargs={'function_call': {'name': 'tavily_search_results_json', 'arguments': '{\"query\": \"What is BIM?\"}'}}, response_metadata={'is_blocked': False, 'safety_ratings': [{'category': 'HARM_CATEGORY_HATE_SPEECH', 'probability_label': 'NEGLIGIBLE', 'blocked': False}, {'category': 'HARM_CATEGORY_DANGEROUS_CONTENT', 'probability_label': 'NEGLIGIBLE', 'blocked': False}, {'category': 'HARM_CATEGORY_HARASSMENT', 'probability_label': 'NEGLIGIBLE', 'blocked': False}, {'category': 'HARM_CATEGORY_SEXUALLY_EXPLICIT', 'probability_label': 'NEGLIGIBLE', 'blocked': False}], 'usage_metadata': {'prompt_token_count': 55, 'candidates_token_count': 13, 'total_token_count': 68}}, id='run-914728fe-5329-4a86-9bbc-a9f631462c56-0', tool_calls=[{'name': 'tavily_search_results_json', 'args': {'query': 'What is BIM?'}, 'id': 'b1ca8f0c-6c0c-495e-88e1-e48393678cd0'}], usage_metadata={'input_tokens': 55, 'output_tokens': 13, 'total_tokens': 68})]), \"[{'url': 'https://www.autodesk.com/solutions/aec/bim', 'content': 'Building information modeling (BIM) is the foundation of digital transformation in the architecture, engineering, and construction (AEC) industry.Architecture · BIM Interoperability · For Civil Engineering · MEP'}]\")]}\n"
     ]
    },
    {
     "data": {
      "text/plain": [
       "{'input': 'What is BIM',\n",
       " 'chat_history': [],\n",
       " 'agent_outcome': AgentFinish(return_values={'output': '## BIM: Building Information Modeling\\n\\nBuilding Information Modeling (BIM) is a process for creating and managing information about a building or other physical object across its entire lifecycle. This information can be used to generate 3D models, 2D drawings, and other documentation that can be used for design, construction, and operation of the building.\\n\\nHere are some key points about BIM:\\n\\n* **Digital Representation:** BIM creates a digital representation of a building, including all of its physical and functional characteristics. This model can be used to simulate how the building will perform under different conditions, and to generate accurate construction documents.\\n* **Collaboration:** BIM facilitates collaboration between different disciplines involved in the design and construction process. This is because the model provides a single source of truth for all project information, and can be accessed and updated by all stakeholders.\\n* **Improved Efficiency:** BIM can lead to improved efficiency in both the design and construction process. This is because the model can be used to identify and resolve potential problems before construction begins, and to generate accurate and complete construction documents.\\n* **Data-Driven Decision Making:** BIM provides a rich source of data about a building that can be used to make informed decisions about its design, construction, and operation. This data can also be used to track the performance of the building over time.\\n\\nHere are some of the applications of BIM:\\n\\n* **Architectural design:** BIM can be used to create 3D models of buildings that can be used to visualize the design and to identify potential problems.\\n* **Construction planning:** BIM can be used to create construction plans that are accurate and complete. This can help to reduce the time and cost of construction.\\n* **Facility management:** BIM can be used to track the performance of a building and to identify potential problems. This can help to improve the efficiency of the building and to reduce its operating costs.\\n\\nOverall, BIM is a powerful tool that can be used to improve the design, construction, and operation of buildings.\\n\\nI hope this information is helpful. Please let me know if you have any other questions.'}, log='## BIM: Building Information Modeling\\n\\nBuilding Information Modeling (BIM) is a process for creating and managing information about a building or other physical object across its entire lifecycle. This information can be used to generate 3D models, 2D drawings, and other documentation that can be used for design, construction, and operation of the building.\\n\\nHere are some key points about BIM:\\n\\n* **Digital Representation:** BIM creates a digital representation of a building, including all of its physical and functional characteristics. This model can be used to simulate how the building will perform under different conditions, and to generate accurate construction documents.\\n* **Collaboration:** BIM facilitates collaboration between different disciplines involved in the design and construction process. This is because the model provides a single source of truth for all project information, and can be accessed and updated by all stakeholders.\\n* **Improved Efficiency:** BIM can lead to improved efficiency in both the design and construction process. This is because the model can be used to identify and resolve potential problems before construction begins, and to generate accurate and complete construction documents.\\n* **Data-Driven Decision Making:** BIM provides a rich source of data about a building that can be used to make informed decisions about its design, construction, and operation. This data can also be used to track the performance of the building over time.\\n\\nHere are some of the applications of BIM:\\n\\n* **Architectural design:** BIM can be used to create 3D models of buildings that can be used to visualize the design and to identify potential problems.\\n* **Construction planning:** BIM can be used to create construction plans that are accurate and complete. This can help to reduce the time and cost of construction.\\n* **Facility management:** BIM can be used to track the performance of a building and to identify potential problems. This can help to improve the efficiency of the building and to reduce its operating costs.\\n\\nOverall, BIM is a powerful tool that can be used to improve the design, construction, and operation of buildings.\\n\\nI hope this information is helpful. Please let me know if you have any other questions.'),\n",
       " 'intermediate_steps': [(AgentActionMessageLog(tool='tavily_search_results_json', tool_input={'query': 'What is BIM?'}, log=\"\\nInvoking: `tavily_search_results_json` with `{'query': 'What is BIM?'}`\\n\\n\\n\", message_log=[AIMessage(content='', additional_kwargs={'function_call': {'name': 'tavily_search_results_json', 'arguments': '{\"query\": \"What is BIM?\"}'}}, response_metadata={'is_blocked': False, 'safety_ratings': [{'category': 'HARM_CATEGORY_HATE_SPEECH', 'probability_label': 'NEGLIGIBLE', 'blocked': False}, {'category': 'HARM_CATEGORY_DANGEROUS_CONTENT', 'probability_label': 'NEGLIGIBLE', 'blocked': False}, {'category': 'HARM_CATEGORY_HARASSMENT', 'probability_label': 'NEGLIGIBLE', 'blocked': False}, {'category': 'HARM_CATEGORY_SEXUALLY_EXPLICIT', 'probability_label': 'NEGLIGIBLE', 'blocked': False}], 'usage_metadata': {'prompt_token_count': 55, 'candidates_token_count': 13, 'total_token_count': 68}}, id='run-914728fe-5329-4a86-9bbc-a9f631462c56-0', tool_calls=[{'name': 'tavily_search_results_json', 'args': {'query': 'What is BIM?'}, 'id': 'b1ca8f0c-6c0c-495e-88e1-e48393678cd0'}], usage_metadata={'input_tokens': 55, 'output_tokens': 13, 'total_tokens': 68})]),\n",
       "   \"[{'url': 'https://www.autodesk.com/solutions/aec/bim', 'content': 'Building information modeling (BIM) is the foundation of digital transformation in the architecture, engineering, and construction (AEC) industry.Architecture · BIM Interoperability · For Civil Engineering · MEP'}]\")]}"
      ]
     },
     "execution_count": 40,
     "metadata": {},
     "output_type": "execute_result"
    }
   ],
   "source": [
    "app.invoke(\n",
    "    {\"input\": \"What is BIM\",\"chat_history\": []},\n",
    "    config={\"configurable\": {\"thread_id\": 42}}\n",
    ")\n"
   ]
  },
  {
   "cell_type": "code",
   "execution_count": null,
   "id": "70337fbd-2b9c-4815-a5fb-849ec7254efe",
   "metadata": {},
   "outputs": [],
   "source": []
  }
 ],
 "metadata": {
  "kernelspec": {
   "display_name": "Python 3 (ipykernel)",
   "language": "python",
   "name": "python3"
  },
  "language_info": {
   "codemirror_mode": {
    "name": "ipython",
    "version": 3
   },
   "file_extension": ".py",
   "mimetype": "text/x-python",
   "name": "python",
   "nbconvert_exporter": "python",
   "pygments_lexer": "ipython3",
   "version": "3.10.12"
  }
 },
 "nbformat": 4,
 "nbformat_minor": 5
}
