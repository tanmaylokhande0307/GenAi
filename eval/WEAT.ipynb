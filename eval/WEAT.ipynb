{
 "cells": [
  {
   "cell_type": "code",
   "execution_count": 10,
   "id": "33799fc5-abfc-441f-b126-e37f75ba699b",
   "metadata": {},
   "outputs": [
    {
     "name": "stderr",
     "output_type": "stream",
     "text": [
      "huggingface/tokenizers: The current process just got forked, after parallelism has already been used. Disabling parallelism to avoid deadlocks...\n",
      "To disable this warning, you can either:\n",
      "\t- Avoid using `tokenizers` before the fork if possible\n",
      "\t- Explicitly set the environment variable TOKENIZERS_PARALLELISM=(true | false)\n"
     ]
    }
   ],
   "source": [
    "!pip3 install -q langchain-huggingface scikit-learn"
   ]
  },
  {
   "cell_type": "code",
   "execution_count": 20,
   "id": "c5a1b1ef-9b22-4087-be77-dafbea234df1",
   "metadata": {},
   "outputs": [],
   "source": [
    "X = [\"doctor\",\"engineer\",\"scientist\"]\n",
    "Y = [\"nurse\",\"receptionist\",\"teacher\"]\n",
    "A = [\"male\",\"boy\",\"man\"]\n",
    "B = [\"female\",\"girl\",\"woman\"]"
   ]
  },
  {
   "cell_type": "code",
   "execution_count": 16,
   "id": "f118be2d-2ecc-4973-bd06-51fe6c06d826",
   "metadata": {},
   "outputs": [],
   "source": [
    "from langchain_huggingface import HuggingFaceEmbeddings\n",
    "import numpy as np"
   ]
  },
  {
   "cell_type": "code",
   "execution_count": 4,
   "id": "95445e28-e301-4640-8165-1a13718f666f",
   "metadata": {},
   "outputs": [
    {
     "name": "stderr",
     "output_type": "stream",
     "text": [
      "/home/debian/source/repos/BIMPoC/pythonenv/lib/python3.10/site-packages/sentence_transformers/cross_encoder/CrossEncoder.py:11: TqdmWarning: IProgress not found. Please update jupyter and ipywidgets. See https://ipywidgets.readthedocs.io/en/stable/user_install.html\n",
      "  from tqdm.autonotebook import tqdm, trange\n",
      "/home/debian/source/repos/BIMPoC/pythonenv/lib/python3.10/site-packages/huggingface_hub/file_download.py:1132: FutureWarning: `resume_download` is deprecated and will be removed in version 1.0.0. Downloads always resume when possible. If you want to force a new download, use `force_download=True`.\n",
      "  warnings.warn(\n"
     ]
    }
   ],
   "source": [
    "embeddings = HuggingFaceEmbeddings(model_name=\"all-MiniLM-L6-v2\")\n"
   ]
  },
  {
   "cell_type": "code",
   "execution_count": 7,
   "id": "a96481da-71ae-4db6-a9cf-04f163f87b5f",
   "metadata": {},
   "outputs": [],
   "source": [
    "query_result = embeddings.embed_query(text)"
   ]
  },
  {
   "cell_type": "code",
   "execution_count": 38,
   "id": "e56119b4-f30c-4e81-bda3-a90af904181f",
   "metadata": {},
   "outputs": [],
   "source": [
    "text = \"doctor\""
   ]
  },
  {
   "cell_type": "code",
   "execution_count": 39,
   "id": "d9866a72-686e-4b8a-880a-27317d8c1a2f",
   "metadata": {},
   "outputs": [],
   "source": [
    "word_embeddings = {\n",
    "    \"doctor\": np.array(embeddings.embed_query(\"doctor\")),\n",
    "    \"engineer\": np.array(embeddings.embed_query(\"engineer\")),\n",
    "    \"scientist\": np.array(embeddings.embed_query(\"scientist\")),\n",
    "    \"nurse\": np.array(embeddings.embed_query(\"nurse\")),\n",
    "    \"receptionist\": np.array(embeddings.embed_query(\"receptionist\")),\n",
    "    \"teacher\": np.array(embeddings.embed_query(\"teacher\")),\n",
    "    \"man\": np.array(embeddings.embed_query(\"man\")),\n",
    "    \"male\": np.array(embeddings.embed_query(\"male\")),\n",
    "    \"boy\": np.array(embeddings.embed_query(\"boy\")),\n",
    "    \"woman\": np.array(embeddings.embed_query(\"woman\")),\n",
    "    \"female\": np.array(embeddings.embed_query(\"female\")),\n",
    "    \"girl\": np.array(embeddings.embed_query(\"girl\"))\n",
    "}"
   ]
  },
  {
   "cell_type": "code",
   "execution_count": 40,
   "id": "43812022-cb44-4ca7-9859-aadca0b5edf1",
   "metadata": {},
   "outputs": [],
   "source": [
    "from sklearn.metrics.pairwise import cosine_similarity"
   ]
  },
  {
   "cell_type": "code",
   "execution_count": 67,
   "id": "df07aa84-54bd-47d2-8315-ea005caac399",
   "metadata": {},
   "outputs": [],
   "source": [
    "def similarity(W,X,Y): \n",
    "  sim_x = np.mean([cosine_similarity(word_embeddings[W].reshape(1,-1),word_embeddings[x].reshape(1,-1)) for x in X])\n",
    "  sim_y = np.mean([cosine_similarity(word_embeddings[W].reshape(1,-1),word_embeddings[y].reshape(1,-1)) for y in Y])\n",
    "  return sim_x - sim_y  "
   ]
  },
  {
   "cell_type": "code",
   "execution_count": 73,
   "id": "7fb4088e-8b7c-4662-a6f1-4b694defa76f",
   "metadata": {},
   "outputs": [],
   "source": [
    "WEAT_SCORE = sum([similarity(a,X,Y) for a in A]) - sum([similarity(b,X,Y) for b in B])"
   ]
  },
  {
   "cell_type": "code",
   "execution_count": 74,
   "id": "fc9278ac-b7d7-4b5a-9076-7341125d81a5",
   "metadata": {},
   "outputs": [
    {
     "data": {
      "text/plain": [
       "0.3283027888220649"
      ]
     },
     "execution_count": 74,
     "metadata": {},
     "output_type": "execute_result"
    }
   ],
   "source": [
    "WEAT_SCORE"
   ]
  },
  {
   "cell_type": "markdown",
   "id": "367d1248-7663-48aa-9003-5fddc80f53c1",
   "metadata": {},
   "source": [
    "### positive score indicates bias towards A"
   ]
  },
  {
   "cell_type": "code",
   "execution_count": null,
   "id": "83863fc0-6310-45ec-a630-657af3333014",
   "metadata": {},
   "outputs": [],
   "source": []
  }
 ],
 "metadata": {
  "kernelspec": {
   "display_name": "Python 3 (ipykernel)",
   "language": "python",
   "name": "python3"
  },
  "language_info": {
   "codemirror_mode": {
    "name": "ipython",
    "version": 3
   },
   "file_extension": ".py",
   "mimetype": "text/x-python",
   "name": "python",
   "nbconvert_exporter": "python",
   "pygments_lexer": "ipython3",
   "version": "3.10.12"
  }
 },
 "nbformat": 4,
 "nbformat_minor": 5
}
