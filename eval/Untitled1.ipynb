{
 "cells": [
  {
   "cell_type": "code",
   "execution_count": 33,
   "id": "fca01290-7f20-444e-a2d8-975bc65500ff",
   "metadata": {},
   "outputs": [
    {
     "name": "stdout",
     "output_type": "stream",
     "text": [
      "Requirement already satisfied: giskard[llm] in /home/debian/source/repos/BIMPoC/pythonenv/lib/python3.10/site-packages (2.14.4)\n",
      "Requirement already satisfied: cloudpickle>=1.1.1 in /home/debian/source/repos/BIMPoC/pythonenv/lib/python3.10/site-packages (from giskard[llm]) (3.0.0)\n",
      "Requirement already satisfied: zstandard>=0.10.0 in /home/debian/source/repos/BIMPoC/pythonenv/lib/python3.10/site-packages (from giskard[llm]) (0.22.0)\n",
      "Requirement already satisfied: mlflow-skinny>=2 in /home/debian/source/repos/BIMPoC/pythonenv/lib/python3.10/site-packages (from giskard[llm]) (2.14.0)\n",
      "Requirement already satisfied: numpy<2,>=1.22.0 in /home/debian/source/repos/BIMPoC/pythonenv/lib/python3.10/site-packages (from giskard[llm]) (1.26.4)\n",
      "Requirement already satisfied: scikit-learn>=1.0 in /home/debian/source/repos/BIMPoC/pythonenv/lib/python3.10/site-packages (from giskard[llm]) (1.5.0)\n",
      "Requirement already satisfied: scipy<1.12.0,>=1.7.3 in /home/debian/source/repos/BIMPoC/pythonenv/lib/python3.10/site-packages (from giskard[llm]) (1.11.4)\n",
      "Requirement already satisfied: mixpanel>=4.4.0 in /home/debian/source/repos/BIMPoC/pythonenv/lib/python3.10/site-packages (from giskard[llm]) (4.10.1)\n",
      "Requirement already satisfied: requests>=2.19 in /home/debian/source/repos/BIMPoC/pythonenv/lib/python3.10/site-packages (from giskard[llm]) (2.32.3)\n",
      "Requirement already satisfied: pydantic<3,>1 in /home/debian/source/repos/BIMPoC/pythonenv/lib/python3.10/site-packages (from giskard[llm]) (2.8.2)\n",
      "Requirement already satisfied: pandas>=2.0 in /home/debian/source/repos/BIMPoC/pythonenv/lib/python3.10/site-packages (from giskard[llm]) (2.2.2)\n",
      "Requirement already satisfied: xxhash>=3.2.0 in /home/debian/source/repos/BIMPoC/pythonenv/lib/python3.10/site-packages (from giskard[llm]) (3.4.1)\n",
      "Requirement already satisfied: langdetect>=1.0.9 in /home/debian/source/repos/BIMPoC/pythonenv/lib/python3.10/site-packages (from giskard[llm]) (1.0.9)\n",
      "Requirement already satisfied: chardet in /home/debian/source/repos/BIMPoC/pythonenv/lib/python3.10/site-packages (from giskard[llm]) (5.2.0)\n",
      "Requirement already satisfied: jinja2>=3 in /home/debian/source/repos/BIMPoC/pythonenv/lib/python3.10/site-packages (from giskard[llm]) (3.1.4)\n",
      "Requirement already satisfied: requests-toolbelt>=0.9.1 in /home/debian/source/repos/BIMPoC/pythonenv/lib/python3.10/site-packages (from giskard[llm]) (1.0.0)\n",
      "Requirement already satisfied: setuptools in /home/debian/source/repos/BIMPoC/pythonenv/lib/python3.10/site-packages (from giskard[llm]) (59.6.0)\n",
      "Requirement already satisfied: typing-extensions in /home/debian/source/repos/BIMPoC/pythonenv/lib/python3.10/site-packages (from giskard[llm]) (4.12.2)\n",
      "Requirement already satisfied: pyyaml in /home/debian/source/repos/BIMPoC/pythonenv/lib/python3.10/site-packages (from giskard[llm]) (6.0.1)\n",
      "Requirement already satisfied: packaging in /home/debian/source/repos/BIMPoC/pythonenv/lib/python3.10/site-packages (from giskard[llm]) (23.2)\n",
      "Requirement already satisfied: markdown in /home/debian/source/repos/BIMPoC/pythonenv/lib/python3.10/site-packages (from giskard[llm]) (3.6)\n",
      "Requirement already satisfied: colorama in /home/debian/source/repos/BIMPoC/pythonenv/lib/python3.10/site-packages (from giskard[llm]) (0.4.6)\n",
      "Requirement already satisfied: num2words>=0.5.13 in /home/debian/source/repos/BIMPoC/pythonenv/lib/python3.10/site-packages (from giskard[llm]) (0.5.13)\n",
      "Requirement already satisfied: griffe<0.49.0,>=0.36.9 in /home/debian/source/repos/BIMPoC/pythonenv/lib/python3.10/site-packages (from giskard[llm]) (0.47.0)\n",
      "Requirement already satisfied: sentry-sdk>=1.40.5 in /home/debian/source/repos/BIMPoC/pythonenv/lib/python3.10/site-packages (from giskard[llm]) (2.5.1)\n",
      "Requirement already satisfied: openai in /home/debian/source/repos/BIMPoC/pythonenv/lib/python3.10/site-packages (from giskard[llm]) (1.40.6)\n",
      "Requirement already satisfied: evaluate>=0.4.1 in /home/debian/source/repos/BIMPoC/pythonenv/lib/python3.10/site-packages (from giskard[llm]) (0.4.2)\n",
      "Requirement already satisfied: bert-score>=0.3.13 in /home/debian/source/repos/BIMPoC/pythonenv/lib/python3.10/site-packages (from giskard[llm]) (0.3.13)\n",
      "Requirement already satisfied: tenacity>=4.11.0 in /home/debian/source/repos/BIMPoC/pythonenv/lib/python3.10/site-packages (from giskard[llm]) (8.3.0)\n",
      "Requirement already satisfied: faiss-cpu<1.8.0.post1,>=1.7.4 in /home/debian/source/repos/BIMPoC/pythonenv/lib/python3.10/site-packages (from giskard[llm]) (1.8.0)\n",
      "Requirement already satisfied: bokeh>=3.3.4 in /home/debian/source/repos/BIMPoC/pythonenv/lib/python3.10/site-packages (from giskard[llm]) (3.4.1)\n",
      "Requirement already satisfied: umap-learn>=0.5.5 in /home/debian/source/repos/BIMPoC/pythonenv/lib/python3.10/site-packages (from giskard[llm]) (0.5.6)\n",
      "Requirement already satisfied: torch>=1.0.0 in /home/debian/source/repos/BIMPoC/pythonenv/lib/python3.10/site-packages (from bert-score>=0.3.13->giskard[llm]) (2.3.1)\n",
      "Requirement already satisfied: transformers>=3.0.0 in /home/debian/source/repos/BIMPoC/pythonenv/lib/python3.10/site-packages (from bert-score>=0.3.13->giskard[llm]) (4.43.3)\n",
      "Requirement already satisfied: tqdm>=4.31.1 in /home/debian/source/repos/BIMPoC/pythonenv/lib/python3.10/site-packages (from bert-score>=0.3.13->giskard[llm]) (4.66.4)\n",
      "Requirement already satisfied: matplotlib in /home/debian/source/repos/BIMPoC/pythonenv/lib/python3.10/site-packages (from bert-score>=0.3.13->giskard[llm]) (3.9.0)\n",
      "Requirement already satisfied: contourpy>=1.2 in /home/debian/source/repos/BIMPoC/pythonenv/lib/python3.10/site-packages (from bokeh>=3.3.4->giskard[llm]) (1.2.1)\n",
      "Requirement already satisfied: pillow>=7.1.0 in /home/debian/source/repos/BIMPoC/pythonenv/lib/python3.10/site-packages (from bokeh>=3.3.4->giskard[llm]) (10.3.0)\n",
      "Requirement already satisfied: tornado>=6.2 in /home/debian/source/repos/BIMPoC/pythonenv/lib/python3.10/site-packages (from bokeh>=3.3.4->giskard[llm]) (6.4.1)\n",
      "Requirement already satisfied: xyzservices>=2021.09.1 in /home/debian/source/repos/BIMPoC/pythonenv/lib/python3.10/site-packages (from bokeh>=3.3.4->giskard[llm]) (2024.6.0)\n",
      "Requirement already satisfied: datasets>=2.0.0 in /home/debian/source/repos/BIMPoC/pythonenv/lib/python3.10/site-packages (from evaluate>=0.4.1->giskard[llm]) (2.20.0)\n",
      "Requirement already satisfied: dill in /home/debian/source/repos/BIMPoC/pythonenv/lib/python3.10/site-packages (from evaluate>=0.4.1->giskard[llm]) (0.3.8)\n",
      "Requirement already satisfied: multiprocess in /home/debian/source/repos/BIMPoC/pythonenv/lib/python3.10/site-packages (from evaluate>=0.4.1->giskard[llm]) (0.70.16)\n",
      "Requirement already satisfied: fsspec>=2021.05.0 in /home/debian/source/repos/BIMPoC/pythonenv/lib/python3.10/site-packages (from fsspec[http]>=2021.05.0->evaluate>=0.4.1->giskard[llm]) (2024.3.1)\n",
      "Requirement already satisfied: huggingface-hub>=0.7.0 in /home/debian/source/repos/BIMPoC/pythonenv/lib/python3.10/site-packages (from evaluate>=0.4.1->giskard[llm]) (0.23.4)\n",
      "Requirement already satisfied: MarkupSafe>=2.0 in /home/debian/source/repos/BIMPoC/pythonenv/lib/python3.10/site-packages (from jinja2>=3->giskard[llm]) (2.1.5)\n",
      "Requirement already satisfied: six in /home/debian/source/repos/BIMPoC/pythonenv/lib/python3.10/site-packages (from langdetect>=1.0.9->giskard[llm]) (1.16.0)\n",
      "Requirement already satisfied: urllib3 in /home/debian/source/repos/BIMPoC/pythonenv/lib/python3.10/site-packages (from mixpanel>=4.4.0->giskard[llm]) (2.2.1)\n",
      "Requirement already satisfied: cachetools<6,>=5.0.0 in /home/debian/source/repos/BIMPoC/pythonenv/lib/python3.10/site-packages (from mlflow-skinny>=2->giskard[llm]) (5.3.3)\n",
      "Requirement already satisfied: click<9,>=7.0 in /home/debian/source/repos/BIMPoC/pythonenv/lib/python3.10/site-packages (from mlflow-skinny>=2->giskard[llm]) (8.1.7)\n",
      "Requirement already satisfied: entrypoints<1 in /home/debian/source/repos/BIMPoC/pythonenv/lib/python3.10/site-packages (from mlflow-skinny>=2->giskard[llm]) (0.4)\n",
      "Requirement already satisfied: gitpython<4,>=3.1.9 in /home/debian/source/repos/BIMPoC/pythonenv/lib/python3.10/site-packages (from mlflow-skinny>=2->giskard[llm]) (3.1.43)\n",
      "Requirement already satisfied: importlib-metadata!=4.7.0,<8,>=3.7.0 in /home/debian/source/repos/BIMPoC/pythonenv/lib/python3.10/site-packages (from mlflow-skinny>=2->giskard[llm]) (7.1.0)\n",
      "Requirement already satisfied: opentelemetry-api<3,>=1.9.0 in /home/debian/source/repos/BIMPoC/pythonenv/lib/python3.10/site-packages (from mlflow-skinny>=2->giskard[llm]) (1.25.0)\n",
      "Requirement already satisfied: opentelemetry-sdk<3,>=1.9.0 in /home/debian/source/repos/BIMPoC/pythonenv/lib/python3.10/site-packages (from mlflow-skinny>=2->giskard[llm]) (1.25.0)\n",
      "Requirement already satisfied: protobuf<5,>=3.12.0 in /home/debian/source/repos/BIMPoC/pythonenv/lib/python3.10/site-packages (from mlflow-skinny>=2->giskard[llm]) (4.25.3)\n",
      "Requirement already satisfied: pytz<2025 in /home/debian/source/repos/BIMPoC/pythonenv/lib/python3.10/site-packages (from mlflow-skinny>=2->giskard[llm]) (2024.1)\n",
      "Requirement already satisfied: sqlparse<1,>=0.4.0 in /home/debian/source/repos/BIMPoC/pythonenv/lib/python3.10/site-packages (from mlflow-skinny>=2->giskard[llm]) (0.5.0)\n",
      "Requirement already satisfied: docopt>=0.6.2 in /home/debian/source/repos/BIMPoC/pythonenv/lib/python3.10/site-packages (from num2words>=0.5.13->giskard[llm]) (0.6.2)\n",
      "Requirement already satisfied: python-dateutil>=2.8.2 in /home/debian/source/repos/BIMPoC/pythonenv/lib/python3.10/site-packages (from pandas>=2.0->giskard[llm]) (2.9.0.post0)\n",
      "Requirement already satisfied: tzdata>=2022.7 in /home/debian/source/repos/BIMPoC/pythonenv/lib/python3.10/site-packages (from pandas>=2.0->giskard[llm]) (2024.1)\n",
      "Requirement already satisfied: annotated-types>=0.4.0 in /home/debian/source/repos/BIMPoC/pythonenv/lib/python3.10/site-packages (from pydantic<3,>1->giskard[llm]) (0.7.0)\n",
      "Requirement already satisfied: pydantic-core==2.20.1 in /home/debian/source/repos/BIMPoC/pythonenv/lib/python3.10/site-packages (from pydantic<3,>1->giskard[llm]) (2.20.1)\n",
      "Requirement already satisfied: charset-normalizer<4,>=2 in /home/debian/source/repos/BIMPoC/pythonenv/lib/python3.10/site-packages (from requests>=2.19->giskard[llm]) (3.3.2)\n",
      "Requirement already satisfied: idna<4,>=2.5 in /home/debian/source/repos/BIMPoC/pythonenv/lib/python3.10/site-packages (from requests>=2.19->giskard[llm]) (3.7)\n",
      "Requirement already satisfied: certifi>=2017.4.17 in /home/debian/source/repos/BIMPoC/pythonenv/lib/python3.10/site-packages (from requests>=2.19->giskard[llm]) (2024.6.2)\n",
      "Requirement already satisfied: joblib>=1.2.0 in /home/debian/source/repos/BIMPoC/pythonenv/lib/python3.10/site-packages (from scikit-learn>=1.0->giskard[llm]) (1.4.2)\n",
      "Requirement already satisfied: threadpoolctl>=3.1.0 in /home/debian/source/repos/BIMPoC/pythonenv/lib/python3.10/site-packages (from scikit-learn>=1.0->giskard[llm]) (3.5.0)\n",
      "Requirement already satisfied: numba>=0.51.2 in /home/debian/source/repos/BIMPoC/pythonenv/lib/python3.10/site-packages (from umap-learn>=0.5.5->giskard[llm]) (0.60.0)\n",
      "Requirement already satisfied: pynndescent>=0.5 in /home/debian/source/repos/BIMPoC/pythonenv/lib/python3.10/site-packages (from umap-learn>=0.5.5->giskard[llm]) (0.5.13)\n",
      "Requirement already satisfied: anyio<5,>=3.5.0 in /home/debian/source/repos/BIMPoC/pythonenv/lib/python3.10/site-packages (from openai->giskard[llm]) (4.4.0)\n",
      "Requirement already satisfied: distro<2,>=1.7.0 in /home/debian/source/repos/BIMPoC/pythonenv/lib/python3.10/site-packages (from openai->giskard[llm]) (1.9.0)\n",
      "Requirement already satisfied: httpx<1,>=0.23.0 in /home/debian/source/repos/BIMPoC/pythonenv/lib/python3.10/site-packages (from openai->giskard[llm]) (0.27.0)\n",
      "Requirement already satisfied: jiter<1,>=0.4.0 in /home/debian/source/repos/BIMPoC/pythonenv/lib/python3.10/site-packages (from openai->giskard[llm]) (0.5.0)\n",
      "Requirement already satisfied: sniffio in /home/debian/source/repos/BIMPoC/pythonenv/lib/python3.10/site-packages (from openai->giskard[llm]) (1.3.1)\n",
      "Requirement already satisfied: exceptiongroup>=1.0.2 in /home/debian/source/repos/BIMPoC/pythonenv/lib/python3.10/site-packages (from anyio<5,>=3.5.0->openai->giskard[llm]) (1.2.1)\n",
      "Requirement already satisfied: filelock in /home/debian/source/repos/BIMPoC/pythonenv/lib/python3.10/site-packages (from datasets>=2.0.0->evaluate>=0.4.1->giskard[llm]) (3.15.1)\n",
      "Requirement already satisfied: pyarrow>=15.0.0 in /home/debian/source/repos/BIMPoC/pythonenv/lib/python3.10/site-packages (from datasets>=2.0.0->evaluate>=0.4.1->giskard[llm]) (16.1.0)\n",
      "Requirement already satisfied: pyarrow-hotfix in /home/debian/source/repos/BIMPoC/pythonenv/lib/python3.10/site-packages (from datasets>=2.0.0->evaluate>=0.4.1->giskard[llm]) (0.6)\n",
      "Requirement already satisfied: aiohttp in /home/debian/source/repos/BIMPoC/pythonenv/lib/python3.10/site-packages (from datasets>=2.0.0->evaluate>=0.4.1->giskard[llm]) (3.9.5)\n",
      "Requirement already satisfied: gitdb<5,>=4.0.1 in /home/debian/source/repos/BIMPoC/pythonenv/lib/python3.10/site-packages (from gitpython<4,>=3.1.9->mlflow-skinny>=2->giskard[llm]) (4.0.11)\n",
      "Requirement already satisfied: httpcore==1.* in /home/debian/source/repos/BIMPoC/pythonenv/lib/python3.10/site-packages (from httpx<1,>=0.23.0->openai->giskard[llm]) (1.0.5)\n",
      "Requirement already satisfied: h11<0.15,>=0.13 in /home/debian/source/repos/BIMPoC/pythonenv/lib/python3.10/site-packages (from httpcore==1.*->httpx<1,>=0.23.0->openai->giskard[llm]) (0.14.0)\n",
      "Requirement already satisfied: zipp>=0.5 in /home/debian/source/repos/BIMPoC/pythonenv/lib/python3.10/site-packages (from importlib-metadata!=4.7.0,<8,>=3.7.0->mlflow-skinny>=2->giskard[llm]) (3.19.2)\n",
      "Requirement already satisfied: llvmlite<0.44,>=0.43.0dev0 in /home/debian/source/repos/BIMPoC/pythonenv/lib/python3.10/site-packages (from numba>=0.51.2->umap-learn>=0.5.5->giskard[llm]) (0.43.0)\n",
      "Requirement already satisfied: deprecated>=1.2.6 in /home/debian/source/repos/BIMPoC/pythonenv/lib/python3.10/site-packages (from opentelemetry-api<3,>=1.9.0->mlflow-skinny>=2->giskard[llm]) (1.2.14)\n",
      "Requirement already satisfied: opentelemetry-semantic-conventions==0.46b0 in /home/debian/source/repos/BIMPoC/pythonenv/lib/python3.10/site-packages (from opentelemetry-sdk<3,>=1.9.0->mlflow-skinny>=2->giskard[llm]) (0.46b0)\n",
      "Requirement already satisfied: sympy in /home/debian/source/repos/BIMPoC/pythonenv/lib/python3.10/site-packages (from torch>=1.0.0->bert-score>=0.3.13->giskard[llm]) (1.12.1)\n",
      "Requirement already satisfied: networkx in /home/debian/source/repos/BIMPoC/pythonenv/lib/python3.10/site-packages (from torch>=1.0.0->bert-score>=0.3.13->giskard[llm]) (3.3)\n",
      "Requirement already satisfied: nvidia-cuda-nvrtc-cu12==12.1.105 in /home/debian/source/repos/BIMPoC/pythonenv/lib/python3.10/site-packages (from torch>=1.0.0->bert-score>=0.3.13->giskard[llm]) (12.1.105)\n",
      "Requirement already satisfied: nvidia-cuda-runtime-cu12==12.1.105 in /home/debian/source/repos/BIMPoC/pythonenv/lib/python3.10/site-packages (from torch>=1.0.0->bert-score>=0.3.13->giskard[llm]) (12.1.105)\n",
      "Requirement already satisfied: nvidia-cuda-cupti-cu12==12.1.105 in /home/debian/source/repos/BIMPoC/pythonenv/lib/python3.10/site-packages (from torch>=1.0.0->bert-score>=0.3.13->giskard[llm]) (12.1.105)\n",
      "Requirement already satisfied: nvidia-cudnn-cu12==8.9.2.26 in /home/debian/source/repos/BIMPoC/pythonenv/lib/python3.10/site-packages (from torch>=1.0.0->bert-score>=0.3.13->giskard[llm]) (8.9.2.26)\n",
      "Requirement already satisfied: nvidia-cublas-cu12==12.1.3.1 in /home/debian/source/repos/BIMPoC/pythonenv/lib/python3.10/site-packages (from torch>=1.0.0->bert-score>=0.3.13->giskard[llm]) (12.1.3.1)\n",
      "Requirement already satisfied: nvidia-cufft-cu12==11.0.2.54 in /home/debian/source/repos/BIMPoC/pythonenv/lib/python3.10/site-packages (from torch>=1.0.0->bert-score>=0.3.13->giskard[llm]) (11.0.2.54)\n",
      "Requirement already satisfied: nvidia-curand-cu12==10.3.2.106 in /home/debian/source/repos/BIMPoC/pythonenv/lib/python3.10/site-packages (from torch>=1.0.0->bert-score>=0.3.13->giskard[llm]) (10.3.2.106)\n",
      "Requirement already satisfied: nvidia-cusolver-cu12==11.4.5.107 in /home/debian/source/repos/BIMPoC/pythonenv/lib/python3.10/site-packages (from torch>=1.0.0->bert-score>=0.3.13->giskard[llm]) (11.4.5.107)\n",
      "Requirement already satisfied: nvidia-cusparse-cu12==12.1.0.106 in /home/debian/source/repos/BIMPoC/pythonenv/lib/python3.10/site-packages (from torch>=1.0.0->bert-score>=0.3.13->giskard[llm]) (12.1.0.106)\n",
      "Requirement already satisfied: nvidia-nccl-cu12==2.20.5 in /home/debian/source/repos/BIMPoC/pythonenv/lib/python3.10/site-packages (from torch>=1.0.0->bert-score>=0.3.13->giskard[llm]) (2.20.5)\n",
      "Requirement already satisfied: nvidia-nvtx-cu12==12.1.105 in /home/debian/source/repos/BIMPoC/pythonenv/lib/python3.10/site-packages (from torch>=1.0.0->bert-score>=0.3.13->giskard[llm]) (12.1.105)\n",
      "Requirement already satisfied: triton==2.3.1 in /home/debian/source/repos/BIMPoC/pythonenv/lib/python3.10/site-packages (from torch>=1.0.0->bert-score>=0.3.13->giskard[llm]) (2.3.1)\n",
      "Requirement already satisfied: nvidia-nvjitlink-cu12 in /home/debian/source/repos/BIMPoC/pythonenv/lib/python3.10/site-packages (from nvidia-cusolver-cu12==11.4.5.107->torch>=1.0.0->bert-score>=0.3.13->giskard[llm]) (12.5.40)\n",
      "Requirement already satisfied: regex!=2019.12.17 in /home/debian/source/repos/BIMPoC/pythonenv/lib/python3.10/site-packages (from transformers>=3.0.0->bert-score>=0.3.13->giskard[llm]) (2024.5.15)\n",
      "Requirement already satisfied: safetensors>=0.4.1 in /home/debian/source/repos/BIMPoC/pythonenv/lib/python3.10/site-packages (from transformers>=3.0.0->bert-score>=0.3.13->giskard[llm]) (0.4.3)\n",
      "Requirement already satisfied: tokenizers<0.20,>=0.19 in /home/debian/source/repos/BIMPoC/pythonenv/lib/python3.10/site-packages (from transformers>=3.0.0->bert-score>=0.3.13->giskard[llm]) (0.19.1)\n",
      "Requirement already satisfied: cycler>=0.10 in /home/debian/source/repos/BIMPoC/pythonenv/lib/python3.10/site-packages (from matplotlib->bert-score>=0.3.13->giskard[llm]) (0.12.1)\n",
      "Requirement already satisfied: fonttools>=4.22.0 in /home/debian/source/repos/BIMPoC/pythonenv/lib/python3.10/site-packages (from matplotlib->bert-score>=0.3.13->giskard[llm]) (4.53.0)\n",
      "Requirement already satisfied: kiwisolver>=1.3.1 in /home/debian/source/repos/BIMPoC/pythonenv/lib/python3.10/site-packages (from matplotlib->bert-score>=0.3.13->giskard[llm]) (1.4.5)\n",
      "Requirement already satisfied: pyparsing>=2.3.1 in /home/debian/source/repos/BIMPoC/pythonenv/lib/python3.10/site-packages (from matplotlib->bert-score>=0.3.13->giskard[llm]) (3.1.2)\n",
      "Requirement already satisfied: aiosignal>=1.1.2 in /home/debian/source/repos/BIMPoC/pythonenv/lib/python3.10/site-packages (from aiohttp->datasets>=2.0.0->evaluate>=0.4.1->giskard[llm]) (1.3.1)\n",
      "Requirement already satisfied: attrs>=17.3.0 in /home/debian/source/repos/BIMPoC/pythonenv/lib/python3.10/site-packages (from aiohttp->datasets>=2.0.0->evaluate>=0.4.1->giskard[llm]) (23.2.0)\n",
      "Requirement already satisfied: frozenlist>=1.1.1 in /home/debian/source/repos/BIMPoC/pythonenv/lib/python3.10/site-packages (from aiohttp->datasets>=2.0.0->evaluate>=0.4.1->giskard[llm]) (1.4.1)\n",
      "Requirement already satisfied: multidict<7.0,>=4.5 in /home/debian/source/repos/BIMPoC/pythonenv/lib/python3.10/site-packages (from aiohttp->datasets>=2.0.0->evaluate>=0.4.1->giskard[llm]) (6.0.5)\n",
      "Requirement already satisfied: yarl<2.0,>=1.0 in /home/debian/source/repos/BIMPoC/pythonenv/lib/python3.10/site-packages (from aiohttp->datasets>=2.0.0->evaluate>=0.4.1->giskard[llm]) (1.9.4)\n",
      "Requirement already satisfied: async-timeout<5.0,>=4.0 in /home/debian/source/repos/BIMPoC/pythonenv/lib/python3.10/site-packages (from aiohttp->datasets>=2.0.0->evaluate>=0.4.1->giskard[llm]) (4.0.3)\n",
      "Requirement already satisfied: wrapt<2,>=1.10 in /home/debian/source/repos/BIMPoC/pythonenv/lib/python3.10/site-packages (from deprecated>=1.2.6->opentelemetry-api<3,>=1.9.0->mlflow-skinny>=2->giskard[llm]) (1.16.0)\n",
      "Requirement already satisfied: smmap<6,>=3.0.1 in /home/debian/source/repos/BIMPoC/pythonenv/lib/python3.10/site-packages (from gitdb<5,>=4.0.1->gitpython<4,>=3.1.9->mlflow-skinny>=2->giskard[llm]) (5.0.1)\n",
      "Requirement already satisfied: mpmath<1.4.0,>=1.1.0 in /home/debian/source/repos/BIMPoC/pythonenv/lib/python3.10/site-packages (from sympy->torch>=1.0.0->bert-score>=0.3.13->giskard[llm]) (1.3.0)\n",
      "Requirement already satisfied: llama-index in /home/debian/source/repos/BIMPoC/pythonenv/lib/python3.10/site-packages (0.10.65)\n",
      "Requirement already satisfied: PyMuPDF in /home/debian/source/repos/BIMPoC/pythonenv/lib/python3.10/site-packages (1.24.5)\n",
      "Requirement already satisfied: llama-index-agent-openai<0.3.0,>=0.1.4 in /home/debian/source/repos/BIMPoC/pythonenv/lib/python3.10/site-packages (from llama-index) (0.2.9)\n",
      "Requirement already satisfied: llama-index-cli<0.2.0,>=0.1.2 in /home/debian/source/repos/BIMPoC/pythonenv/lib/python3.10/site-packages (from llama-index) (0.1.13)\n",
      "Requirement already satisfied: llama-index-core<0.11.0,>=0.10.65 in /home/debian/source/repos/BIMPoC/pythonenv/lib/python3.10/site-packages (from llama-index) (0.10.65)\n",
      "Requirement already satisfied: llama-index-embeddings-openai<0.2.0,>=0.1.5 in /home/debian/source/repos/BIMPoC/pythonenv/lib/python3.10/site-packages (from llama-index) (0.1.11)\n",
      "Requirement already satisfied: llama-index-indices-managed-llama-cloud>=0.2.0 in /home/debian/source/repos/BIMPoC/pythonenv/lib/python3.10/site-packages (from llama-index) (0.2.7)\n",
      "Requirement already satisfied: llama-index-legacy<0.10.0,>=0.9.48 in /home/debian/source/repos/BIMPoC/pythonenv/lib/python3.10/site-packages (from llama-index) (0.9.48.post1)\n",
      "Requirement already satisfied: llama-index-llms-openai<0.2.0,>=0.1.27 in /home/debian/source/repos/BIMPoC/pythonenv/lib/python3.10/site-packages (from llama-index) (0.1.29)\n",
      "Requirement already satisfied: llama-index-multi-modal-llms-openai<0.2.0,>=0.1.3 in /home/debian/source/repos/BIMPoC/pythonenv/lib/python3.10/site-packages (from llama-index) (0.1.9)\n",
      "Requirement already satisfied: llama-index-program-openai<0.2.0,>=0.1.3 in /home/debian/source/repos/BIMPoC/pythonenv/lib/python3.10/site-packages (from llama-index) (0.1.7)\n",
      "Requirement already satisfied: llama-index-question-gen-openai<0.2.0,>=0.1.2 in /home/debian/source/repos/BIMPoC/pythonenv/lib/python3.10/site-packages (from llama-index) (0.1.3)\n",
      "Requirement already satisfied: llama-index-readers-file<0.2.0,>=0.1.4 in /home/debian/source/repos/BIMPoC/pythonenv/lib/python3.10/site-packages (from llama-index) (0.1.33)\n",
      "Requirement already satisfied: llama-index-readers-llama-parse>=0.1.2 in /home/debian/source/repos/BIMPoC/pythonenv/lib/python3.10/site-packages (from llama-index) (0.1.6)\n",
      "Requirement already satisfied: PyMuPDFb==1.24.3 in /home/debian/source/repos/BIMPoC/pythonenv/lib/python3.10/site-packages (from PyMuPDF) (1.24.3)\n",
      "Requirement already satisfied: openai>=1.14.0 in /home/debian/source/repos/BIMPoC/pythonenv/lib/python3.10/site-packages (from llama-index-agent-openai<0.3.0,>=0.1.4->llama-index) (1.40.6)\n",
      "Requirement already satisfied: PyYAML>=6.0.1 in /home/debian/source/repos/BIMPoC/pythonenv/lib/python3.10/site-packages (from llama-index-core<0.11.0,>=0.10.65->llama-index) (6.0.1)\n",
      "Requirement already satisfied: SQLAlchemy>=1.4.49 in /home/debian/source/repos/BIMPoC/pythonenv/lib/python3.10/site-packages (from SQLAlchemy[asyncio]>=1.4.49->llama-index-core<0.11.0,>=0.10.65->llama-index) (2.0.30)\n",
      "Requirement already satisfied: aiohttp<4.0.0,>=3.8.6 in /home/debian/source/repos/BIMPoC/pythonenv/lib/python3.10/site-packages (from llama-index-core<0.11.0,>=0.10.65->llama-index) (3.9.5)\n",
      "Requirement already satisfied: dataclasses-json in /home/debian/source/repos/BIMPoC/pythonenv/lib/python3.10/site-packages (from llama-index-core<0.11.0,>=0.10.65->llama-index) (0.6.7)\n",
      "Requirement already satisfied: deprecated>=1.2.9.3 in /home/debian/source/repos/BIMPoC/pythonenv/lib/python3.10/site-packages (from llama-index-core<0.11.0,>=0.10.65->llama-index) (1.2.14)\n",
      "Requirement already satisfied: dirtyjson<2.0.0,>=1.0.8 in /home/debian/source/repos/BIMPoC/pythonenv/lib/python3.10/site-packages (from llama-index-core<0.11.0,>=0.10.65->llama-index) (1.0.8)\n",
      "Requirement already satisfied: fsspec>=2023.5.0 in /home/debian/source/repos/BIMPoC/pythonenv/lib/python3.10/site-packages (from llama-index-core<0.11.0,>=0.10.65->llama-index) (2024.3.1)\n",
      "Requirement already satisfied: httpx in /home/debian/source/repos/BIMPoC/pythonenv/lib/python3.10/site-packages (from llama-index-core<0.11.0,>=0.10.65->llama-index) (0.27.0)\n",
      "Requirement already satisfied: nest-asyncio<2.0.0,>=1.5.8 in /home/debian/source/repos/BIMPoC/pythonenv/lib/python3.10/site-packages (from llama-index-core<0.11.0,>=0.10.65->llama-index) (1.6.0)\n",
      "Requirement already satisfied: networkx>=3.0 in /home/debian/source/repos/BIMPoC/pythonenv/lib/python3.10/site-packages (from llama-index-core<0.11.0,>=0.10.65->llama-index) (3.3)\n",
      "Requirement already satisfied: nltk>=3.8.2 in /home/debian/source/repos/BIMPoC/pythonenv/lib/python3.10/site-packages (from llama-index-core<0.11.0,>=0.10.65->llama-index) (3.8.2)\n",
      "Requirement already satisfied: numpy<2.0.0 in /home/debian/source/repos/BIMPoC/pythonenv/lib/python3.10/site-packages (from llama-index-core<0.11.0,>=0.10.65->llama-index) (1.26.4)\n",
      "Requirement already satisfied: pandas in /home/debian/source/repos/BIMPoC/pythonenv/lib/python3.10/site-packages (from llama-index-core<0.11.0,>=0.10.65->llama-index) (2.2.2)\n",
      "Requirement already satisfied: pillow>=9.0.0 in /home/debian/source/repos/BIMPoC/pythonenv/lib/python3.10/site-packages (from llama-index-core<0.11.0,>=0.10.65->llama-index) (10.3.0)\n",
      "Requirement already satisfied: requests>=2.31.0 in /home/debian/source/repos/BIMPoC/pythonenv/lib/python3.10/site-packages (from llama-index-core<0.11.0,>=0.10.65->llama-index) (2.32.3)\n",
      "Requirement already satisfied: tenacity!=8.4.0,<9.0.0,>=8.2.0 in /home/debian/source/repos/BIMPoC/pythonenv/lib/python3.10/site-packages (from llama-index-core<0.11.0,>=0.10.65->llama-index) (8.3.0)\n",
      "Requirement already satisfied: tiktoken>=0.3.3 in /home/debian/source/repos/BIMPoC/pythonenv/lib/python3.10/site-packages (from llama-index-core<0.11.0,>=0.10.65->llama-index) (0.7.0)\n",
      "Requirement already satisfied: tqdm<5.0.0,>=4.66.1 in /home/debian/source/repos/BIMPoC/pythonenv/lib/python3.10/site-packages (from llama-index-core<0.11.0,>=0.10.65->llama-index) (4.66.4)\n",
      "Requirement already satisfied: typing-extensions>=4.5.0 in /home/debian/source/repos/BIMPoC/pythonenv/lib/python3.10/site-packages (from llama-index-core<0.11.0,>=0.10.65->llama-index) (4.12.2)\n",
      "Requirement already satisfied: typing-inspect>=0.8.0 in /home/debian/source/repos/BIMPoC/pythonenv/lib/python3.10/site-packages (from llama-index-core<0.11.0,>=0.10.65->llama-index) (0.9.0)\n",
      "Requirement already satisfied: wrapt in /home/debian/source/repos/BIMPoC/pythonenv/lib/python3.10/site-packages (from llama-index-core<0.11.0,>=0.10.65->llama-index) (1.16.0)\n",
      "Requirement already satisfied: llama-cloud>=0.0.11 in /home/debian/source/repos/BIMPoC/pythonenv/lib/python3.10/site-packages (from llama-index-indices-managed-llama-cloud>=0.2.0->llama-index) (0.0.13)\n",
      "Requirement already satisfied: beautifulsoup4<5.0.0,>=4.12.3 in /home/debian/source/repos/BIMPoC/pythonenv/lib/python3.10/site-packages (from llama-index-readers-file<0.2.0,>=0.1.4->llama-index) (4.12.3)\n",
      "Requirement already satisfied: pypdf<5.0.0,>=4.0.1 in /home/debian/source/repos/BIMPoC/pythonenv/lib/python3.10/site-packages (from llama-index-readers-file<0.2.0,>=0.1.4->llama-index) (4.2.0)\n",
      "Requirement already satisfied: striprtf<0.0.27,>=0.0.26 in /home/debian/source/repos/BIMPoC/pythonenv/lib/python3.10/site-packages (from llama-index-readers-file<0.2.0,>=0.1.4->llama-index) (0.0.26)\n",
      "Requirement already satisfied: llama-parse>=0.4.0 in /home/debian/source/repos/BIMPoC/pythonenv/lib/python3.10/site-packages (from llama-index-readers-llama-parse>=0.1.2->llama-index) (0.4.9)\n",
      "Requirement already satisfied: aiosignal>=1.1.2 in /home/debian/source/repos/BIMPoC/pythonenv/lib/python3.10/site-packages (from aiohttp<4.0.0,>=3.8.6->llama-index-core<0.11.0,>=0.10.65->llama-index) (1.3.1)\n",
      "Requirement already satisfied: attrs>=17.3.0 in /home/debian/source/repos/BIMPoC/pythonenv/lib/python3.10/site-packages (from aiohttp<4.0.0,>=3.8.6->llama-index-core<0.11.0,>=0.10.65->llama-index) (23.2.0)\n",
      "Requirement already satisfied: frozenlist>=1.1.1 in /home/debian/source/repos/BIMPoC/pythonenv/lib/python3.10/site-packages (from aiohttp<4.0.0,>=3.8.6->llama-index-core<0.11.0,>=0.10.65->llama-index) (1.4.1)\n",
      "Requirement already satisfied: multidict<7.0,>=4.5 in /home/debian/source/repos/BIMPoC/pythonenv/lib/python3.10/site-packages (from aiohttp<4.0.0,>=3.8.6->llama-index-core<0.11.0,>=0.10.65->llama-index) (6.0.5)\n",
      "Requirement already satisfied: yarl<2.0,>=1.0 in /home/debian/source/repos/BIMPoC/pythonenv/lib/python3.10/site-packages (from aiohttp<4.0.0,>=3.8.6->llama-index-core<0.11.0,>=0.10.65->llama-index) (1.9.4)\n",
      "Requirement already satisfied: async-timeout<5.0,>=4.0 in /home/debian/source/repos/BIMPoC/pythonenv/lib/python3.10/site-packages (from aiohttp<4.0.0,>=3.8.6->llama-index-core<0.11.0,>=0.10.65->llama-index) (4.0.3)\n",
      "Requirement already satisfied: soupsieve>1.2 in /home/debian/source/repos/BIMPoC/pythonenv/lib/python3.10/site-packages (from beautifulsoup4<5.0.0,>=4.12.3->llama-index-readers-file<0.2.0,>=0.1.4->llama-index) (2.5)\n",
      "Requirement already satisfied: pydantic>=1.10 in /home/debian/source/repos/BIMPoC/pythonenv/lib/python3.10/site-packages (from llama-cloud>=0.0.11->llama-index-indices-managed-llama-cloud>=0.2.0->llama-index) (2.8.2)\n",
      "Requirement already satisfied: anyio in /home/debian/source/repos/BIMPoC/pythonenv/lib/python3.10/site-packages (from httpx->llama-index-core<0.11.0,>=0.10.65->llama-index) (4.4.0)\n",
      "Requirement already satisfied: certifi in /home/debian/source/repos/BIMPoC/pythonenv/lib/python3.10/site-packages (from httpx->llama-index-core<0.11.0,>=0.10.65->llama-index) (2024.6.2)\n",
      "Requirement already satisfied: httpcore==1.* in /home/debian/source/repos/BIMPoC/pythonenv/lib/python3.10/site-packages (from httpx->llama-index-core<0.11.0,>=0.10.65->llama-index) (1.0.5)\n",
      "Requirement already satisfied: idna in /home/debian/source/repos/BIMPoC/pythonenv/lib/python3.10/site-packages (from httpx->llama-index-core<0.11.0,>=0.10.65->llama-index) (3.7)\n",
      "Requirement already satisfied: sniffio in /home/debian/source/repos/BIMPoC/pythonenv/lib/python3.10/site-packages (from httpx->llama-index-core<0.11.0,>=0.10.65->llama-index) (1.3.1)\n",
      "Requirement already satisfied: h11<0.15,>=0.13 in /home/debian/source/repos/BIMPoC/pythonenv/lib/python3.10/site-packages (from httpcore==1.*->httpx->llama-index-core<0.11.0,>=0.10.65->llama-index) (0.14.0)\n",
      "Requirement already satisfied: click in /home/debian/source/repos/BIMPoC/pythonenv/lib/python3.10/site-packages (from nltk>=3.8.2->llama-index-core<0.11.0,>=0.10.65->llama-index) (8.1.7)\n",
      "Requirement already satisfied: joblib in /home/debian/source/repos/BIMPoC/pythonenv/lib/python3.10/site-packages (from nltk>=3.8.2->llama-index-core<0.11.0,>=0.10.65->llama-index) (1.4.2)\n",
      "Requirement already satisfied: regex>=2021.8.3 in /home/debian/source/repos/BIMPoC/pythonenv/lib/python3.10/site-packages (from nltk>=3.8.2->llama-index-core<0.11.0,>=0.10.65->llama-index) (2024.5.15)\n",
      "Requirement already satisfied: distro<2,>=1.7.0 in /home/debian/source/repos/BIMPoC/pythonenv/lib/python3.10/site-packages (from openai>=1.14.0->llama-index-agent-openai<0.3.0,>=0.1.4->llama-index) (1.9.0)\n",
      "Requirement already satisfied: jiter<1,>=0.4.0 in /home/debian/source/repos/BIMPoC/pythonenv/lib/python3.10/site-packages (from openai>=1.14.0->llama-index-agent-openai<0.3.0,>=0.1.4->llama-index) (0.5.0)\n",
      "Requirement already satisfied: charset-normalizer<4,>=2 in /home/debian/source/repos/BIMPoC/pythonenv/lib/python3.10/site-packages (from requests>=2.31.0->llama-index-core<0.11.0,>=0.10.65->llama-index) (3.3.2)\n",
      "Requirement already satisfied: urllib3<3,>=1.21.1 in /home/debian/source/repos/BIMPoC/pythonenv/lib/python3.10/site-packages (from requests>=2.31.0->llama-index-core<0.11.0,>=0.10.65->llama-index) (2.2.1)\n",
      "Requirement already satisfied: greenlet!=0.4.17 in /home/debian/source/repos/BIMPoC/pythonenv/lib/python3.10/site-packages (from SQLAlchemy>=1.4.49->SQLAlchemy[asyncio]>=1.4.49->llama-index-core<0.11.0,>=0.10.65->llama-index) (3.0.3)\n",
      "Requirement already satisfied: mypy-extensions>=0.3.0 in /home/debian/source/repos/BIMPoC/pythonenv/lib/python3.10/site-packages (from typing-inspect>=0.8.0->llama-index-core<0.11.0,>=0.10.65->llama-index) (1.0.0)\n",
      "Requirement already satisfied: marshmallow<4.0.0,>=3.18.0 in /home/debian/source/repos/BIMPoC/pythonenv/lib/python3.10/site-packages (from dataclasses-json->llama-index-core<0.11.0,>=0.10.65->llama-index) (3.21.3)\n",
      "Requirement already satisfied: python-dateutil>=2.8.2 in /home/debian/source/repos/BIMPoC/pythonenv/lib/python3.10/site-packages (from pandas->llama-index-core<0.11.0,>=0.10.65->llama-index) (2.9.0.post0)\n",
      "Requirement already satisfied: pytz>=2020.1 in /home/debian/source/repos/BIMPoC/pythonenv/lib/python3.10/site-packages (from pandas->llama-index-core<0.11.0,>=0.10.65->llama-index) (2024.1)\n",
      "Requirement already satisfied: tzdata>=2022.7 in /home/debian/source/repos/BIMPoC/pythonenv/lib/python3.10/site-packages (from pandas->llama-index-core<0.11.0,>=0.10.65->llama-index) (2024.1)\n",
      "Requirement already satisfied: exceptiongroup>=1.0.2 in /home/debian/source/repos/BIMPoC/pythonenv/lib/python3.10/site-packages (from anyio->httpx->llama-index-core<0.11.0,>=0.10.65->llama-index) (1.2.1)\n",
      "Requirement already satisfied: packaging>=17.0 in /home/debian/source/repos/BIMPoC/pythonenv/lib/python3.10/site-packages (from marshmallow<4.0.0,>=3.18.0->dataclasses-json->llama-index-core<0.11.0,>=0.10.65->llama-index) (23.2)\n",
      "Requirement already satisfied: annotated-types>=0.4.0 in /home/debian/source/repos/BIMPoC/pythonenv/lib/python3.10/site-packages (from pydantic>=1.10->llama-cloud>=0.0.11->llama-index-indices-managed-llama-cloud>=0.2.0->llama-index) (0.7.0)\n",
      "Requirement already satisfied: pydantic-core==2.20.1 in /home/debian/source/repos/BIMPoC/pythonenv/lib/python3.10/site-packages (from pydantic>=1.10->llama-cloud>=0.0.11->llama-index-indices-managed-llama-cloud>=0.2.0->llama-index) (2.20.1)\n",
      "Requirement already satisfied: six>=1.5 in /home/debian/source/repos/BIMPoC/pythonenv/lib/python3.10/site-packages (from python-dateutil>=2.8.2->pandas->llama-index-core<0.11.0,>=0.10.65->llama-index) (1.16.0)\n"
     ]
    }
   ],
   "source": [
    "!pip install \"giskard[llm]\" --upgrade\n",
    "!pip install llama-index PyMuPDF\n"
   ]
  },
  {
   "cell_type": "code",
   "execution_count": 34,
   "id": "d1859e74-acae-45c0-9067-947dfb156faf",
   "metadata": {},
   "outputs": [
    {
     "name": "stdout",
     "output_type": "stream",
     "text": [
      "--2024-08-21 14:25:38--  https://www.ipcc.ch/report/ar6/syr/downloads/report/IPCC_AR6_SYR_LongerReport.pdf\n",
      "Resolving www.ipcc.ch (www.ipcc.ch)... 2606:4700:8de4:eefd:38c6:71:6814:fe03, 104.20.254.3, 104.20.255.3, ...\n",
      "Connecting to www.ipcc.ch (www.ipcc.ch)|2606:4700:8de4:eefd:38c6:71:6814:fe03|:443... connected.\n",
      "HTTP request sent, awaiting response... 200 OK\n",
      "Length: 5218936 (5.0M) [application/pdf]\n",
      "Saving to: ‘ipcc_report.pdf’\n",
      "\n",
      "ipcc_report.pdf     100%[===================>]   4.98M  8.83MB/s    in 0.6s    \n",
      "\n",
      "2024-08-21 14:25:39 (8.83 MB/s) - ‘ipcc_report.pdf’ saved [5218936/5218936]\n",
      "\n"
     ]
    }
   ],
   "source": [
    "!wget \"https://www.ipcc.ch/report/ar6/syr/downloads/report/IPCC_AR6_SYR_LongerReport.pdf\" -O \"ipcc_report.pdf\""
   ]
  },
  {
   "cell_type": "code",
   "execution_count": 12,
   "id": "181409c2-e2d9-44f4-ba3e-d52c80b751f0",
   "metadata": {},
   "outputs": [],
   "source": [
    "import os\n",
    "import giskard\n",
    "\n",
    "import google.generativeai as genai\n",
    "\n",
    "from giskard.llm.client.gemini import GeminiClient\n",
    "\n",
    "genai.configure(api_key=\"api key\")\n",
    "\n",
    "giskard.llm.set_default_client(GeminiClient())"
   ]
  },
  {
   "cell_type": "code",
   "execution_count": 13,
   "id": "9bee28ae-c6c8-4ff8-8831-d82ef5dcdbdf",
   "metadata": {},
   "outputs": [],
   "source": [
    "os.environ[\"GOOGLE_API_KEY\"]=\"api key\""
   ]
  },
  {
   "cell_type": "code",
   "execution_count": 14,
   "id": "3a3e3489-c4b6-4a6d-b507-1d9ab8ec1763",
   "metadata": {},
   "outputs": [],
   "source": [
    "import pandas as pd\n",
    "import warnings\n",
    "pd.set_option(\"display.max_colwidth\", 400)\n",
    "warnings.filterwarnings('ignore')"
   ]
  },
  {
   "cell_type": "code",
   "execution_count": 15,
   "id": "d8e9c2f8-4a78-4dbe-b5b6-04e767b0cadb",
   "metadata": {},
   "outputs": [],
   "source": [
    "from langchain_community.document_loaders import PyPDFLoader"
   ]
  },
  {
   "cell_type": "code",
   "execution_count": 27,
   "id": "4c5f85d6-da15-4e40-b663-733d8a723d4e",
   "metadata": {},
   "outputs": [
    {
     "name": "stdout",
     "output_type": "stream",
     "text": [
      "Requirement already satisfied: pypdf in /home/debian/source/repos/BIMPoC/pythonenv/lib/python3.10/site-packages (4.2.0)\n",
      "Requirement already satisfied: typing_extensions>=4.0 in /home/debian/source/repos/BIMPoC/pythonenv/lib/python3.10/site-packages (from pypdf) (4.12.2)\n"
     ]
    }
   ],
   "source": [
    "!pip install pypdf\n",
    "\n"
   ]
  },
  {
   "cell_type": "code",
   "execution_count": 8,
   "id": "c689665d-3fc8-41a3-a48b-8758d1ece594",
   "metadata": {},
   "outputs": [
    {
     "name": "stdout",
     "output_type": "stream",
     "text": [
      "Requirement already satisfied: llama-index-llms-langchain in /home/debian/source/repos/BIMPoC/pythonenv/lib/python3.10/site-packages (0.3.0)\n",
      "Requirement already satisfied: langchain>=0.1.3 in /home/debian/source/repos/BIMPoC/pythonenv/lib/python3.10/site-packages (from llama-index-llms-langchain) (0.2.6)\n",
      "Requirement already satisfied: llama-index-core<0.11.0,>=0.10.41 in /home/debian/source/repos/BIMPoC/pythonenv/lib/python3.10/site-packages (from llama-index-llms-langchain) (0.10.65)\n",
      "Requirement already satisfied: PyYAML>=5.3 in /home/debian/source/repos/BIMPoC/pythonenv/lib/python3.10/site-packages (from langchain>=0.1.3->llama-index-llms-langchain) (6.0.1)\n",
      "Requirement already satisfied: SQLAlchemy<3,>=1.4 in /home/debian/source/repos/BIMPoC/pythonenv/lib/python3.10/site-packages (from langchain>=0.1.3->llama-index-llms-langchain) (2.0.30)\n",
      "Requirement already satisfied: aiohttp<4.0.0,>=3.8.3 in /home/debian/source/repos/BIMPoC/pythonenv/lib/python3.10/site-packages (from langchain>=0.1.3->llama-index-llms-langchain) (3.9.5)\n",
      "Requirement already satisfied: async-timeout<5.0.0,>=4.0.0 in /home/debian/source/repos/BIMPoC/pythonenv/lib/python3.10/site-packages (from langchain>=0.1.3->llama-index-llms-langchain) (4.0.3)\n",
      "Requirement already satisfied: langchain-core<0.3.0,>=0.2.10 in /home/debian/source/repos/BIMPoC/pythonenv/lib/python3.10/site-packages (from langchain>=0.1.3->llama-index-llms-langchain) (0.2.10)\n",
      "Requirement already satisfied: langchain-text-splitters<0.3.0,>=0.2.0 in /home/debian/source/repos/BIMPoC/pythonenv/lib/python3.10/site-packages (from langchain>=0.1.3->llama-index-llms-langchain) (0.2.1)\n",
      "Requirement already satisfied: langsmith<0.2.0,>=0.1.17 in /home/debian/source/repos/BIMPoC/pythonenv/lib/python3.10/site-packages (from langchain>=0.1.3->llama-index-llms-langchain) (0.1.82)\n",
      "Requirement already satisfied: numpy<2,>=1 in /home/debian/source/repos/BIMPoC/pythonenv/lib/python3.10/site-packages (from langchain>=0.1.3->llama-index-llms-langchain) (1.26.4)\n",
      "Requirement already satisfied: pydantic<3,>=1 in /home/debian/source/repos/BIMPoC/pythonenv/lib/python3.10/site-packages (from langchain>=0.1.3->llama-index-llms-langchain) (2.8.2)\n",
      "Requirement already satisfied: requests<3,>=2 in /home/debian/source/repos/BIMPoC/pythonenv/lib/python3.10/site-packages (from langchain>=0.1.3->llama-index-llms-langchain) (2.32.3)\n",
      "Requirement already satisfied: tenacity!=8.4.0,<9.0.0,>=8.1.0 in /home/debian/source/repos/BIMPoC/pythonenv/lib/python3.10/site-packages (from langchain>=0.1.3->llama-index-llms-langchain) (8.3.0)\n",
      "Requirement already satisfied: dataclasses-json in /home/debian/source/repos/BIMPoC/pythonenv/lib/python3.10/site-packages (from llama-index-core<0.11.0,>=0.10.41->llama-index-llms-langchain) (0.6.7)\n",
      "Requirement already satisfied: deprecated>=1.2.9.3 in /home/debian/source/repos/BIMPoC/pythonenv/lib/python3.10/site-packages (from llama-index-core<0.11.0,>=0.10.41->llama-index-llms-langchain) (1.2.14)\n",
      "Requirement already satisfied: dirtyjson<2.0.0,>=1.0.8 in /home/debian/source/repos/BIMPoC/pythonenv/lib/python3.10/site-packages (from llama-index-core<0.11.0,>=0.10.41->llama-index-llms-langchain) (1.0.8)\n",
      "Requirement already satisfied: fsspec>=2023.5.0 in /home/debian/source/repos/BIMPoC/pythonenv/lib/python3.10/site-packages (from llama-index-core<0.11.0,>=0.10.41->llama-index-llms-langchain) (2024.3.1)\n",
      "Requirement already satisfied: httpx in /home/debian/source/repos/BIMPoC/pythonenv/lib/python3.10/site-packages (from llama-index-core<0.11.0,>=0.10.41->llama-index-llms-langchain) (0.27.0)\n",
      "Requirement already satisfied: nest-asyncio<2.0.0,>=1.5.8 in /home/debian/source/repos/BIMPoC/pythonenv/lib/python3.10/site-packages (from llama-index-core<0.11.0,>=0.10.41->llama-index-llms-langchain) (1.6.0)\n",
      "Requirement already satisfied: networkx>=3.0 in /home/debian/source/repos/BIMPoC/pythonenv/lib/python3.10/site-packages (from llama-index-core<0.11.0,>=0.10.41->llama-index-llms-langchain) (3.3)\n",
      "Requirement already satisfied: nltk>=3.8.2 in /home/debian/source/repos/BIMPoC/pythonenv/lib/python3.10/site-packages (from llama-index-core<0.11.0,>=0.10.41->llama-index-llms-langchain) (3.8.2)\n",
      "Requirement already satisfied: openai>=1.1.0 in /home/debian/source/repos/BIMPoC/pythonenv/lib/python3.10/site-packages (from llama-index-core<0.11.0,>=0.10.41->llama-index-llms-langchain) (1.40.6)\n",
      "Requirement already satisfied: pandas in /home/debian/source/repos/BIMPoC/pythonenv/lib/python3.10/site-packages (from llama-index-core<0.11.0,>=0.10.41->llama-index-llms-langchain) (2.2.2)\n",
      "Requirement already satisfied: pillow>=9.0.0 in /home/debian/source/repos/BIMPoC/pythonenv/lib/python3.10/site-packages (from llama-index-core<0.11.0,>=0.10.41->llama-index-llms-langchain) (10.3.0)\n",
      "Requirement already satisfied: tiktoken>=0.3.3 in /home/debian/source/repos/BIMPoC/pythonenv/lib/python3.10/site-packages (from llama-index-core<0.11.0,>=0.10.41->llama-index-llms-langchain) (0.7.0)\n",
      "Requirement already satisfied: tqdm<5.0.0,>=4.66.1 in /home/debian/source/repos/BIMPoC/pythonenv/lib/python3.10/site-packages (from llama-index-core<0.11.0,>=0.10.41->llama-index-llms-langchain) (4.66.4)\n",
      "Requirement already satisfied: typing-extensions>=4.5.0 in /home/debian/source/repos/BIMPoC/pythonenv/lib/python3.10/site-packages (from llama-index-core<0.11.0,>=0.10.41->llama-index-llms-langchain) (4.12.2)\n",
      "Requirement already satisfied: typing-inspect>=0.8.0 in /home/debian/source/repos/BIMPoC/pythonenv/lib/python3.10/site-packages (from llama-index-core<0.11.0,>=0.10.41->llama-index-llms-langchain) (0.9.0)\n",
      "Requirement already satisfied: wrapt in /home/debian/source/repos/BIMPoC/pythonenv/lib/python3.10/site-packages (from llama-index-core<0.11.0,>=0.10.41->llama-index-llms-langchain) (1.16.0)\n",
      "Requirement already satisfied: aiosignal>=1.1.2 in /home/debian/source/repos/BIMPoC/pythonenv/lib/python3.10/site-packages (from aiohttp<4.0.0,>=3.8.3->langchain>=0.1.3->llama-index-llms-langchain) (1.3.1)\n",
      "Requirement already satisfied: attrs>=17.3.0 in /home/debian/source/repos/BIMPoC/pythonenv/lib/python3.10/site-packages (from aiohttp<4.0.0,>=3.8.3->langchain>=0.1.3->llama-index-llms-langchain) (23.2.0)\n",
      "Requirement already satisfied: frozenlist>=1.1.1 in /home/debian/source/repos/BIMPoC/pythonenv/lib/python3.10/site-packages (from aiohttp<4.0.0,>=3.8.3->langchain>=0.1.3->llama-index-llms-langchain) (1.4.1)\n",
      "Requirement already satisfied: multidict<7.0,>=4.5 in /home/debian/source/repos/BIMPoC/pythonenv/lib/python3.10/site-packages (from aiohttp<4.0.0,>=3.8.3->langchain>=0.1.3->llama-index-llms-langchain) (6.0.5)\n",
      "Requirement already satisfied: yarl<2.0,>=1.0 in /home/debian/source/repos/BIMPoC/pythonenv/lib/python3.10/site-packages (from aiohttp<4.0.0,>=3.8.3->langchain>=0.1.3->llama-index-llms-langchain) (1.9.4)\n",
      "Requirement already satisfied: jsonpatch<2.0,>=1.33 in /home/debian/source/repos/BIMPoC/pythonenv/lib/python3.10/site-packages (from langchain-core<0.3.0,>=0.2.10->langchain>=0.1.3->llama-index-llms-langchain) (1.33)\n",
      "Requirement already satisfied: packaging<25,>=23.2 in /home/debian/source/repos/BIMPoC/pythonenv/lib/python3.10/site-packages (from langchain-core<0.3.0,>=0.2.10->langchain>=0.1.3->llama-index-llms-langchain) (23.2)\n",
      "Requirement already satisfied: orjson<4.0.0,>=3.9.14 in /home/debian/source/repos/BIMPoC/pythonenv/lib/python3.10/site-packages (from langsmith<0.2.0,>=0.1.17->langchain>=0.1.3->llama-index-llms-langchain) (3.10.5)\n",
      "Requirement already satisfied: click in /home/debian/source/repos/BIMPoC/pythonenv/lib/python3.10/site-packages (from nltk>=3.8.2->llama-index-core<0.11.0,>=0.10.41->llama-index-llms-langchain) (8.1.7)\n",
      "Requirement already satisfied: joblib in /home/debian/source/repos/BIMPoC/pythonenv/lib/python3.10/site-packages (from nltk>=3.8.2->llama-index-core<0.11.0,>=0.10.41->llama-index-llms-langchain) (1.4.2)\n",
      "Requirement already satisfied: regex>=2021.8.3 in /home/debian/source/repos/BIMPoC/pythonenv/lib/python3.10/site-packages (from nltk>=3.8.2->llama-index-core<0.11.0,>=0.10.41->llama-index-llms-langchain) (2024.5.15)\n",
      "Requirement already satisfied: anyio<5,>=3.5.0 in /home/debian/source/repos/BIMPoC/pythonenv/lib/python3.10/site-packages (from openai>=1.1.0->llama-index-core<0.11.0,>=0.10.41->llama-index-llms-langchain) (4.4.0)\n",
      "Requirement already satisfied: distro<2,>=1.7.0 in /home/debian/source/repos/BIMPoC/pythonenv/lib/python3.10/site-packages (from openai>=1.1.0->llama-index-core<0.11.0,>=0.10.41->llama-index-llms-langchain) (1.9.0)\n",
      "Requirement already satisfied: jiter<1,>=0.4.0 in /home/debian/source/repos/BIMPoC/pythonenv/lib/python3.10/site-packages (from openai>=1.1.0->llama-index-core<0.11.0,>=0.10.41->llama-index-llms-langchain) (0.5.0)\n",
      "Requirement already satisfied: sniffio in /home/debian/source/repos/BIMPoC/pythonenv/lib/python3.10/site-packages (from openai>=1.1.0->llama-index-core<0.11.0,>=0.10.41->llama-index-llms-langchain) (1.3.1)\n",
      "Requirement already satisfied: certifi in /home/debian/source/repos/BIMPoC/pythonenv/lib/python3.10/site-packages (from httpx->llama-index-core<0.11.0,>=0.10.41->llama-index-llms-langchain) (2024.6.2)\n",
      "Requirement already satisfied: httpcore==1.* in /home/debian/source/repos/BIMPoC/pythonenv/lib/python3.10/site-packages (from httpx->llama-index-core<0.11.0,>=0.10.41->llama-index-llms-langchain) (1.0.5)\n",
      "Requirement already satisfied: idna in /home/debian/source/repos/BIMPoC/pythonenv/lib/python3.10/site-packages (from httpx->llama-index-core<0.11.0,>=0.10.41->llama-index-llms-langchain) (3.7)\n",
      "Requirement already satisfied: h11<0.15,>=0.13 in /home/debian/source/repos/BIMPoC/pythonenv/lib/python3.10/site-packages (from httpcore==1.*->httpx->llama-index-core<0.11.0,>=0.10.41->llama-index-llms-langchain) (0.14.0)\n",
      "Requirement already satisfied: annotated-types>=0.4.0 in /home/debian/source/repos/BIMPoC/pythonenv/lib/python3.10/site-packages (from pydantic<3,>=1->langchain>=0.1.3->llama-index-llms-langchain) (0.7.0)\n",
      "Requirement already satisfied: pydantic-core==2.20.1 in /home/debian/source/repos/BIMPoC/pythonenv/lib/python3.10/site-packages (from pydantic<3,>=1->langchain>=0.1.3->llama-index-llms-langchain) (2.20.1)\n",
      "Requirement already satisfied: charset-normalizer<4,>=2 in /home/debian/source/repos/BIMPoC/pythonenv/lib/python3.10/site-packages (from requests<3,>=2->langchain>=0.1.3->llama-index-llms-langchain) (3.3.2)\n",
      "Requirement already satisfied: urllib3<3,>=1.21.1 in /home/debian/source/repos/BIMPoC/pythonenv/lib/python3.10/site-packages (from requests<3,>=2->langchain>=0.1.3->llama-index-llms-langchain) (2.2.1)\n",
      "Requirement already satisfied: greenlet!=0.4.17 in /home/debian/source/repos/BIMPoC/pythonenv/lib/python3.10/site-packages (from SQLAlchemy<3,>=1.4->langchain>=0.1.3->llama-index-llms-langchain) (3.0.3)\n",
      "Requirement already satisfied: mypy-extensions>=0.3.0 in /home/debian/source/repos/BIMPoC/pythonenv/lib/python3.10/site-packages (from typing-inspect>=0.8.0->llama-index-core<0.11.0,>=0.10.41->llama-index-llms-langchain) (1.0.0)\n",
      "Requirement already satisfied: marshmallow<4.0.0,>=3.18.0 in /home/debian/source/repos/BIMPoC/pythonenv/lib/python3.10/site-packages (from dataclasses-json->llama-index-core<0.11.0,>=0.10.41->llama-index-llms-langchain) (3.21.3)\n",
      "Requirement already satisfied: python-dateutil>=2.8.2 in /home/debian/source/repos/BIMPoC/pythonenv/lib/python3.10/site-packages (from pandas->llama-index-core<0.11.0,>=0.10.41->llama-index-llms-langchain) (2.9.0.post0)\n",
      "Requirement already satisfied: pytz>=2020.1 in /home/debian/source/repos/BIMPoC/pythonenv/lib/python3.10/site-packages (from pandas->llama-index-core<0.11.0,>=0.10.41->llama-index-llms-langchain) (2024.1)\n",
      "Requirement already satisfied: tzdata>=2022.7 in /home/debian/source/repos/BIMPoC/pythonenv/lib/python3.10/site-packages (from pandas->llama-index-core<0.11.0,>=0.10.41->llama-index-llms-langchain) (2024.1)\n",
      "Requirement already satisfied: exceptiongroup>=1.0.2 in /home/debian/source/repos/BIMPoC/pythonenv/lib/python3.10/site-packages (from anyio<5,>=3.5.0->openai>=1.1.0->llama-index-core<0.11.0,>=0.10.41->llama-index-llms-langchain) (1.2.1)\n",
      "Requirement already satisfied: jsonpointer>=1.9 in /home/debian/source/repos/BIMPoC/pythonenv/lib/python3.10/site-packages (from jsonpatch<2.0,>=1.33->langchain-core<0.3.0,>=0.2.10->langchain>=0.1.3->llama-index-llms-langchain) (3.0.0)\n",
      "Requirement already satisfied: six>=1.5 in /home/debian/source/repos/BIMPoC/pythonenv/lib/python3.10/site-packages (from python-dateutil>=2.8.2->pandas->llama-index-core<0.11.0,>=0.10.41->llama-index-llms-langchain) (1.16.0)\n"
     ]
    }
   ],
   "source": [
    "!pip install llama-index-llms-langchain"
   ]
  },
  {
   "cell_type": "code",
   "execution_count": 21,
   "id": "f9804223-87f8-413b-a4ec-ed194c5e3914",
   "metadata": {},
   "outputs": [
    {
     "name": "stdout",
     "output_type": "stream",
     "text": [
      "Note: you may need to restart the kernel to use updated packages.\n"
     ]
    }
   ],
   "source": [
    "%pip install -qU langchain-text-splitters"
   ]
  },
  {
   "cell_type": "code",
   "execution_count": 10,
   "id": "baa9b183-23a1-47e1-bb74-c7ae5287c967",
   "metadata": {},
   "outputs": [],
   "source": [
    "from langchain_community.embeddings import VertexAIEmbeddings\n",
    "from langchain_google_vertexai import VertexAI\n"
   ]
  },
  {
   "cell_type": "code",
   "execution_count": 11,
   "id": "ce5b306c-dec3-4c3a-a13b-1aa70af0f584",
   "metadata": {},
   "outputs": [],
   "source": [
    "from llama_index.llms.langchain import LangChainLLM\n",
    "\n",
    "contents: {\n",
    "    \"role\": \"user\",\n",
    "  }\n",
    "\n",
    "llm = LangChainLLM(llm=VertexAI(model_name=\"gemini-pro\"))\n"
   ]
  },
  {
   "cell_type": "code",
   "execution_count": 9,
   "id": "fa68038b-7772-47a8-82d6-e0c2b461d2ea",
   "metadata": {},
   "outputs": [],
   "source": [
    "from langchain_text_splitters import RecursiveCharacterTextSplitter\n",
    "\n",
    "text_splitter = RecursiveCharacterTextSplitter(\n",
    "    # Set a really small chunk size, just to show.\n",
    "    chunk_size=100,\n",
    "    chunk_overlap=20,\n",
    "    length_function=len,\n",
    "    is_separator_regex=False,\n",
    ")\n",
    "\n"
   ]
  },
  {
   "cell_type": "code",
   "execution_count": 16,
   "id": "40475bd4-9c19-4e1a-a27e-0860351db3e5",
   "metadata": {},
   "outputs": [],
   "source": [
    "from llama_index.core import VectorStoreIndex\n",
    "from llama_index.core.node_parser import SentenceSplitter\n",
    "from llama_index.readers.file import PyMuPDFReader\n",
    "from llama_index.core.base.llms.types import ChatMessage, MessageRole\n",
    "\n",
    "loader = PyMuPDFReader()\n",
    "ipcc_documents = loader.load(file_path=\"./ipcc_report.pdf\")\n"
   ]
  },
  {
   "cell_type": "code",
   "execution_count": 17,
   "id": "6adbef98-946c-4f1c-870a-710898ce8acb",
   "metadata": {},
   "outputs": [
    {
     "name": "stdout",
     "output_type": "stream",
     "text": [
      "2024-08-21 15:25:37,627 pid:363184 MainThread langchain_community.embeddings.vertexai WARNING  Model_name will become a required arg for VertexAIEmbeddings starting from Feb-01-2024. Currently the default is set to textembedding-gecko@001\n"
     ]
    }
   ],
   "source": [
    "splitter = SentenceSplitter(chunk_size=512)\n",
    "index = VectorStoreIndex.from_documents(ipcc_documents, transformations=[splitter],embed_model=VertexAIEmbeddings())\n",
    "chat_engine = index.as_chat_engine(llm=llm)"
   ]
  },
  {
   "cell_type": "code",
   "execution_count": 18,
   "id": "713e4ae6-2e0f-4bea-8e83-501a5f830358",
   "metadata": {},
   "outputs": [
    {
     "data": {
      "text/plain": [
       "'The global temperature will rise by 1.4 to 5.7 degrees Celsius by 2100. The amount of warming will depend on the amount of greenhouse gases that are emitted. If we emit a lot of greenhouse gases, the temperature will rise by 4.4 degrees Celsius. If we emit very few greenhouse gases, the temperature will rise by 1.4 degrees Celsius.'"
      ]
     },
     "execution_count": 18,
     "metadata": {},
     "output_type": "execute_result"
    }
   ],
   "source": [
    "str(chat_engine.chat(\"How much will the global temperature rise by 2100?\"))\n"
   ]
  },
  {
   "cell_type": "code",
   "execution_count": 23,
   "id": "ecefc8a4-8289-4242-a3cb-183874ba95e6",
   "metadata": {},
   "outputs": [
    {
     "name": "stdout",
     "output_type": "stream",
     "text": [
      "2024-08-21 15:26:54,473 pid:363184 MainThread langchain_community.embeddings.vertexai WARNING  Model_name will become a required arg for VertexAIEmbeddings starting from Feb-01-2024. Currently the default is set to textembedding-gecko@001\n"
     ]
    }
   ],
   "source": [
    "from giskard.rag import KnowledgeBase, generate_testset, QATestset\n",
    "\n",
    "text_nodes = splitter(ipcc_documents)\n",
    "knowledge_base_df = pd.DataFrame([node.text for node in text_nodes], columns=[\"text\"])\n",
    "knowledge_base = KnowledgeBase(knowledge_base_df,embedding_model=VertexAIEmbeddings())\n"
   ]
  },
  {
   "cell_type": "code",
   "execution_count": 19,
   "id": "041be0d3-d651-4378-8e7a-450794e27032",
   "metadata": {},
   "outputs": [],
   "source": [
    "testset = QATestset.load(\"ipcc_testset.jsonl\")"
   ]
  },
  {
   "cell_type": "code",
   "execution_count": 20,
   "id": "2583f7d0-19ef-4111-86c1-d037f6366e8f",
   "metadata": {},
   "outputs": [
    {
     "data": {
      "text/html": [
       "<div>\n",
       "<style scoped>\n",
       "    .dataframe tbody tr th:only-of-type {\n",
       "        vertical-align: middle;\n",
       "    }\n",
       "\n",
       "    .dataframe tbody tr th {\n",
       "        vertical-align: top;\n",
       "    }\n",
       "\n",
       "    .dataframe thead th {\n",
       "        text-align: right;\n",
       "    }\n",
       "</style>\n",
       "<table border=\"1\" class=\"dataframe\">\n",
       "  <thead>\n",
       "    <tr style=\"text-align: right;\">\n",
       "      <th></th>\n",
       "      <th>question</th>\n",
       "      <th>reference_answer</th>\n",
       "      <th>reference_context</th>\n",
       "      <th>conversation_history</th>\n",
       "      <th>metadata</th>\n",
       "    </tr>\n",
       "    <tr>\n",
       "      <th>id</th>\n",
       "      <th></th>\n",
       "      <th></th>\n",
       "      <th></th>\n",
       "      <th></th>\n",
       "      <th></th>\n",
       "    </tr>\n",
       "  </thead>\n",
       "  <tbody>\n",
       "    <tr>\n",
       "      <th>450623f7-e644-4bfa-88d5-90f31dd15d99</th>\n",
       "      <td>What are the consequences of global warming exceeding 2°C for climate resilient development in some regions and sub-regions?</td>\n",
       "      <td>Climate resilient development will not be possible in some regions and sub-regions if global warming exceeds 2°C.</td>\n",
       "      <td>Document 196: Accelerated and equitable mitigation and adaptation bring beneﬁts from avoiding damages from climate \\nchange and are critical to achieving sustainable development (high conﬁdence). Climate resilient development138 \\npathways are progressively constrained by every increment of further warming (very high conﬁdence). There is a \\nrapidly closing window of opportunity to secure a li...</td>\n",
       "      <td>[]</td>\n",
       "      <td>{'question_type': 'simple', 'seed_document_id': 196, 'topic': 'Climate Change Action'}</td>\n",
       "    </tr>\n",
       "    <tr>\n",
       "      <th>79f98d3d-766b-4cbf-800f-03e87966e3e5</th>\n",
       "      <td>What is the projected decline in coral reefs with a global warming of 1.5°C?</td>\n",
       "      <td>Coral reefs are projected to decline by a further 70–90% at 1.5°C of global warming.</td>\n",
       "      <td>Document 123: 71\\nLong-Term Climate and Development Futures\\nSection 3\\n3.1.2 Impacts and Related Risks\\nFor a given level of warming, many climate-related risks are \\nassessed to be higher than in AR5 (high conﬁdence). Levels of \\nrisk120 for all Reasons for Concern121 (RFCs) are assessed to become high \\nto very high at lower global warming levels compared to what was \\nassessed in AR5 (high...</td>\n",
       "      <td>[]</td>\n",
       "      <td>{'question_type': 'simple', 'seed_document_id': 123, 'topic': 'Climate Change Risks'}</td>\n",
       "    </tr>\n",
       "    <tr>\n",
       "      <th>1ee224a2-62af-4877-b172-baec006512e6</th>\n",
       "      <td>What is the expected uncertainty range in the total potential for mitigation options according to the IPCC report?</td>\n",
       "      <td>The uncertainty in the total potential is typically 25–50%.</td>\n",
       "      <td>Document 251: Where a gradual colour transition is shown, the breakdown of the potential into cost categories is not well known or depends heavily on factors such \\nas geographical location, resource availability, and regional circumstances, and the colours indicate the range of estimates. The uncertainty in the total potential is typically 25–50%. \\nWhen interpreting this ﬁgure, the following...</td>\n",
       "      <td>[]</td>\n",
       "      <td>{'question_type': 'simple', 'seed_document_id': 251, 'topic': 'Climate Change Action'}</td>\n",
       "    </tr>\n",
       "    <tr>\n",
       "      <th>16264bd2-510a-4368-a9d6-0a5fef7feb65</th>\n",
       "      <td>What is the effect of increasing cumulative net CO2 emissions on the effectiveness of natural land and ocean carbon sinks?</td>\n",
       "      <td>The proportion of emissions taken up by land and ocean decreases with increasing cumulative net CO2 emissions.</td>\n",
       "      <td>Document 166: While \\nnatural land and ocean carbon sinks are projected to take up, in absolute \\nterms, a progressively larger amount of CO2 under higher compared to \\nlower CO2 emissions scenarios, they become less effective, that is, the \\nproportion of emissions taken up by land and ocean decreases with \\nincreasing cumulative net CO2 emissions (high conﬁdence). Additional \\necosystem resp...</td>\n",
       "      <td>[]</td>\n",
       "      <td>{'question_type': 'simple', 'seed_document_id': 166, 'topic': 'Climate Change Projections'}</td>\n",
       "    </tr>\n",
       "    <tr>\n",
       "      <th>c31c6857-c505-45ef-98e5-aa524c4b05e7</th>\n",
       "      <td>What does hatching represent on the maps depicting changes in maize yield and fisheries catch potential?</td>\n",
       "      <td>Hatching indicates areas where less than 70% of the climate-crop model combinations agree on the sign of impact for maize yield, and where the two climate-fisheries models disagree in the direction of change for fisheries catch potential.</td>\n",
       "      <td>Document 135: Interquartile ranges of WGLs by 2081–2100 \\nunder RCP2.6, RCP4.5 and RCP8.5. The presented index is consistent with common features found in many indices included within WGI and WGII assessments. (c) Impacts \\non food production: (c1) Changes in maize yield at projected GWLs of 1.6°C to 2.4°C (2.0°C), 3.3°C to 4.8°C (4.1°C) and 3.9°C to 6.0°C (4.9°C). Median yield changes \\nfrom ...</td>\n",
       "      <td>[]</td>\n",
       "      <td>{'question_type': 'simple', 'seed_document_id': 135, 'topic': 'Climate Change Assessment'}</td>\n",
       "    </tr>\n",
       "  </tbody>\n",
       "</table>\n",
       "</div>"
      ],
      "text/plain": [
       "                                                                                                                                                          question  \\\n",
       "id                                                                                                                                                                   \n",
       "450623f7-e644-4bfa-88d5-90f31dd15d99  What are the consequences of global warming exceeding 2°C for climate resilient development in some regions and sub-regions?   \n",
       "79f98d3d-766b-4cbf-800f-03e87966e3e5                                                  What is the projected decline in coral reefs with a global warming of 1.5°C?   \n",
       "1ee224a2-62af-4877-b172-baec006512e6            What is the expected uncertainty range in the total potential for mitigation options according to the IPCC report?   \n",
       "16264bd2-510a-4368-a9d6-0a5fef7feb65    What is the effect of increasing cumulative net CO2 emissions on the effectiveness of natural land and ocean carbon sinks?   \n",
       "c31c6857-c505-45ef-98e5-aa524c4b05e7                      What does hatching represent on the maps depicting changes in maize yield and fisheries catch potential?   \n",
       "\n",
       "                                                                                                                                                                                                                                                                    reference_answer  \\\n",
       "id                                                                                                                                                                                                                                                                                     \n",
       "450623f7-e644-4bfa-88d5-90f31dd15d99                                                                                                                               Climate resilient development will not be possible in some regions and sub-regions if global warming exceeds 2°C.   \n",
       "79f98d3d-766b-4cbf-800f-03e87966e3e5                                                                                                                                                            Coral reefs are projected to decline by a further 70–90% at 1.5°C of global warming.   \n",
       "1ee224a2-62af-4877-b172-baec006512e6                                                                                                                                                                                     The uncertainty in the total potential is typically 25–50%.   \n",
       "16264bd2-510a-4368-a9d6-0a5fef7feb65                                                                                                                                  The proportion of emissions taken up by land and ocean decreases with increasing cumulative net CO2 emissions.   \n",
       "c31c6857-c505-45ef-98e5-aa524c4b05e7  Hatching indicates areas where less than 70% of the climate-crop model combinations agree on the sign of impact for maize yield, and where the two climate-fisheries models disagree in the direction of change for fisheries catch potential.   \n",
       "\n",
       "                                                                                                                                                                                                                                                                                                                                                                                                                                    reference_context  \\\n",
       "id                                                                                                                                                                                                                                                                                                                                                                                                                                                      \n",
       "450623f7-e644-4bfa-88d5-90f31dd15d99  Document 196: Accelerated and equitable mitigation and adaptation bring beneﬁts from avoiding damages from climate \\nchange and are critical to achieving sustainable development (high conﬁdence). Climate resilient development138 \\npathways are progressively constrained by every increment of further warming (very high conﬁdence). There is a \\nrapidly closing window of opportunity to secure a li...   \n",
       "79f98d3d-766b-4cbf-800f-03e87966e3e5  Document 123: 71\\nLong-Term Climate and Development Futures\\nSection 3\\n3.1.2 Impacts and Related Risks\\nFor a given level of warming, many climate-related risks are \\nassessed to be higher than in AR5 (high conﬁdence). Levels of \\nrisk120 for all Reasons for Concern121 (RFCs) are assessed to become high \\nto very high at lower global warming levels compared to what was \\nassessed in AR5 (high...   \n",
       "1ee224a2-62af-4877-b172-baec006512e6  Document 251: Where a gradual colour transition is shown, the breakdown of the potential into cost categories is not well known or depends heavily on factors such \\nas geographical location, resource availability, and regional circumstances, and the colours indicate the range of estimates. The uncertainty in the total potential is typically 25–50%. \\nWhen interpreting this ﬁgure, the following...   \n",
       "16264bd2-510a-4368-a9d6-0a5fef7feb65  Document 166: While \\nnatural land and ocean carbon sinks are projected to take up, in absolute \\nterms, a progressively larger amount of CO2 under higher compared to \\nlower CO2 emissions scenarios, they become less effective, that is, the \\nproportion of emissions taken up by land and ocean decreases with \\nincreasing cumulative net CO2 emissions (high conﬁdence). Additional \\necosystem resp...   \n",
       "c31c6857-c505-45ef-98e5-aa524c4b05e7  Document 135: Interquartile ranges of WGLs by 2081–2100 \\nunder RCP2.6, RCP4.5 and RCP8.5. The presented index is consistent with common features found in many indices included within WGI and WGII assessments. (c) Impacts \\non food production: (c1) Changes in maize yield at projected GWLs of 1.6°C to 2.4°C (2.0°C), 3.3°C to 4.8°C (4.1°C) and 3.9°C to 6.0°C (4.9°C). Median yield changes \\nfrom ...   \n",
       "\n",
       "                                     conversation_history  \\\n",
       "id                                                          \n",
       "450623f7-e644-4bfa-88d5-90f31dd15d99                   []   \n",
       "79f98d3d-766b-4cbf-800f-03e87966e3e5                   []   \n",
       "1ee224a2-62af-4877-b172-baec006512e6                   []   \n",
       "16264bd2-510a-4368-a9d6-0a5fef7feb65                   []   \n",
       "c31c6857-c505-45ef-98e5-aa524c4b05e7                   []   \n",
       "\n",
       "                                                                                                                         metadata  \n",
       "id                                                                                                                                 \n",
       "450623f7-e644-4bfa-88d5-90f31dd15d99       {'question_type': 'simple', 'seed_document_id': 196, 'topic': 'Climate Change Action'}  \n",
       "79f98d3d-766b-4cbf-800f-03e87966e3e5        {'question_type': 'simple', 'seed_document_id': 123, 'topic': 'Climate Change Risks'}  \n",
       "1ee224a2-62af-4877-b172-baec006512e6       {'question_type': 'simple', 'seed_document_id': 251, 'topic': 'Climate Change Action'}  \n",
       "16264bd2-510a-4368-a9d6-0a5fef7feb65  {'question_type': 'simple', 'seed_document_id': 166, 'topic': 'Climate Change Projections'}  \n",
       "c31c6857-c505-45ef-98e5-aa524c4b05e7   {'question_type': 'simple', 'seed_document_id': 135, 'topic': 'Climate Change Assessment'}  "
      ]
     },
     "execution_count": 20,
     "metadata": {},
     "output_type": "execute_result"
    }
   ],
   "source": [
    "testset.to_pandas().head(5)\n"
   ]
  },
  {
   "cell_type": "code",
   "execution_count": 21,
   "id": "6673d0e1-3e8d-47a3-bc66-f148817842a0",
   "metadata": {},
   "outputs": [],
   "source": [
    "from giskard.rag import evaluate, RAGReport\n",
    "from giskard.rag.metrics.ragas_metrics import ragas_context_recall, ragas_context_precision"
   ]
  },
  {
   "cell_type": "code",
   "execution_count": 24,
   "id": "f3b5b220-617e-4afd-acd5-4d335b7a29b8",
   "metadata": {},
   "outputs": [
    {
     "data": {
      "application/vnd.jupyter.widget-view+json": {
       "model_id": "35116cda7ddc4b1a96c9ccfcc05a1b4a",
       "version_major": 2,
       "version_minor": 0
      },
      "text/plain": [
       "Asking questions to the agent:   0%|          | 0/120 [00:00<?, ?it/s]"
      ]
     },
     "metadata": {},
     "output_type": "display_data"
    },
    {
     "ename": "ValueError",
     "evalue": "Reached max iterations.",
     "output_type": "error",
     "traceback": [
      "\u001b[0;31m---------------------------------------------------------------------------\u001b[0m",
      "\u001b[0;31mValueError\u001b[0m                                Traceback (most recent call last)",
      "Cell \u001b[0;32mIn[24], line 8\u001b[0m\n\u001b[1;32m      5\u001b[0m         answer \u001b[38;5;241m=\u001b[39m chat_engine\u001b[38;5;241m.\u001b[39mchat(question)\n\u001b[1;32m      6\u001b[0m     \u001b[38;5;28;01mreturn\u001b[39;00m \u001b[38;5;28mstr\u001b[39m(answer)\n\u001b[0;32m----> 8\u001b[0m report \u001b[38;5;241m=\u001b[39m \u001b[43mevaluate\u001b[49m\u001b[43m(\u001b[49m\u001b[43manswer_fn\u001b[49m\u001b[43m,\u001b[49m\n\u001b[1;32m      9\u001b[0m \u001b[43m                \u001b[49m\u001b[43mtestset\u001b[49m\u001b[38;5;241;43m=\u001b[39;49m\u001b[43mtestset\u001b[49m\u001b[43m,\u001b[49m\n\u001b[1;32m     10\u001b[0m \u001b[43m                \u001b[49m\u001b[43mknowledge_base\u001b[49m\u001b[38;5;241;43m=\u001b[39;49m\u001b[43mknowledge_base\u001b[49m\u001b[43m,\u001b[49m\n\u001b[1;32m     11\u001b[0m \u001b[43m                \u001b[49m\u001b[43mmetrics\u001b[49m\u001b[38;5;241;43m=\u001b[39;49m\u001b[43m[\u001b[49m\u001b[43mragas_context_recall\u001b[49m\u001b[43m,\u001b[49m\u001b[43m \u001b[49m\u001b[43mragas_context_precision\u001b[49m\u001b[43m]\u001b[49m\u001b[43m)\u001b[49m\n",
      "File \u001b[0;32m~/source/repos/BIMPoC/pythonenv/lib/python3.10/site-packages/giskard/rag/evaluate.py:79\u001b[0m, in \u001b[0;36mevaluate\u001b[0;34m(answer_fn, testset, knowledge_base, llm_client, agent_description, metrics)\u001b[0m\n\u001b[1;32m     73\u001b[0m \u001b[38;5;28;01mif\u001b[39;00m testset \u001b[38;5;129;01mis\u001b[39;00m \u001b[38;5;28;01mNone\u001b[39;00m:\n\u001b[1;32m     74\u001b[0m     testset \u001b[38;5;241m=\u001b[39m generate_testset(knowledge_base)\n\u001b[1;32m     76\u001b[0m model_outputs \u001b[38;5;241m=\u001b[39m (\n\u001b[1;32m     77\u001b[0m     [_cast_to_agent_answer(ans) \u001b[38;5;28;01mfor\u001b[39;00m ans \u001b[38;5;129;01min\u001b[39;00m answer_fn]\n\u001b[1;32m     78\u001b[0m     \u001b[38;5;28;01mif\u001b[39;00m \u001b[38;5;28misinstance\u001b[39m(answer_fn, Sequence)\n\u001b[0;32m---> 79\u001b[0m     \u001b[38;5;28;01melse\u001b[39;00m \u001b[43m_compute_answers\u001b[49m\u001b[43m(\u001b[49m\u001b[43manswer_fn\u001b[49m\u001b[43m,\u001b[49m\u001b[43m \u001b[49m\u001b[43mtestset\u001b[49m\u001b[43m)\u001b[49m\n\u001b[1;32m     80\u001b[0m )\n\u001b[1;32m     82\u001b[0m llm_client \u001b[38;5;241m=\u001b[39m llm_client \u001b[38;5;129;01mor\u001b[39;00m get_default_client()\n\u001b[1;32m     84\u001b[0m \u001b[38;5;66;03m# @TODO: improve this\u001b[39;00m\n",
      "File \u001b[0;32m~/source/repos/BIMPoC/pythonenv/lib/python3.10/site-packages/giskard/rag/evaluate.py:141\u001b[0m, in \u001b[0;36m_compute_answers\u001b[0;34m(answer_fn, testset)\u001b[0m\n\u001b[1;32m    138\u001b[0m     \u001b[38;5;28;01mif\u001b[39;00m needs_history:\n\u001b[1;32m    139\u001b[0m         kwargs[ANSWER_FN_HISTORY_PARAM] \u001b[38;5;241m=\u001b[39m sample\u001b[38;5;241m.\u001b[39mconversation_history\n\u001b[0;32m--> 141\u001b[0m     answer \u001b[38;5;241m=\u001b[39m \u001b[43manswer_fn\u001b[49m\u001b[43m(\u001b[49m\u001b[43msample\u001b[49m\u001b[38;5;241;43m.\u001b[39;49m\u001b[43mquestion\u001b[49m\u001b[43m,\u001b[49m\u001b[43m \u001b[49m\u001b[38;5;241;43m*\u001b[39;49m\u001b[38;5;241;43m*\u001b[39;49m\u001b[43mkwargs\u001b[49m\u001b[43m)\u001b[49m\n\u001b[1;32m    142\u001b[0m     model_outputs\u001b[38;5;241m.\u001b[39mappend(_cast_to_agent_answer(answer))\n\u001b[1;32m    144\u001b[0m \u001b[38;5;28;01mreturn\u001b[39;00m model_outputs\n",
      "Cell \u001b[0;32mIn[24], line 3\u001b[0m, in \u001b[0;36manswer_fn\u001b[0;34m(question, history)\u001b[0m\n\u001b[1;32m      1\u001b[0m \u001b[38;5;28;01mdef\u001b[39;00m \u001b[38;5;21manswer_fn\u001b[39m(question, history\u001b[38;5;241m=\u001b[39m\u001b[38;5;28;01mNone\u001b[39;00m):\n\u001b[1;32m      2\u001b[0m     \u001b[38;5;28;01mif\u001b[39;00m history:\n\u001b[0;32m----> 3\u001b[0m         answer \u001b[38;5;241m=\u001b[39m \u001b[43mchat_engine\u001b[49m\u001b[38;5;241;43m.\u001b[39;49m\u001b[43mchat\u001b[49m\u001b[43m(\u001b[49m\u001b[43mquestion\u001b[49m\u001b[43m)\u001b[49m\n\u001b[1;32m      4\u001b[0m     \u001b[38;5;28;01melse\u001b[39;00m:\n\u001b[1;32m      5\u001b[0m         answer \u001b[38;5;241m=\u001b[39m chat_engine\u001b[38;5;241m.\u001b[39mchat(question)\n",
      "File \u001b[0;32m~/source/repos/BIMPoC/pythonenv/lib/python3.10/site-packages/llama_index/core/instrumentation/dispatcher.py:260\u001b[0m, in \u001b[0;36mDispatcher.span.<locals>.wrapper\u001b[0;34m(func, instance, args, kwargs)\u001b[0m\n\u001b[1;32m    252\u001b[0m \u001b[38;5;28mself\u001b[39m\u001b[38;5;241m.\u001b[39mspan_enter(\n\u001b[1;32m    253\u001b[0m     id_\u001b[38;5;241m=\u001b[39mid_,\n\u001b[1;32m    254\u001b[0m     bound_args\u001b[38;5;241m=\u001b[39mbound_args,\n\u001b[0;32m   (...)\u001b[0m\n\u001b[1;32m    257\u001b[0m     tags\u001b[38;5;241m=\u001b[39mtags,\n\u001b[1;32m    258\u001b[0m )\n\u001b[1;32m    259\u001b[0m \u001b[38;5;28;01mtry\u001b[39;00m:\n\u001b[0;32m--> 260\u001b[0m     result \u001b[38;5;241m=\u001b[39m \u001b[43mfunc\u001b[49m\u001b[43m(\u001b[49m\u001b[38;5;241;43m*\u001b[39;49m\u001b[43margs\u001b[49m\u001b[43m,\u001b[49m\u001b[43m \u001b[49m\u001b[38;5;241;43m*\u001b[39;49m\u001b[38;5;241;43m*\u001b[39;49m\u001b[43mkwargs\u001b[49m\u001b[43m)\u001b[49m\n\u001b[1;32m    261\u001b[0m \u001b[38;5;28;01mexcept\u001b[39;00m \u001b[38;5;167;01mBaseException\u001b[39;00m \u001b[38;5;28;01mas\u001b[39;00m e:\n\u001b[1;32m    262\u001b[0m     \u001b[38;5;28mself\u001b[39m\u001b[38;5;241m.\u001b[39mevent(SpanDropEvent(span_id\u001b[38;5;241m=\u001b[39mid_, err_str\u001b[38;5;241m=\u001b[39m\u001b[38;5;28mstr\u001b[39m(e)))\n",
      "File \u001b[0;32m~/source/repos/BIMPoC/pythonenv/lib/python3.10/site-packages/llama_index/core/callbacks/utils.py:41\u001b[0m, in \u001b[0;36mtrace_method.<locals>.decorator.<locals>.wrapper\u001b[0;34m(self, *args, **kwargs)\u001b[0m\n\u001b[1;32m     39\u001b[0m callback_manager \u001b[38;5;241m=\u001b[39m cast(CallbackManager, callback_manager)\n\u001b[1;32m     40\u001b[0m \u001b[38;5;28;01mwith\u001b[39;00m callback_manager\u001b[38;5;241m.\u001b[39mas_trace(trace_id):\n\u001b[0;32m---> 41\u001b[0m     \u001b[38;5;28;01mreturn\u001b[39;00m \u001b[43mfunc\u001b[49m\u001b[43m(\u001b[49m\u001b[38;5;28;43mself\u001b[39;49m\u001b[43m,\u001b[49m\u001b[43m \u001b[49m\u001b[38;5;241;43m*\u001b[39;49m\u001b[43margs\u001b[49m\u001b[43m,\u001b[49m\u001b[43m \u001b[49m\u001b[38;5;241;43m*\u001b[39;49m\u001b[38;5;241;43m*\u001b[39;49m\u001b[43mkwargs\u001b[49m\u001b[43m)\u001b[49m\n",
      "File \u001b[0;32m~/source/repos/BIMPoC/pythonenv/lib/python3.10/site-packages/llama_index/core/agent/runner/base.py:646\u001b[0m, in \u001b[0;36mAgentRunner.chat\u001b[0;34m(self, message, chat_history, tool_choice)\u001b[0m\n\u001b[1;32m    641\u001b[0m     tool_choice \u001b[38;5;241m=\u001b[39m \u001b[38;5;28mself\u001b[39m\u001b[38;5;241m.\u001b[39mdefault_tool_choice\n\u001b[1;32m    642\u001b[0m \u001b[38;5;28;01mwith\u001b[39;00m \u001b[38;5;28mself\u001b[39m\u001b[38;5;241m.\u001b[39mcallback_manager\u001b[38;5;241m.\u001b[39mevent(\n\u001b[1;32m    643\u001b[0m     CBEventType\u001b[38;5;241m.\u001b[39mAGENT_STEP,\n\u001b[1;32m    644\u001b[0m     payload\u001b[38;5;241m=\u001b[39m{EventPayload\u001b[38;5;241m.\u001b[39mMESSAGES: [message]},\n\u001b[1;32m    645\u001b[0m ) \u001b[38;5;28;01mas\u001b[39;00m e:\n\u001b[0;32m--> 646\u001b[0m     chat_response \u001b[38;5;241m=\u001b[39m \u001b[38;5;28;43mself\u001b[39;49m\u001b[38;5;241;43m.\u001b[39;49m\u001b[43m_chat\u001b[49m\u001b[43m(\u001b[49m\n\u001b[1;32m    647\u001b[0m \u001b[43m        \u001b[49m\u001b[43mmessage\u001b[49m\u001b[38;5;241;43m=\u001b[39;49m\u001b[43mmessage\u001b[49m\u001b[43m,\u001b[49m\n\u001b[1;32m    648\u001b[0m \u001b[43m        \u001b[49m\u001b[43mchat_history\u001b[49m\u001b[38;5;241;43m=\u001b[39;49m\u001b[43mchat_history\u001b[49m\u001b[43m,\u001b[49m\n\u001b[1;32m    649\u001b[0m \u001b[43m        \u001b[49m\u001b[43mtool_choice\u001b[49m\u001b[38;5;241;43m=\u001b[39;49m\u001b[43mtool_choice\u001b[49m\u001b[43m,\u001b[49m\n\u001b[1;32m    650\u001b[0m \u001b[43m        \u001b[49m\u001b[43mmode\u001b[49m\u001b[38;5;241;43m=\u001b[39;49m\u001b[43mChatResponseMode\u001b[49m\u001b[38;5;241;43m.\u001b[39;49m\u001b[43mWAIT\u001b[49m\u001b[43m,\u001b[49m\n\u001b[1;32m    651\u001b[0m \u001b[43m    \u001b[49m\u001b[43m)\u001b[49m\n\u001b[1;32m    652\u001b[0m     \u001b[38;5;28;01massert\u001b[39;00m \u001b[38;5;28misinstance\u001b[39m(chat_response, AgentChatResponse)\n\u001b[1;32m    653\u001b[0m     e\u001b[38;5;241m.\u001b[39mon_end(payload\u001b[38;5;241m=\u001b[39m{EventPayload\u001b[38;5;241m.\u001b[39mRESPONSE: chat_response})\n",
      "File \u001b[0;32m~/source/repos/BIMPoC/pythonenv/lib/python3.10/site-packages/llama_index/core/instrumentation/dispatcher.py:260\u001b[0m, in \u001b[0;36mDispatcher.span.<locals>.wrapper\u001b[0;34m(func, instance, args, kwargs)\u001b[0m\n\u001b[1;32m    252\u001b[0m \u001b[38;5;28mself\u001b[39m\u001b[38;5;241m.\u001b[39mspan_enter(\n\u001b[1;32m    253\u001b[0m     id_\u001b[38;5;241m=\u001b[39mid_,\n\u001b[1;32m    254\u001b[0m     bound_args\u001b[38;5;241m=\u001b[39mbound_args,\n\u001b[0;32m   (...)\u001b[0m\n\u001b[1;32m    257\u001b[0m     tags\u001b[38;5;241m=\u001b[39mtags,\n\u001b[1;32m    258\u001b[0m )\n\u001b[1;32m    259\u001b[0m \u001b[38;5;28;01mtry\u001b[39;00m:\n\u001b[0;32m--> 260\u001b[0m     result \u001b[38;5;241m=\u001b[39m \u001b[43mfunc\u001b[49m\u001b[43m(\u001b[49m\u001b[38;5;241;43m*\u001b[39;49m\u001b[43margs\u001b[49m\u001b[43m,\u001b[49m\u001b[43m \u001b[49m\u001b[38;5;241;43m*\u001b[39;49m\u001b[38;5;241;43m*\u001b[39;49m\u001b[43mkwargs\u001b[49m\u001b[43m)\u001b[49m\n\u001b[1;32m    261\u001b[0m \u001b[38;5;28;01mexcept\u001b[39;00m \u001b[38;5;167;01mBaseException\u001b[39;00m \u001b[38;5;28;01mas\u001b[39;00m e:\n\u001b[1;32m    262\u001b[0m     \u001b[38;5;28mself\u001b[39m\u001b[38;5;241m.\u001b[39mevent(SpanDropEvent(span_id\u001b[38;5;241m=\u001b[39mid_, err_str\u001b[38;5;241m=\u001b[39m\u001b[38;5;28mstr\u001b[39m(e)))\n",
      "File \u001b[0;32m~/source/repos/BIMPoC/pythonenv/lib/python3.10/site-packages/llama_index/core/agent/runner/base.py:578\u001b[0m, in \u001b[0;36mAgentRunner._chat\u001b[0;34m(self, message, chat_history, tool_choice, mode)\u001b[0m\n\u001b[1;32m    575\u001b[0m dispatcher\u001b[38;5;241m.\u001b[39mevent(AgentChatWithStepStartEvent(user_msg\u001b[38;5;241m=\u001b[39mmessage))\n\u001b[1;32m    576\u001b[0m \u001b[38;5;28;01mwhile\u001b[39;00m \u001b[38;5;28;01mTrue\u001b[39;00m:\n\u001b[1;32m    577\u001b[0m     \u001b[38;5;66;03m# pass step queue in as argument, assume step executor is stateless\u001b[39;00m\n\u001b[0;32m--> 578\u001b[0m     cur_step_output \u001b[38;5;241m=\u001b[39m \u001b[38;5;28;43mself\u001b[39;49m\u001b[38;5;241;43m.\u001b[39;49m\u001b[43m_run_step\u001b[49m\u001b[43m(\u001b[49m\n\u001b[1;32m    579\u001b[0m \u001b[43m        \u001b[49m\u001b[43mtask\u001b[49m\u001b[38;5;241;43m.\u001b[39;49m\u001b[43mtask_id\u001b[49m\u001b[43m,\u001b[49m\u001b[43m \u001b[49m\u001b[43mmode\u001b[49m\u001b[38;5;241;43m=\u001b[39;49m\u001b[43mmode\u001b[49m\u001b[43m,\u001b[49m\u001b[43m \u001b[49m\u001b[43mtool_choice\u001b[49m\u001b[38;5;241;43m=\u001b[39;49m\u001b[43mtool_choice\u001b[49m\n\u001b[1;32m    580\u001b[0m \u001b[43m    \u001b[49m\u001b[43m)\u001b[49m\n\u001b[1;32m    582\u001b[0m     \u001b[38;5;28;01mif\u001b[39;00m cur_step_output\u001b[38;5;241m.\u001b[39mis_last:\n\u001b[1;32m    583\u001b[0m         result_output \u001b[38;5;241m=\u001b[39m cur_step_output\n",
      "File \u001b[0;32m~/source/repos/BIMPoC/pythonenv/lib/python3.10/site-packages/llama_index/core/instrumentation/dispatcher.py:260\u001b[0m, in \u001b[0;36mDispatcher.span.<locals>.wrapper\u001b[0;34m(func, instance, args, kwargs)\u001b[0m\n\u001b[1;32m    252\u001b[0m \u001b[38;5;28mself\u001b[39m\u001b[38;5;241m.\u001b[39mspan_enter(\n\u001b[1;32m    253\u001b[0m     id_\u001b[38;5;241m=\u001b[39mid_,\n\u001b[1;32m    254\u001b[0m     bound_args\u001b[38;5;241m=\u001b[39mbound_args,\n\u001b[0;32m   (...)\u001b[0m\n\u001b[1;32m    257\u001b[0m     tags\u001b[38;5;241m=\u001b[39mtags,\n\u001b[1;32m    258\u001b[0m )\n\u001b[1;32m    259\u001b[0m \u001b[38;5;28;01mtry\u001b[39;00m:\n\u001b[0;32m--> 260\u001b[0m     result \u001b[38;5;241m=\u001b[39m \u001b[43mfunc\u001b[49m\u001b[43m(\u001b[49m\u001b[38;5;241;43m*\u001b[39;49m\u001b[43margs\u001b[49m\u001b[43m,\u001b[49m\u001b[43m \u001b[49m\u001b[38;5;241;43m*\u001b[39;49m\u001b[38;5;241;43m*\u001b[39;49m\u001b[43mkwargs\u001b[49m\u001b[43m)\u001b[49m\n\u001b[1;32m    261\u001b[0m \u001b[38;5;28;01mexcept\u001b[39;00m \u001b[38;5;167;01mBaseException\u001b[39;00m \u001b[38;5;28;01mas\u001b[39;00m e:\n\u001b[1;32m    262\u001b[0m     \u001b[38;5;28mself\u001b[39m\u001b[38;5;241m.\u001b[39mevent(SpanDropEvent(span_id\u001b[38;5;241m=\u001b[39mid_, err_str\u001b[38;5;241m=\u001b[39m\u001b[38;5;28mstr\u001b[39m(e)))\n",
      "File \u001b[0;32m~/source/repos/BIMPoC/pythonenv/lib/python3.10/site-packages/llama_index/core/agent/runner/base.py:412\u001b[0m, in \u001b[0;36mAgentRunner._run_step\u001b[0;34m(self, task_id, step, input, mode, **kwargs)\u001b[0m\n\u001b[1;32m    408\u001b[0m \u001b[38;5;66;03m# TODO: figure out if you can dynamically swap in different step executors\u001b[39;00m\n\u001b[1;32m    409\u001b[0m \u001b[38;5;66;03m# not clear when you would do that by theoretically possible\u001b[39;00m\n\u001b[1;32m    411\u001b[0m \u001b[38;5;28;01mif\u001b[39;00m mode \u001b[38;5;241m==\u001b[39m ChatResponseMode\u001b[38;5;241m.\u001b[39mWAIT:\n\u001b[0;32m--> 412\u001b[0m     cur_step_output \u001b[38;5;241m=\u001b[39m \u001b[38;5;28;43mself\u001b[39;49m\u001b[38;5;241;43m.\u001b[39;49m\u001b[43magent_worker\u001b[49m\u001b[38;5;241;43m.\u001b[39;49m\u001b[43mrun_step\u001b[49m\u001b[43m(\u001b[49m\u001b[43mstep\u001b[49m\u001b[43m,\u001b[49m\u001b[43m \u001b[49m\u001b[43mtask\u001b[49m\u001b[43m,\u001b[49m\u001b[43m \u001b[49m\u001b[38;5;241;43m*\u001b[39;49m\u001b[38;5;241;43m*\u001b[39;49m\u001b[43mkwargs\u001b[49m\u001b[43m)\u001b[49m\n\u001b[1;32m    413\u001b[0m \u001b[38;5;28;01melif\u001b[39;00m mode \u001b[38;5;241m==\u001b[39m ChatResponseMode\u001b[38;5;241m.\u001b[39mSTREAM:\n\u001b[1;32m    414\u001b[0m     cur_step_output \u001b[38;5;241m=\u001b[39m \u001b[38;5;28mself\u001b[39m\u001b[38;5;241m.\u001b[39magent_worker\u001b[38;5;241m.\u001b[39mstream_step(step, task, \u001b[38;5;241m*\u001b[39m\u001b[38;5;241m*\u001b[39mkwargs)\n",
      "File \u001b[0;32m~/source/repos/BIMPoC/pythonenv/lib/python3.10/site-packages/llama_index/core/instrumentation/dispatcher.py:260\u001b[0m, in \u001b[0;36mDispatcher.span.<locals>.wrapper\u001b[0;34m(func, instance, args, kwargs)\u001b[0m\n\u001b[1;32m    252\u001b[0m \u001b[38;5;28mself\u001b[39m\u001b[38;5;241m.\u001b[39mspan_enter(\n\u001b[1;32m    253\u001b[0m     id_\u001b[38;5;241m=\u001b[39mid_,\n\u001b[1;32m    254\u001b[0m     bound_args\u001b[38;5;241m=\u001b[39mbound_args,\n\u001b[0;32m   (...)\u001b[0m\n\u001b[1;32m    257\u001b[0m     tags\u001b[38;5;241m=\u001b[39mtags,\n\u001b[1;32m    258\u001b[0m )\n\u001b[1;32m    259\u001b[0m \u001b[38;5;28;01mtry\u001b[39;00m:\n\u001b[0;32m--> 260\u001b[0m     result \u001b[38;5;241m=\u001b[39m \u001b[43mfunc\u001b[49m\u001b[43m(\u001b[49m\u001b[38;5;241;43m*\u001b[39;49m\u001b[43margs\u001b[49m\u001b[43m,\u001b[49m\u001b[43m \u001b[49m\u001b[38;5;241;43m*\u001b[39;49m\u001b[38;5;241;43m*\u001b[39;49m\u001b[43mkwargs\u001b[49m\u001b[43m)\u001b[49m\n\u001b[1;32m    261\u001b[0m \u001b[38;5;28;01mexcept\u001b[39;00m \u001b[38;5;167;01mBaseException\u001b[39;00m \u001b[38;5;28;01mas\u001b[39;00m e:\n\u001b[1;32m    262\u001b[0m     \u001b[38;5;28mself\u001b[39m\u001b[38;5;241m.\u001b[39mevent(SpanDropEvent(span_id\u001b[38;5;241m=\u001b[39mid_, err_str\u001b[38;5;241m=\u001b[39m\u001b[38;5;28mstr\u001b[39m(e)))\n",
      "File \u001b[0;32m~/source/repos/BIMPoC/pythonenv/lib/python3.10/site-packages/llama_index/core/callbacks/utils.py:41\u001b[0m, in \u001b[0;36mtrace_method.<locals>.decorator.<locals>.wrapper\u001b[0;34m(self, *args, **kwargs)\u001b[0m\n\u001b[1;32m     39\u001b[0m callback_manager \u001b[38;5;241m=\u001b[39m cast(CallbackManager, callback_manager)\n\u001b[1;32m     40\u001b[0m \u001b[38;5;28;01mwith\u001b[39;00m callback_manager\u001b[38;5;241m.\u001b[39mas_trace(trace_id):\n\u001b[0;32m---> 41\u001b[0m     \u001b[38;5;28;01mreturn\u001b[39;00m \u001b[43mfunc\u001b[49m\u001b[43m(\u001b[49m\u001b[38;5;28;43mself\u001b[39;49m\u001b[43m,\u001b[49m\u001b[43m \u001b[49m\u001b[38;5;241;43m*\u001b[39;49m\u001b[43margs\u001b[49m\u001b[43m,\u001b[49m\u001b[43m \u001b[49m\u001b[38;5;241;43m*\u001b[39;49m\u001b[38;5;241;43m*\u001b[39;49m\u001b[43mkwargs\u001b[49m\u001b[43m)\u001b[49m\n",
      "File \u001b[0;32m~/source/repos/BIMPoC/pythonenv/lib/python3.10/site-packages/llama_index/core/agent/react/step.py:781\u001b[0m, in \u001b[0;36mReActAgentWorker.run_step\u001b[0;34m(self, step, task, **kwargs)\u001b[0m\n\u001b[1;32m    778\u001b[0m \u001b[38;5;129m@trace_method\u001b[39m(\u001b[38;5;124m\"\u001b[39m\u001b[38;5;124mrun_step\u001b[39m\u001b[38;5;124m\"\u001b[39m)\n\u001b[1;32m    779\u001b[0m \u001b[38;5;28;01mdef\u001b[39;00m \u001b[38;5;21mrun_step\u001b[39m(\u001b[38;5;28mself\u001b[39m, step: TaskStep, task: Task, \u001b[38;5;241m*\u001b[39m\u001b[38;5;241m*\u001b[39mkwargs: Any) \u001b[38;5;241m-\u001b[39m\u001b[38;5;241m>\u001b[39m TaskStepOutput:\n\u001b[1;32m    780\u001b[0m \u001b[38;5;250m    \u001b[39m\u001b[38;5;124;03m\"\"\"Run step.\"\"\"\u001b[39;00m\n\u001b[0;32m--> 781\u001b[0m     \u001b[38;5;28;01mreturn\u001b[39;00m \u001b[38;5;28;43mself\u001b[39;49m\u001b[38;5;241;43m.\u001b[39;49m\u001b[43m_run_step\u001b[49m\u001b[43m(\u001b[49m\u001b[43mstep\u001b[49m\u001b[43m,\u001b[49m\u001b[43m \u001b[49m\u001b[43mtask\u001b[49m\u001b[43m)\u001b[49m\n",
      "File \u001b[0;32m~/source/repos/BIMPoC/pythonenv/lib/python3.10/site-packages/llama_index/core/agent/react/step.py:573\u001b[0m, in \u001b[0;36mReActAgentWorker._run_step\u001b[0;34m(self, step, task)\u001b[0m\n\u001b[1;32m    569\u001b[0m reasoning_steps, is_done \u001b[38;5;241m=\u001b[39m \u001b[38;5;28mself\u001b[39m\u001b[38;5;241m.\u001b[39m_process_actions(\n\u001b[1;32m    570\u001b[0m     task, tools, output\u001b[38;5;241m=\u001b[39mchat_response\n\u001b[1;32m    571\u001b[0m )\n\u001b[1;32m    572\u001b[0m task\u001b[38;5;241m.\u001b[39mextra_state[\u001b[38;5;124m\"\u001b[39m\u001b[38;5;124mcurrent_reasoning\u001b[39m\u001b[38;5;124m\"\u001b[39m]\u001b[38;5;241m.\u001b[39mextend(reasoning_steps)\n\u001b[0;32m--> 573\u001b[0m agent_response \u001b[38;5;241m=\u001b[39m \u001b[38;5;28;43mself\u001b[39;49m\u001b[38;5;241;43m.\u001b[39;49m\u001b[43m_get_response\u001b[49m\u001b[43m(\u001b[49m\n\u001b[1;32m    574\u001b[0m \u001b[43m    \u001b[49m\u001b[43mtask\u001b[49m\u001b[38;5;241;43m.\u001b[39;49m\u001b[43mextra_state\u001b[49m\u001b[43m[\u001b[49m\u001b[38;5;124;43m\"\u001b[39;49m\u001b[38;5;124;43mcurrent_reasoning\u001b[39;49m\u001b[38;5;124;43m\"\u001b[39;49m\u001b[43m]\u001b[49m\u001b[43m,\u001b[49m\u001b[43m \u001b[49m\u001b[43mtask\u001b[49m\u001b[38;5;241;43m.\u001b[39;49m\u001b[43mextra_state\u001b[49m\u001b[43m[\u001b[49m\u001b[38;5;124;43m\"\u001b[39;49m\u001b[38;5;124;43msources\u001b[39;49m\u001b[38;5;124;43m\"\u001b[39;49m\u001b[43m]\u001b[49m\n\u001b[1;32m    575\u001b[0m \u001b[43m\u001b[49m\u001b[43m)\u001b[49m\n\u001b[1;32m    576\u001b[0m \u001b[38;5;28;01mif\u001b[39;00m is_done:\n\u001b[1;32m    577\u001b[0m     task\u001b[38;5;241m.\u001b[39mextra_state[\u001b[38;5;124m\"\u001b[39m\u001b[38;5;124mnew_memory\u001b[39m\u001b[38;5;124m\"\u001b[39m]\u001b[38;5;241m.\u001b[39mput(\n\u001b[1;32m    578\u001b[0m         ChatMessage(content\u001b[38;5;241m=\u001b[39magent_response\u001b[38;5;241m.\u001b[39mresponse, role\u001b[38;5;241m=\u001b[39mMessageRole\u001b[38;5;241m.\u001b[39mASSISTANT)\n\u001b[1;32m    579\u001b[0m     )\n",
      "File \u001b[0;32m~/source/repos/BIMPoC/pythonenv/lib/python3.10/site-packages/llama_index/core/agent/react/step.py:434\u001b[0m, in \u001b[0;36mReActAgentWorker._get_response\u001b[0;34m(self, current_reasoning, sources)\u001b[0m\n\u001b[1;32m    432\u001b[0m     \u001b[38;5;28;01mraise\u001b[39;00m \u001b[38;5;167;01mValueError\u001b[39;00m(\u001b[38;5;124m\"\u001b[39m\u001b[38;5;124mNo reasoning steps were taken.\u001b[39m\u001b[38;5;124m\"\u001b[39m)\n\u001b[1;32m    433\u001b[0m \u001b[38;5;28;01melif\u001b[39;00m \u001b[38;5;28mlen\u001b[39m(current_reasoning) \u001b[38;5;241m==\u001b[39m \u001b[38;5;28mself\u001b[39m\u001b[38;5;241m.\u001b[39m_max_iterations:\n\u001b[0;32m--> 434\u001b[0m     \u001b[38;5;28;01mraise\u001b[39;00m \u001b[38;5;167;01mValueError\u001b[39;00m(\u001b[38;5;124m\"\u001b[39m\u001b[38;5;124mReached max iterations.\u001b[39m\u001b[38;5;124m\"\u001b[39m)\n\u001b[1;32m    436\u001b[0m \u001b[38;5;28;01mif\u001b[39;00m \u001b[38;5;28misinstance\u001b[39m(current_reasoning[\u001b[38;5;241m-\u001b[39m\u001b[38;5;241m1\u001b[39m], ResponseReasoningStep):\n\u001b[1;32m    437\u001b[0m     response_step \u001b[38;5;241m=\u001b[39m cast(ResponseReasoningStep, current_reasoning[\u001b[38;5;241m-\u001b[39m\u001b[38;5;241m1\u001b[39m])\n",
      "\u001b[0;31mValueError\u001b[0m: Reached max iterations."
     ]
    }
   ],
   "source": [
    "def answer_fn(question, history=None):\n",
    "    if history:\n",
    "        answer = chat_engine.chat(question)\n",
    "    else:\n",
    "        answer = chat_engine.chat(question)\n",
    "    return str(answer)\n",
    "\n",
    "report = evaluate(answer_fn,\n",
    "                testset=testset,\n",
    "                knowledge_base=knowledge_base,\n",
    "                metrics=[ragas_context_recall, ragas_context_precision])\n"
   ]
  },
  {
   "cell_type": "code",
   "execution_count": 47,
   "id": "bd3cce34-7842-40b2-957c-2e9795c6d461",
   "metadata": {},
   "outputs": [
    {
     "ename": "FileNotFoundError",
     "evalue": "[Errno 2] No such file or directory: 'ipcc_report.html/knowledge_base_meta.json'",
     "output_type": "error",
     "traceback": [
      "\u001b[0;31m---------------------------------------------------------------------------\u001b[0m",
      "\u001b[0;31mFileNotFoundError\u001b[0m                         Traceback (most recent call last)",
      "Cell \u001b[0;32mIn[47], line 1\u001b[0m\n\u001b[0;32m----> 1\u001b[0m report \u001b[38;5;241m=\u001b[39m \u001b[43mRAGReport\u001b[49m\u001b[38;5;241;43m.\u001b[39;49m\u001b[43mload\u001b[49m\u001b[43m(\u001b[49m\u001b[38;5;124;43m\"\u001b[39;49m\u001b[38;5;124;43m./ipcc_report.html\u001b[39;49m\u001b[38;5;124;43m\"\u001b[39;49m\u001b[43m)\u001b[49m\n",
      "File \u001b[0;32m~/source/repos/BIMPoC/pythonenv/lib/python3.10/site-packages/giskard/rag/report.py:190\u001b[0m, in \u001b[0;36mRAGReport.load\u001b[0;34m(cls, folder_path, llm_client, embedding_model)\u001b[0m\n\u001b[1;32m    176\u001b[0m \u001b[38;5;250m\u001b[39m\u001b[38;5;124;03m\"\"\"Load a saved report.\u001b[39;00m\n\u001b[1;32m    177\u001b[0m \n\u001b[1;32m    178\u001b[0m \u001b[38;5;124;03mIt reconstructs the objects inside the report including the testset and the knowledge base.\u001b[39;00m\n\u001b[0;32m   (...)\u001b[0m\n\u001b[1;32m    187\u001b[0m \u001b[38;5;124;03m    The embedding model to use inside the knowledge base. If not provided, the default model will be used.\u001b[39;00m\n\u001b[1;32m    188\u001b[0m \u001b[38;5;124;03m\"\"\"\u001b[39;00m\n\u001b[1;32m    189\u001b[0m path \u001b[38;5;241m=\u001b[39m Path(folder_path)\n\u001b[0;32m--> 190\u001b[0m knowledge_base_meta \u001b[38;5;241m=\u001b[39m json\u001b[38;5;241m.\u001b[39mload(\u001b[38;5;28;43mopen\u001b[39;49m\u001b[43m(\u001b[49m\u001b[43mpath\u001b[49m\u001b[43m \u001b[49m\u001b[38;5;241;43m/\u001b[39;49m\u001b[43m \u001b[49m\u001b[38;5;124;43m\"\u001b[39;49m\u001b[38;5;124;43mknowledge_base_meta.json\u001b[39;49m\u001b[38;5;124;43m\"\u001b[39;49m\u001b[43m,\u001b[49m\u001b[43m \u001b[49m\u001b[38;5;124;43m\"\u001b[39;49m\u001b[38;5;124;43mr\u001b[39;49m\u001b[38;5;124;43m\"\u001b[39;49m\u001b[43m)\u001b[49m)\n\u001b[1;32m    191\u001b[0m knowledge_base_data \u001b[38;5;241m=\u001b[39m pd\u001b[38;5;241m.\u001b[39mread_json(path \u001b[38;5;241m/\u001b[39m \u001b[38;5;124m\"\u001b[39m\u001b[38;5;124mknowledge_base.jsonl\u001b[39m\u001b[38;5;124m\"\u001b[39m, orient\u001b[38;5;241m=\u001b[39m\u001b[38;5;124m\"\u001b[39m\u001b[38;5;124mrecords\u001b[39m\u001b[38;5;124m\"\u001b[39m, lines\u001b[38;5;241m=\u001b[39m\u001b[38;5;28;01mTrue\u001b[39;00m)\n\u001b[1;32m    192\u001b[0m testset \u001b[38;5;241m=\u001b[39m QATestset\u001b[38;5;241m.\u001b[39mload(path \u001b[38;5;241m/\u001b[39m \u001b[38;5;124m\"\u001b[39m\u001b[38;5;124mtestset.json\u001b[39m\u001b[38;5;124m\"\u001b[39m)\n",
      "\u001b[0;31mFileNotFoundError\u001b[0m: [Errno 2] No such file or directory: 'ipcc_report.html/knowledge_base_meta.json'"
     ]
    }
   ],
   "source": [
    "report = RAGReport.load(\"./ipcc_report.html\")"
   ]
  },
  {
   "cell_type": "code",
   "execution_count": 48,
   "id": "0d85baf1-f8fc-4bd2-9700-8f956a4b85a2",
   "metadata": {},
   "outputs": [
    {
     "name": "stdout",
     "output_type": "stream",
     "text": [
      "artifacts\t     llm_evaluation_harness.ipynb  perplixityOfLLM.py\n",
      "Bert.ipynb\t     lmEvalHarness.py\t\t   report.html\n",
      "BLEU.py\t\t     lmevalHarnessResult\t   ROUGE.py\n",
      "db\t\t     Memory_Consumption.ipynb\t   Untitled1.ipynb\n",
      "Giskard.ipynb\t     METEOR.py\t\t\t   Untitled2.ipynb\n",
      "Hallucintions.ipynb  multimodalModel.ipynb\t   Untitled.ipynb\n",
      "ipcc_report.pdf      nvdia.py\t\t\t   WEAT.ipynb\n",
      "ipcc_testset.jsonl   perplexity.py\t\t   WeightsAndBias.ipynb\n"
     ]
    }
   ],
   "source": [
    "!ls"
   ]
  },
  {
   "cell_type": "code",
   "execution_count": null,
   "id": "4661cbb1-7c98-426d-be33-3d925fc9e204",
   "metadata": {},
   "outputs": [],
   "source": []
  }
 ],
 "metadata": {
  "kernelspec": {
   "display_name": "Python 3 (ipykernel)",
   "language": "python",
   "name": "python3"
  },
  "language_info": {
   "codemirror_mode": {
    "name": "ipython",
    "version": 3
   },
   "file_extension": ".py",
   "mimetype": "text/x-python",
   "name": "python",
   "nbconvert_exporter": "python",
   "pygments_lexer": "ipython3",
   "version": "3.10.12"
  }
 },
 "nbformat": 4,
 "nbformat_minor": 5
}
