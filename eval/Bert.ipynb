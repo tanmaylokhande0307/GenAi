{
 "cells": [
  {
   "cell_type": "code",
   "execution_count": 2,
   "id": "c782e5a4-5330-4322-b642-6c6ba0a9dd2a",
   "metadata": {},
   "outputs": [],
   "source": [
    "# Bert understands the similarity between generted context and the reference context\n",
    "# Bidirectional Encoder Representations from Transformers\n",
    "# best to evaluate chatbots i,e convrersation bots because of low context length\n",
    "# not a keyword similarization but context understsandig"
   ]
  },
  {
   "cell_type": "code",
   "execution_count": 4,
   "id": "67f787c0-3f6f-4d37-ba49-3364ed33aa21",
   "metadata": {},
   "outputs": [],
   "source": [
    "#Step1 : Convert both the generated and reference text into base embeddings\n",
    "#Step2 : Capture the contextual meaning of each word or phrase\n",
    "#Step3 : Compare these embeddings to access the semantic similarity"
   ]
  },
  {
   "cell_type": "code",
   "execution_count": 9,
   "id": "2caa05e9-dfc7-4fb6-9658-367fc8d6af41",
   "metadata": {},
   "outputs": [],
   "source": [
    "#Results : Precision , Recall and F1-Score\n",
    "#F1-Score is harmonic mean of Precision and Recall"
   ]
  },
  {
   "cell_type": "code",
   "execution_count": 7,
   "id": "8318650c-d69f-49a6-82d0-0fbac08234c0",
   "metadata": {},
   "outputs": [],
   "source": [
    "!pip3 install -q bert-score"
   ]
  },
  {
   "cell_type": "code",
   "execution_count": 15,
   "id": "abec5644-d7b8-4b2f-b4f2-87fd997dc2dc",
   "metadata": {},
   "outputs": [
    {
     "name": "stderr",
     "output_type": "stream",
     "text": [
      "Some weights of RobertaModel were not initialized from the model checkpoint at roberta-large and are newly initialized: ['roberta.pooler.dense.bias', 'roberta.pooler.dense.weight']\n",
      "You should probably TRAIN this model on a down-stream task to be able to use it for predictions and inference.\n"
     ]
    },
    {
     "name": "stdout",
     "output_type": "stream",
     "text": [
      "calculating scores...\n",
      "computing bert embedding.\n"
     ]
    },
    {
     "name": "stderr",
     "output_type": "stream",
     "text": [
      "100%|████████████████████████████████████████████████████████| 1/1 [00:00<00:00,  4.62it/s]\n"
     ]
    },
    {
     "name": "stdout",
     "output_type": "stream",
     "text": [
      "computing greedy matching.\n"
     ]
    },
    {
     "name": "stderr",
     "output_type": "stream",
     "text": [
      "100%|███████████████████████████████████████████████████████| 1/1 [00:00<00:00, 153.00it/s]"
     ]
    },
    {
     "name": "stdout",
     "output_type": "stream",
     "text": [
      "done in 0.23 seconds, 4.39 sentences/sec\n",
      "Precision: 0.8119716644287109\n",
      "Recall: 0.8319454789161682\n",
      "F1 Score: 0.8218372464179993\n"
     ]
    },
    {
     "name": "stderr",
     "output_type": "stream",
     "text": [
      "\n"
     ]
    }
   ],
   "source": [
    "from bert_score import score\n",
    "\n",
    "generated_text = [\"BIM is building information management\"]\n",
    "original_text = [\"A fast brown dog leaps over a sleepy fox.\"]\n",
    "\n",
    "P, R, F1 = score(generated_text, original_text, lang='en', verbose=True)\n",
    "\n",
    "print(f\"Precision: {P.mean()}\")\n",
    "print(f\"Recall: {R.mean()}\")\n",
    "print(f\"F1 Score: {F1.mean()}\")\n"
   ]
  },
  {
   "cell_type": "code",
   "execution_count": null,
   "id": "b58f0d7e-b03a-44ae-9645-10101cdf1d1f",
   "metadata": {},
   "outputs": [],
   "source": []
  }
 ],
 "metadata": {
  "kernelspec": {
   "display_name": "Python 3 (ipykernel)",
   "language": "python",
   "name": "python3"
  },
  "language_info": {
   "codemirror_mode": {
    "name": "ipython",
    "version": 3
   },
   "file_extension": ".py",
   "mimetype": "text/x-python",
   "name": "python",
   "nbconvert_exporter": "python",
   "pygments_lexer": "ipython3",
   "version": "3.10.12"
  }
 },
 "nbformat": 4,
 "nbformat_minor": 5
}
