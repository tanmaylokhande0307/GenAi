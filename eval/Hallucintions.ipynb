{
 "cells": [
  {
   "cell_type": "code",
   "execution_count": 1,
   "id": "7a1a2f2f-996e-4bcd-9ca0-a78d530a861b",
   "metadata": {},
   "outputs": [
    {
     "name": "stderr",
     "output_type": "stream",
     "text": [
      "/home/debian/source/repos/BIMPoC/pythonenv/lib/python3.10/site-packages/sentence_transformers/cross_encoder/CrossEncoder.py:11: TqdmWarning: IProgress not found. Please update jupyter and ipywidgets. See https://ipywidgets.readthedocs.io/en/stable/user_install.html\n",
      "  from tqdm.autonotebook import tqdm, trange\n"
     ]
    }
   ],
   "source": [
    "from sentence_transformers import CrossEncoder"
   ]
  },
  {
   "cell_type": "code",
   "execution_count": 2,
   "id": "5c5fc820-1922-4c02-9d3f-344cf12c0309",
   "metadata": {},
   "outputs": [
    {
     "name": "stderr",
     "output_type": "stream",
     "text": [
      "/home/debian/source/repos/BIMPoC/pythonenv/lib/python3.10/site-packages/huggingface_hub/file_download.py:1132: FutureWarning: `resume_download` is deprecated and will be removed in version 1.0.0. Downloads always resume when possible. If you want to force a new download, use `force_download=True`.\n",
      "  warnings.warn(\n"
     ]
    }
   ],
   "source": [
    "model = CrossEncoder('vectara/hallucination_evaluation_model')"
   ]
  },
  {
   "cell_type": "code",
   "execution_count": 3,
   "id": "3be8f4df-27d9-4219-9899-8d26fa55c55f",
   "metadata": {},
   "outputs": [
    {
     "data": {
      "text/plain": [
       "<sentence_transformers.cross_encoder.CrossEncoder.CrossEncoder at 0x76017ebae350>"
      ]
     },
     "execution_count": 3,
     "metadata": {},
     "output_type": "execute_result"
    }
   ],
   "source": [
    "model"
   ]
  },
  {
   "cell_type": "code",
   "execution_count": 6,
   "id": "a35c61f7-f3d8-4f1f-b8ee-c076c81ae229",
   "metadata": {},
   "outputs": [
    {
     "data": {
      "text/plain": [
       "array([6.1051542e-01, 4.7493709e-04, 9.9639291e-01, 2.1221593e-04,\n",
       "       9.9599433e-01, 1.4126975e-03, 2.6548558e-04], dtype=float32)"
      ]
     },
     "execution_count": 6,
     "metadata": {},
     "output_type": "execute_result"
    }
   ],
   "source": [
    "scores = model.predict([\n",
    "    [\"A man walks into a bar and buys a drink\", \"A bloke swigs alcohol at a pub\"],\n",
    "    [\"A person on a horse jumps over a broken down airplane.\", \"A person is at a diner, ordering an omelette.\"],\n",
    "    [\"A person on a horse jumps over a broken down airplane.\", \"A person is outdoors, on a horse.\"],\n",
    "    [\"A boy is jumping on skateboard in the middle of a red bridge.\", \"The boy skates down the sidewalk on a blue bridge\"],\n",
    "    [\"A man with blond-hair, and a brown shirt drinking out of a public water fountain.\", \"A blond drinking water in public.\"],\n",
    "    [\"A man with blond-hair, and a brown shirt drinking out of a public water fountain.\", \"A blond man wearing a brown shirt is reading a book.\"],\n",
    "    [\"A was a fan of B.\", \"B was a fan of A.\"],  \n",
    "])\n",
    "\n",
    "scores\n"
   ]
  },
  {
   "cell_type": "code",
   "execution_count": 7,
   "id": "57bcdada-b55f-43d0-bd4f-71c86f17cabd",
   "metadata": {},
   "outputs": [
    {
     "data": {
      "text/plain": [
       "array([0.6, 0. , 1. , 0. , 1. , 0. , 0. ], dtype=float32)"
      ]
     },
     "execution_count": 7,
     "metadata": {},
     "output_type": "execute_result"
    }
   ],
   "source": [
    "import numpy as np \n",
    "\n",
    "# Convert the values to one decimal point\n",
    "score_one_decimal = np.around(scores, decimals=1)\n",
    "score_one_decimal"
   ]
  },
  {
   "cell_type": "code",
   "execution_count": null,
   "id": "77561a0e-b87c-4fa6-bd9c-7050e3c1160b",
   "metadata": {},
   "outputs": [],
   "source": [
    "# value ranges from 0 to 1 , 0 is more close to the hallucination"
   ]
  }
 ],
 "metadata": {
  "kernelspec": {
   "display_name": "Python 3 (ipykernel)",
   "language": "python",
   "name": "python3"
  },
  "language_info": {
   "codemirror_mode": {
    "name": "ipython",
    "version": 3
   },
   "file_extension": ".py",
   "mimetype": "text/x-python",
   "name": "python",
   "nbconvert_exporter": "python",
   "pygments_lexer": "ipython3",
   "version": "3.10.12"
  }
 },
 "nbformat": 4,
 "nbformat_minor": 5
}
