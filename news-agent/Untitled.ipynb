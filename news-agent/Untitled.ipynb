{
 "cells": [
  {
   "cell_type": "code",
   "execution_count": 1,
   "id": "8c47d545-500e-4105-b4e0-292357a7f450",
   "metadata": {},
   "outputs": [
    {
     "name": "stdout",
     "output_type": "stream",
     "text": [
      "Defaulting to user installation because normal site-packages is not writeable\n",
      "Requirement already satisfied: langchain-community in /home/debian/.local/lib/python3.10/site-packages (0.3.20)\n",
      "Collecting langgraph\n",
      "  Downloading langgraph-0.3.20-py3-none-any.whl (137 kB)\n",
      "\u001b[2K     \u001b[38;2;114;156;31m━━━━━━━━━━━━━━━━━━━━━━━━━━━━━━━━━━━━━━━\u001b[0m \u001b[32m137.9/137.9 KB\u001b[0m \u001b[31m1.7 MB/s\u001b[0m eta \u001b[36m0:00:00\u001b[0m[31m1.6 MB/s\u001b[0m eta \u001b[36m0:00:01\u001b[0m\n",
      "\u001b[?25hCollecting langchain-anthropic\n",
      "  Downloading langchain_anthropic-0.3.10-py3-none-any.whl (25 kB)\n",
      "Collecting tavily-python\n",
      "  Downloading tavily_python-0.5.1-py3-none-any.whl (43 kB)\n",
      "\u001b[2K     \u001b[38;2;114;156;31m━━━━━━━━━━━━━━━━━━━━━━━━━━━━━━━━━━━━━━━━\u001b[0m \u001b[32m43.8/43.8 KB\u001b[0m \u001b[31m8.6 MB/s\u001b[0m eta \u001b[36m0:00:00\u001b[0m\n",
      "\u001b[?25hCollecting langgraph-checkpoint-sqlite\n",
      "  Downloading langgraph_checkpoint_sqlite-2.0.6-py3-none-any.whl (12 kB)\n",
      "Requirement already satisfied: langchain<1.0.0,>=0.3.21 in /home/debian/.local/lib/python3.10/site-packages (from langchain-community) (0.3.21)\n",
      "Requirement already satisfied: requests<3,>=2 in /home/debian/.local/lib/python3.10/site-packages (from langchain-community) (2.32.3)\n",
      "Requirement already satisfied: tenacity!=8.4.0,<10,>=8.1.0 in /home/debian/.local/lib/python3.10/site-packages (from langchain-community) (9.0.0)\n",
      "Requirement already satisfied: langsmith<0.4,>=0.1.125 in /home/debian/.local/lib/python3.10/site-packages (from langchain-community) (0.3.13)\n",
      "Requirement already satisfied: pydantic-settings<3.0.0,>=2.4.0 in /home/debian/.local/lib/python3.10/site-packages (from langchain-community) (2.8.1)\n",
      "Requirement already satisfied: httpx-sse<1.0.0,>=0.4.0 in /home/debian/.local/lib/python3.10/site-packages (from langchain-community) (0.4.0)\n",
      "Requirement already satisfied: numpy<3,>=1.26.2 in /home/debian/.local/lib/python3.10/site-packages (from langchain-community) (2.2.0)\n",
      "Requirement already satisfied: SQLAlchemy<3,>=1.4 in /home/debian/.local/lib/python3.10/site-packages (from langchain-community) (2.0.39)\n",
      "Requirement already satisfied: dataclasses-json<0.7,>=0.5.7 in /home/debian/.local/lib/python3.10/site-packages (from langchain-community) (0.6.7)\n",
      "Requirement already satisfied: langchain-core<1.0.0,>=0.3.45 in /home/debian/.local/lib/python3.10/site-packages (from langchain-community) (0.3.48)\n",
      "Requirement already satisfied: PyYAML>=5.3 in /usr/lib/python3/dist-packages (from langchain-community) (5.4.1)\n",
      "Requirement already satisfied: aiohttp<4.0.0,>=3.8.3 in /home/debian/.local/lib/python3.10/site-packages (from langchain-community) (3.11.14)\n",
      "Collecting langgraph-sdk<0.2.0,>=0.1.42\n",
      "  Downloading langgraph_sdk-0.1.58-py3-none-any.whl (46 kB)\n",
      "\u001b[2K     \u001b[38;2;114;156;31m━━━━━━━━━━━━━━━━━━━━━━━━━━━━━━━━━━━━━━━━\u001b[0m \u001b[32m46.5/46.5 KB\u001b[0m \u001b[31m12.6 MB/s\u001b[0m eta \u001b[36m0:00:00\u001b[0m\n",
      "\u001b[?25hCollecting langgraph-prebuilt<0.2,>=0.1.1\n",
      "  Downloading langgraph_prebuilt-0.1.4-py3-none-any.whl (24 kB)\n",
      "Collecting langgraph-checkpoint<3.0.0,>=2.0.10\n",
      "  Downloading langgraph_checkpoint-2.0.23-py3-none-any.whl (41 kB)\n",
      "\u001b[2K     \u001b[38;2;114;156;31m━━━━━━━━━━━━━━━━━━━━━━━━━━━━━━━━━━━━━━━━\u001b[0m \u001b[32m41.9/41.9 KB\u001b[0m \u001b[31m13.0 MB/s\u001b[0m eta \u001b[36m0:00:00\u001b[0m\n",
      "\u001b[?25hCollecting xxhash<4.0.0,>=3.5.0\n",
      "  Downloading xxhash-3.5.0-cp310-cp310-manylinux_2_17_x86_64.manylinux2014_x86_64.whl (194 kB)\n",
      "\u001b[2K     \u001b[38;2;114;156;31m━━━━━━━━━━━━━━━━━━━━━━━━━━━━━━━━━━━━━━━\u001b[0m \u001b[32m194.1/194.1 KB\u001b[0m \u001b[31m5.7 MB/s\u001b[0m eta \u001b[36m0:00:00\u001b[0m\n",
      "\u001b[?25hCollecting anthropic<1,>=0.49.0\n",
      "  Downloading anthropic-0.49.0-py3-none-any.whl (243 kB)\n",
      "\u001b[2K     \u001b[38;2;114;156;31m━━━━━━━━━━━━━━━━━━━━━━━━━━━━━━━━━━━━━━\u001b[0m \u001b[32m243.4/243.4 KB\u001b[0m \u001b[31m12.5 MB/s\u001b[0m eta \u001b[36m0:00:00\u001b[0m\n",
      "\u001b[?25hRequirement already satisfied: pydantic<3.0.0,>=2.7.4 in /home/debian/.local/lib/python3.10/site-packages (from langchain-anthropic) (2.10.6)\n",
      "Collecting tiktoken>=0.5.1\n",
      "  Downloading tiktoken-0.9.0-cp310-cp310-manylinux_2_17_x86_64.manylinux2014_x86_64.whl (1.2 MB)\n",
      "\u001b[2K     \u001b[38;2;114;156;31m━━━━━━━━━━━━━━━━━━━━━━━━━━━━━━━━━━━━━━━━\u001b[0m \u001b[32m1.2/1.2 MB\u001b[0m \u001b[31m11.6 MB/s\u001b[0m eta \u001b[36m0:00:00\u001b[0m31m12.5 MB/s\u001b[0m eta \u001b[36m0:00:01\u001b[0m\n",
      "\u001b[?25hRequirement already satisfied: httpx in /home/debian/.local/lib/python3.10/site-packages (from tavily-python) (0.28.1)\n",
      "Collecting aiosqlite<0.22,>=0.20\n",
      "  Downloading aiosqlite-0.21.0-py3-none-any.whl (15 kB)\n",
      "Requirement already satisfied: propcache>=0.2.0 in /home/debian/.local/lib/python3.10/site-packages (from aiohttp<4.0.0,>=3.8.3->langchain-community) (0.3.0)\n",
      "Requirement already satisfied: attrs>=17.3.0 in /home/debian/.local/lib/python3.10/site-packages (from aiohttp<4.0.0,>=3.8.3->langchain-community) (25.3.0)\n",
      "Requirement already satisfied: aiohappyeyeballs>=2.3.0 in /home/debian/.local/lib/python3.10/site-packages (from aiohttp<4.0.0,>=3.8.3->langchain-community) (2.6.1)\n",
      "Requirement already satisfied: yarl<2.0,>=1.17.0 in /home/debian/.local/lib/python3.10/site-packages (from aiohttp<4.0.0,>=3.8.3->langchain-community) (1.18.3)\n",
      "Requirement already satisfied: frozenlist>=1.1.1 in /home/debian/.local/lib/python3.10/site-packages (from aiohttp<4.0.0,>=3.8.3->langchain-community) (1.5.0)\n",
      "Requirement already satisfied: multidict<7.0,>=4.5 in /home/debian/.local/lib/python3.10/site-packages (from aiohttp<4.0.0,>=3.8.3->langchain-community) (6.2.0)\n",
      "Requirement already satisfied: aiosignal>=1.1.2 in /home/debian/.local/lib/python3.10/site-packages (from aiohttp<4.0.0,>=3.8.3->langchain-community) (1.3.2)\n",
      "Requirement already satisfied: async-timeout<6.0,>=4.0 in /home/debian/.local/lib/python3.10/site-packages (from aiohttp<4.0.0,>=3.8.3->langchain-community) (4.0.3)\n",
      "Requirement already satisfied: typing_extensions>=4.0 in /home/debian/.local/lib/python3.10/site-packages (from aiosqlite<0.22,>=0.20->langgraph-checkpoint-sqlite) (4.12.2)\n",
      "Requirement already satisfied: sniffio in /home/debian/.local/lib/python3.10/site-packages (from anthropic<1,>=0.49.0->langchain-anthropic) (1.3.1)\n",
      "Requirement already satisfied: distro<2,>=1.7.0 in /usr/lib/python3/dist-packages (from anthropic<1,>=0.49.0->langchain-anthropic) (1.7.0)\n",
      "Requirement already satisfied: anyio<5,>=3.5.0 in /home/debian/.local/lib/python3.10/site-packages (from anthropic<1,>=0.49.0->langchain-anthropic) (4.8.0)\n",
      "Collecting jiter<1,>=0.4.0\n",
      "  Downloading jiter-0.9.0-cp310-cp310-manylinux_2_17_x86_64.manylinux2014_x86_64.whl (352 kB)\n",
      "\u001b[2K     \u001b[38;2;114;156;31m━━━━━━━━━━━━━━━━━━━━━━━━━━━━━━━━━━━━━━━\u001b[0m \u001b[32m352.9/352.9 KB\u001b[0m \u001b[31m9.8 MB/s\u001b[0m eta \u001b[36m0:00:00\u001b[0m[36m0:00:01\u001b[0m\n",
      "\u001b[?25hRequirement already satisfied: marshmallow<4.0.0,>=3.18.0 in /home/debian/.local/lib/python3.10/site-packages (from dataclasses-json<0.7,>=0.5.7->langchain-community) (3.26.1)\n",
      "Requirement already satisfied: typing-inspect<1,>=0.4.0 in /home/debian/.local/lib/python3.10/site-packages (from dataclasses-json<0.7,>=0.5.7->langchain-community) (0.9.0)\n",
      "Requirement already satisfied: certifi in /usr/lib/python3/dist-packages (from httpx->tavily-python) (2020.6.20)\n",
      "Requirement already satisfied: httpcore==1.* in /home/debian/.local/lib/python3.10/site-packages (from httpx->tavily-python) (1.0.7)\n",
      "Requirement already satisfied: idna in /usr/lib/python3/dist-packages (from httpx->tavily-python) (3.3)\n",
      "Requirement already satisfied: h11<0.15,>=0.13 in /home/debian/.local/lib/python3.10/site-packages (from httpcore==1.*->httpx->tavily-python) (0.14.0)\n",
      "Requirement already satisfied: langchain-text-splitters<1.0.0,>=0.3.7 in /home/debian/.local/lib/python3.10/site-packages (from langchain<1.0.0,>=0.3.21->langchain-community) (0.3.7)\n",
      "Requirement already satisfied: packaging<25,>=23.2 in /home/debian/.local/lib/python3.10/site-packages (from langchain-core<1.0.0,>=0.3.45->langchain-community) (24.2)\n",
      "Requirement already satisfied: jsonpatch<2.0,>=1.33 in /home/debian/.local/lib/python3.10/site-packages (from langchain-core<1.0.0,>=0.3.45->langchain-community) (1.33)\n",
      "Collecting ormsgpack<2.0.0,>=1.8.0\n",
      "  Downloading ormsgpack-1.9.0-cp310-cp310-manylinux_2_17_x86_64.manylinux2014_x86_64.whl (223 kB)\n",
      "\u001b[2K     \u001b[38;2;114;156;31m━━━━━━━━━━━━━━━━━━━━━━━━━━━━━━━━━━━━━━\u001b[0m \u001b[32m223.7/223.7 KB\u001b[0m \u001b[31m11.1 MB/s\u001b[0m eta \u001b[36m0:00:00\u001b[0m\n",
      "\u001b[?25hRequirement already satisfied: orjson>=3.10.1 in /home/debian/.local/lib/python3.10/site-packages (from langgraph-sdk<0.2.0,>=0.1.42->langgraph) (3.10.15)\n",
      "Requirement already satisfied: requests-toolbelt<2.0.0,>=1.0.0 in /home/debian/.local/lib/python3.10/site-packages (from langsmith<0.4,>=0.1.125->langchain-community) (1.0.0)\n",
      "Requirement already satisfied: zstandard<0.24.0,>=0.23.0 in /home/debian/.local/lib/python3.10/site-packages (from langsmith<0.4,>=0.1.125->langchain-community) (0.23.0)\n",
      "Requirement already satisfied: annotated-types>=0.6.0 in /home/debian/.local/lib/python3.10/site-packages (from pydantic<3.0.0,>=2.7.4->langchain-anthropic) (0.7.0)\n",
      "Requirement already satisfied: pydantic-core==2.27.2 in /home/debian/.local/lib/python3.10/site-packages (from pydantic<3.0.0,>=2.7.4->langchain-anthropic) (2.27.2)\n",
      "Requirement already satisfied: python-dotenv>=0.21.0 in /home/debian/.local/lib/python3.10/site-packages (from pydantic-settings<3.0.0,>=2.4.0->langchain-community) (1.0.1)\n",
      "Requirement already satisfied: charset-normalizer<4,>=2 in /home/debian/.local/lib/python3.10/site-packages (from requests<3,>=2->langchain-community) (3.4.1)\n",
      "Requirement already satisfied: urllib3<3,>=1.21.1 in /usr/lib/python3/dist-packages (from requests<3,>=2->langchain-community) (1.26.5)\n",
      "Requirement already satisfied: greenlet!=0.4.17 in /home/debian/.local/lib/python3.10/site-packages (from SQLAlchemy<3,>=1.4->langchain-community) (3.1.1)\n",
      "Requirement already satisfied: regex>=2022.1.18 in /home/debian/.local/lib/python3.10/site-packages (from tiktoken>=0.5.1->tavily-python) (2024.11.6)\n",
      "Requirement already satisfied: exceptiongroup>=1.0.2 in /home/debian/.local/lib/python3.10/site-packages (from anyio<5,>=3.5.0->anthropic<1,>=0.49.0->langchain-anthropic) (1.2.2)\n",
      "Requirement already satisfied: jsonpointer>=1.9 in /home/debian/.local/lib/python3.10/site-packages (from jsonpatch<2.0,>=1.33->langchain-core<1.0.0,>=0.3.45->langchain-community) (3.0.0)\n",
      "Requirement already satisfied: mypy-extensions>=0.3.0 in /home/debian/.local/lib/python3.10/site-packages (from typing-inspect<1,>=0.4.0->dataclasses-json<0.7,>=0.5.7->langchain-community) (1.0.0)\n",
      "Installing collected packages: xxhash, ormsgpack, jiter, aiosqlite, tiktoken, tavily-python, langgraph-sdk, anthropic, langgraph-checkpoint, langchain-anthropic, langgraph-prebuilt, langgraph-checkpoint-sqlite, langgraph\n",
      "Successfully installed aiosqlite-0.21.0 anthropic-0.49.0 jiter-0.9.0 langchain-anthropic-0.3.10 langgraph-0.3.20 langgraph-checkpoint-2.0.23 langgraph-checkpoint-sqlite-2.0.6 langgraph-prebuilt-0.1.4 langgraph-sdk-0.1.58 ormsgpack-1.9.0 tavily-python-0.5.1 tiktoken-0.9.0 xxhash-3.5.0\n",
      "Note: you may need to restart the kernel to use updated packages.\n"
     ]
    }
   ],
   "source": [
    "%pip install -U langchain-community langgraph langchain-anthropic tavily-python langgraph-checkpoint-sqlite"
   ]
  },
  {
   "cell_type": "code",
   "execution_count": 2,
   "id": "1c00d5fa-a820-4508-845a-75bdd5fd48e1",
   "metadata": {},
   "outputs": [],
   "source": [
    "import getpass\n",
    "import os\n",
    "\n",
    "os.environ[\"TAVILY_API_KEY\"] = \"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\""
   ]
  },
  {
   "cell_type": "code",
   "execution_count": 3,
   "id": "abb1f6d3-a02a-4da7-acaa-589ff24ca75e",
   "metadata": {},
   "outputs": [
    {
     "name": "stdout",
     "output_type": "stream",
     "text": [
      "[{'title': 'Construction Industry News', 'url': 'https://www.constructionbusinessowner.com/news', 'content': 'Construction Industry News\\nWelcome to our Construction Industry News page, where we bring you the latest updates on mergers and acquisitions, key new hires, and significant industry shifts. Stay informed with breaking news and in-depth reporting to keep up with the fast-paced changes shaping the construction business.\\nCustom Equipment LLC Rebrands to AXCS Equipment [...] BELLEVUE, Wash., (Jan. 21, 2025) — Acumatica announced strategic partnerships and product integration with JobPlanner, a collaborative project management solution, and STACK Construction Technologies, a cloud-based construction software platform, that will address market needs through continued productivity gains and enhanced end-to-end project life cycle support.\\nNUCA Recognizes National Partner Caterpillar Gold Level Achievement [...] NEW YORK (Feb. 5, 2025) — Skanska USA, a global construction and development firm, has launched Skanska Advanced Technology (SAT), a new specialized operating unit focused on high-tech and semiconductor manufacturing. Part of the company’s USA Building business unit, SAT will be led by Executive Vice President and General Manager Katie Coulson.\\nABC: Construction Hiring Historically Slow in December, Lowest Since April 2020', 'score': 0.78611463}, {'title': 'Construction News', 'url': 'https://www.forconstructionpros.com/latest-news', 'content': 'Construction News ; $1.248 Trillion was Spent in Nonresidential Construction in January. March 4, 2025 ; FAYAT to Acquire MECALAC. March 3, 2025 ; World Of Asphalt', 'score': 0.74273956}]\n"
     ]
    }
   ],
   "source": [
    "from langchain_community.tools.tavily_search import TavilySearchResults\n",
    "\n",
    "search = TavilySearchResults(max_results=2)\n",
    "search_results = search.invoke(\"latest news on construction\")\n",
    "print(search_results)\n",
    "tools = [search]"
   ]
  },
  {
   "cell_type": "code",
   "execution_count": null,
   "id": "36af7e42-2473-4e3f-9cb7-5a427c741196",
   "metadata": {},
   "outputs": [],
   "source": []
  }
 ],
 "metadata": {
  "kernelspec": {
   "display_name": "Python 3 (ipykernel)",
   "language": "python",
   "name": "python3"
  },
  "language_info": {
   "codemirror_mode": {
    "name": "ipython",
    "version": 3
   },
   "file_extension": ".py",
   "mimetype": "text/x-python",
   "name": "python",
   "nbconvert_exporter": "python",
   "pygments_lexer": "ipython3",
   "version": "3.10.12"
  }
 },
 "nbformat": 4,
 "nbformat_minor": 5
}
